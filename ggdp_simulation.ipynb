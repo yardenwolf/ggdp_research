{
 "cells": [
  {
   "metadata": {},
   "cell_type": "markdown",
   "source": "## GGDP Simulation",
   "id": "4edec0d920463a9a"
  },
  {
   "metadata": {},
   "cell_type": "markdown",
   "source": "After imputing some of the data I still don't have enough samples to perform a wide enough quantile regression, specifcally QR which focuses on lower quantiles (such as q=0.05) which I am particularly interested in. There are now two options: imputing more data as I could possibly try and do some more calculations to extend the data imputation or because we can see GGDP and GDP distributions are quite similar maybe we can somehow simulate ggdp data using GDP data.",
   "id": "c9e2af22007e87b5"
  },
  {
   "metadata": {
    "ExecuteTime": {
     "end_time": "2024-06-09T16:28:09.689800Z",
     "start_time": "2024-06-09T16:28:09.672628Z"
    }
   },
   "cell_type": "code",
   "source": [
    "import pandas as pd\n",
    "import statsmodels.api as sm\n",
    "import statsmodels.formula.api as smf\n",
    "from statsmodels.tsa.stattools import coint\n",
    "\n",
    "ggdp_data = pd.read_pickle('ggdp_processed_data/finland_ggdp_imputed.pkl')\n",
    "ggdp_data_clean = ggdp_data.dropna(axis=0, how='any')\n",
    "\n",
    "#checking that both series are I(1)\n",
    "print(sm.tsa.stattools.adfuller(ggdp_data_clean['ggdp_ppp_growth']))\n",
    "print(sm.tsa.stattools.adfuller(ggdp_data_clean['gdp_ppp_growth']))\n",
    "\n",
    "#Now we check cointegration for both time-series\n",
    "print(coint(ggdp_data_clean['ggdp_ppp_growth'], ggdp_data_clean['gdp_real_growth']))\n",
    "#both series seems cointegrated at 5% significance, this means that both have the same stochastic trend and that I can regress one on the other. "
   ],
   "id": "9eae8aaaeadcc8cb",
   "outputs": [
    {
     "name": "stdout",
     "output_type": "stream",
     "text": [
      "(-4.444262050238324, 0.0002476349897740484, 0, 28, {'1%': -3.6889256286443146, '5%': -2.9719894897959187, '10%': -2.6252957653061224}, -72.11463123511959)\n",
      "(-4.4516567707225025, 0.0002402108531347846, 0, 28, {'1%': -3.6889256286443146, '5%': -2.9719894897959187, '10%': -2.6252957653061224}, -71.86327779433003)\n",
      "(-4.189783246851691, 0.003780017050402098, array([-4.33034332, -3.56305066, -3.19939082]))\n"
     ]
    }
   ],
   "execution_count": 30
  },
  {
   "metadata": {},
   "cell_type": "markdown",
   "source": [
    "Using Dickey Fuller test: both time series ggdp_ppp_growth and gdp_real_growth are $I(1)$.\n",
    "When we check if they are co-integrated using Augmented Engle-Granget two-step cointegration test.\n",
    "We see that we get a critical value of -4.189. We can reject the null hypothesis that they are not cointegrated at 5% significance.\n",
    "Since both the time series are cointegrated they have the same stochastic trend, errors are stationary. Meaning that we can regress one on the other without it being a spurious regression.\n",
    "We now want to check the OLS regression to see if we can get a significant model"
   ],
   "id": "c41beb59e7fce65e"
  },
  {
   "metadata": {
    "ExecuteTime": {
     "end_time": "2024-06-09T16:28:10.628734Z",
     "start_time": "2024-06-09T16:28:10.610836Z"
    }
   },
   "cell_type": "code",
   "source": [
    "ggdp_model = smf.ols('ggdp_ppp_growth ~ gdp_real_growth', data=ggdp_data_clean)\n",
    "ggdp_fit = ggdp_model.fit()\n",
    "print(ggdp_fit.summary())"
   ],
   "id": "29ba416515bf116b",
   "outputs": [
    {
     "name": "stdout",
     "output_type": "stream",
     "text": [
      "                            OLS Regression Results                            \n",
      "==============================================================================\n",
      "Dep. Variable:        ggdp_ppp_growth   R-squared:                       0.766\n",
      "Model:                            OLS   Adj. R-squared:                  0.757\n",
      "Method:                 Least Squares   F-statistic:                     88.38\n",
      "Date:                Sun, 09 Jun 2024   Prob (F-statistic):           5.25e-10\n",
      "Time:                        17:28:10   Log-Likelihood:                 79.163\n",
      "No. Observations:                  29   AIC:                            -154.3\n",
      "Df Residuals:                      27   BIC:                            -151.6\n",
      "Df Model:                           1                                         \n",
      "Covariance Type:            nonrobust                                         \n",
      "===================================================================================\n",
      "                      coef    std err          t      P>|t|      [0.025      0.975]\n",
      "-----------------------------------------------------------------------------------\n",
      "Intercept           0.0250      0.004      7.008      0.000       0.018       0.032\n",
      "gdp_real_growth     0.9331      0.099      9.401      0.000       0.729       1.137\n",
      "==============================================================================\n",
      "Omnibus:                        0.147   Durbin-Watson:                   1.601\n",
      "Prob(Omnibus):                  0.929   Jarque-Bera (JB):                0.313\n",
      "Skew:                           0.137   Prob(JB):                        0.855\n",
      "Kurtosis:                       2.570   Cond. No.                         32.7\n",
      "==============================================================================\n",
      "\n",
      "Notes:\n",
      "[1] Standard Errors assume that the covariance matrix of the errors is correctly specified.\n"
     ]
    }
   ],
   "execution_count": 31
  },
  {
   "metadata": {},
   "cell_type": "markdown",
   "source": [
    "We got a significant model: $$GDP Growth \\[PPP\\] = 0.0250 + 0.9331 \\cdot GDP Real Growth_t + \\epsilon_t $$\n",
    "We can use this model estimate past GGDP figures. we cannot use this to estimate quarterly data because this was assumed using annual dynamics.\n",
    "This is very helpful because it means we can expand our data to the future and to the past quite a lot.\n"
   ],
   "id": "c8beddc9c704596a"
  },
  {
   "metadata": {
    "ExecuteTime": {
     "end_time": "2024-06-09T16:28:11.821499Z",
     "start_time": "2024-06-09T16:28:11.796109Z"
    }
   },
   "cell_type": "code",
   "source": [
    "from typing import Union\n",
    "\n",
    "import numpy as np\n",
    "\n",
    "\n",
    "def simulate_missing_ggdp_values(ppp_growth: Union[np.nan, float], real_growth: float, alpha: float, beta: float):\n",
    "    if not np.isnan(ppp_growth):\n",
    "        return ppp_growth\n",
    "    return alpha + beta * real_growth\n",
    "\n",
    "\n",
    "ggdp_data_simulated = ggdp_data[['ggdp_ppp_growth', 'gdp_real_growth']]\n",
    "ggdp_data_simulated['ggdp_ppp_growth_simulated'] = ggdp_data_simulated.apply(\n",
    "    lambda x: simulate_missing_ggdp_values(x['ggdp_ppp_growth'],\n",
    "                                           x['gdp_real_growth'],\n",
    "                                           ggdp_fit.params['Intercept'],\n",
    "                                           ggdp_fit.params['gdp_real_growth']), axis=1)\n",
    "\n",
    "ggdp_data_simulated.to_pickle('ggdp_processed_data/ggdp_ppp_simulated_data.pkl')"
   ],
   "id": "37aae012dbd93adb",
   "outputs": [
    {
     "name": "stderr",
     "output_type": "stream",
     "text": [
      "C:\\Users\\yarde\\AppData\\Local\\Temp\\ipykernel_18932\\577027438.py:13: SettingWithCopyWarning: \n",
      "A value is trying to be set on a copy of a slice from a DataFrame.\n",
      "Try using .loc[row_indexer,col_indexer] = value instead\n",
      "\n",
      "See the caveats in the documentation: https://pandas.pydata.org/pandas-docs/stable/user_guide/indexing.html#returning-a-view-versus-a-copy\n",
      "  ggdp_data_simulated['ggdp_ppp_growth_simulated'] = ggdp_data_simulated.apply(\n"
     ]
    }
   ],
   "execution_count": 32
  },
  {
   "metadata": {},
   "cell_type": "code",
   "outputs": [],
   "execution_count": null,
   "source": "",
   "id": "908c796c71075c4b"
  }
 ],
 "metadata": {
  "kernelspec": {
   "display_name": "Python 3",
   "language": "python",
   "name": "python3"
  },
  "language_info": {
   "codemirror_mode": {
    "name": "ipython",
    "version": 2
   },
   "file_extension": ".py",
   "mimetype": "text/x-python",
   "name": "python",
   "nbconvert_exporter": "python",
   "pygments_lexer": "ipython2",
   "version": "2.7.6"
  }
 },
 "nbformat": 4,
 "nbformat_minor": 5
}
