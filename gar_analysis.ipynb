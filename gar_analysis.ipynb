{
 "cells": [
  {
   "metadata": {},
   "cell_type": "markdown",
   "source": [
    "# GaR Analysis\n",
    "Now that we have some ggdp samples we can start doing the analysis. In order to perform quantile regression it is suggested to use PCA to find the indicators which explain in the best way variance in the data. \n",
    "I am now going to read about Finland's economy in order to come up with a set of financial indicators that I can conduct the analysis on and choose a few indicators to create a partition from."
   ],
   "id": "fec819a7cf09960a"
  },
  {
   "metadata": {},
   "cell_type": "markdown",
   "source": [
    "## Finland's Economy\n",
    "From IMF report on Finland\n",
    "The Finnish banking sector is highly interconnected with the wider Nordic/Baltic\n",
    "region - This brings financial diversification, but also considerable contagion risk. Finnish banks’ net\n",
    "foreign assets have gradually increased since the GFC and are 26.5 percent of GDP. The largest cross\n",
    "border exposures are to the Nordics and euro area. The banking sector is also exposed to indirect\n",
    "linkages from trade, with largest trade exposures to Germany, Sweden, the United States, and the\n",
    "Russian Federation\n",
    "\n",
    "| Indicator     | Description |\n",
    "|---------------| ----------- |\n",
    "| Interest Rate | Title       |\n",
    "| 123           | Text        |"
   ],
   "id": "9bb9470bee088676"
  },
  {
   "metadata": {},
   "cell_type": "code",
   "outputs": [],
   "execution_count": null,
   "source": "",
   "id": "689b4a91f4b37322"
  }
 ],
 "metadata": {
  "kernelspec": {
   "display_name": "Python 3",
   "language": "python",
   "name": "python3"
  },
  "language_info": {
   "codemirror_mode": {
    "name": "ipython",
    "version": 2
   },
   "file_extension": ".py",
   "mimetype": "text/x-python",
   "name": "python",
   "nbconvert_exporter": "python",
   "pygments_lexer": "ipython2",
   "version": "2.7.6"
  }
 },
 "nbformat": 4,
 "nbformat_minor": 5
}
