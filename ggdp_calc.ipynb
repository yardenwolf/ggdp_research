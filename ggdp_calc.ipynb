{
 "cells": [
  {
   "cell_type": "markdown",
   "id": "4b2ecf10-f97d-4a0c-b2fe-6c085abd7f1e",
   "metadata": {
    "collapsed": true,
    "jupyter": {
     "outputs_hidden": true
    }
   },
   "source": [
    "## Choosing EU ETS vs Carbon TAX\n",
    "EU ETS start only at 2005 and Carbon Tax depends on countries that have already implemented it but could go as early as 1990."
   ]
  },
  {
   "cell_type": "code",
   "id": "ae51894a-42ab-4233-a1bb-6836ddb33776",
   "metadata": {
    "ExecuteTime": {
     "end_time": "2024-05-13T16:17:59.322739Z",
     "start_time": "2024-05-13T16:17:59.219479Z"
    }
   },
   "source": [
    "import numpy as np\n",
    "import pandas as pd\n",
    "import statsmodels.api as sm\n",
    "\n",
    "carbon_pricing_data = pd.read_excel('./ggdp_data/world_bank/world_bank_carbon_pricing.xlsx', header=1,\n",
    "                                    sheet_name='Compliance_Price', na_values='-')\n",
    "carbon_pricing_data = carbon_pricing_data.set_index('Name of the initiative').T\n",
    "carbon_pricing_data.rename(columns=lambda x: str.lower(x.replace(' ', '_')), inplace=True)\n",
    "#dropping all metadata rows\n",
    "carbon_pricing_data = carbon_pricing_data.iloc[7:]\n",
    "carbon_pricing_data = carbon_pricing_data.apply(pd.to_numeric)\n",
    "carbon_pricing_data.index = [str(x) for x in carbon_pricing_data.index]\n",
    "\n",
    "eu_ets = carbon_pricing_data['eu_ets']\n",
    "finland_carbon_tax = carbon_pricing_data['finland_carbon_tax']\n",
    "#Finland has two types of carbon tax: Transport fuels, heating fuels which are the same across the whole series\n",
    "finland_carbon_tax = finland_carbon_tax.iloc[:, 0]"
   ],
   "outputs": [],
   "execution_count": 24
  },
  {
   "cell_type": "code",
   "id": "e90c3210765b3663",
   "metadata": {
    "ExecuteTime": {
     "end_time": "2024-05-13T16:17:59.887596Z",
     "start_time": "2024-05-13T16:17:59.859520Z"
    }
   },
   "source": [
    "#checking to see if EU ETS can proxy for carbon tax or the other way round. Does any one of them hold and additional information?\n",
    "ets_joined_carbon_tax = pd.DataFrame(eu_ets).join(finland_carbon_tax)\n",
    "ets_joined_carbon_tax = ets_joined_carbon_tax.dropna()\n",
    "ets_joined_carbon_tax.head()\n",
    "\n",
    "model = sm.OLS.from_formula('eu_ets ~ finland_carbon_tax', data=ets_joined_carbon_tax)\n",
    "results = model.fit()\n",
    "results.summary()\n"
   ],
   "outputs": [
    {
     "name": "stderr",
     "output_type": "stream",
     "text": [
      "C:\\Users\\yarde\\anaconda3\\envs\\ggdp-research\\Lib\\site-packages\\scipy\\stats\\_axis_nan_policy.py:531: UserWarning: kurtosistest only valid for n>=20 ... continuing anyway, n=19\n",
      "  res = hypotest_fun_out(*samples, **kwds)\n"
     ]
    },
    {
     "data": {
      "text/plain": [
       "<class 'statsmodels.iolib.summary.Summary'>\n",
       "\"\"\"\n",
       "                            OLS Regression Results                            \n",
       "==============================================================================\n",
       "Dep. Variable:                 eu_ets   R-squared:                       0.165\n",
       "Model:                            OLS   Adj. R-squared:                  0.116\n",
       "Method:                 Least Squares   F-statistic:                     3.365\n",
       "Date:                Mon, 13 May 2024   Prob (F-statistic):             0.0842\n",
       "Time:                        17:17:59   Log-Likelihood:                -86.898\n",
       "No. Observations:                  19   AIC:                             177.8\n",
       "Df Residuals:                      17   BIC:                             179.7\n",
       "Df Model:                           1                                         \n",
       "Covariance Type:            nonrobust                                         \n",
       "======================================================================================\n",
       "                         coef    std err          t      P>|t|      [0.025      0.975]\n",
       "--------------------------------------------------------------------------------------\n",
       "Intercept              7.4432     11.154      0.667      0.514     -16.090      30.976\n",
       "finland_carbon_tax     0.3522      0.192      1.834      0.084      -0.053       0.757\n",
       "==============================================================================\n",
       "Omnibus:                        6.489   Durbin-Watson:                   0.533\n",
       "Prob(Omnibus):                  0.039   Jarque-Bera (JB):                4.314\n",
       "Skew:                           1.139   Prob(JB):                        0.116\n",
       "Kurtosis:                       3.508   Cond. No.                         114.\n",
       "==============================================================================\n",
       "\n",
       "Notes:\n",
       "[1] Standard Errors assume that the covariance matrix of the errors is correctly specified.\n",
       "\"\"\""
      ],
      "text/html": [
       "<table class=\"simpletable\">\n",
       "<caption>OLS Regression Results</caption>\n",
       "<tr>\n",
       "  <th>Dep. Variable:</th>         <td>eu_ets</td>      <th>  R-squared:         </th> <td>   0.165</td>\n",
       "</tr>\n",
       "<tr>\n",
       "  <th>Model:</th>                   <td>OLS</td>       <th>  Adj. R-squared:    </th> <td>   0.116</td>\n",
       "</tr>\n",
       "<tr>\n",
       "  <th>Method:</th>             <td>Least Squares</td>  <th>  F-statistic:       </th> <td>   3.365</td>\n",
       "</tr>\n",
       "<tr>\n",
       "  <th>Date:</th>             <td>Mon, 13 May 2024</td> <th>  Prob (F-statistic):</th>  <td>0.0842</td> \n",
       "</tr>\n",
       "<tr>\n",
       "  <th>Time:</th>                 <td>17:17:59</td>     <th>  Log-Likelihood:    </th> <td> -86.898</td>\n",
       "</tr>\n",
       "<tr>\n",
       "  <th>No. Observations:</th>      <td>    19</td>      <th>  AIC:               </th> <td>   177.8</td>\n",
       "</tr>\n",
       "<tr>\n",
       "  <th>Df Residuals:</th>          <td>    17</td>      <th>  BIC:               </th> <td>   179.7</td>\n",
       "</tr>\n",
       "<tr>\n",
       "  <th>Df Model:</th>              <td>     1</td>      <th>                     </th>     <td> </td>   \n",
       "</tr>\n",
       "<tr>\n",
       "  <th>Covariance Type:</th>      <td>nonrobust</td>    <th>                     </th>     <td> </td>   \n",
       "</tr>\n",
       "</table>\n",
       "<table class=\"simpletable\">\n",
       "<tr>\n",
       "           <td></td>             <th>coef</th>     <th>std err</th>      <th>t</th>      <th>P>|t|</th>  <th>[0.025</th>    <th>0.975]</th>  \n",
       "</tr>\n",
       "<tr>\n",
       "  <th>Intercept</th>          <td>    7.4432</td> <td>   11.154</td> <td>    0.667</td> <td> 0.514</td> <td>  -16.090</td> <td>   30.976</td>\n",
       "</tr>\n",
       "<tr>\n",
       "  <th>finland_carbon_tax</th> <td>    0.3522</td> <td>    0.192</td> <td>    1.834</td> <td> 0.084</td> <td>   -0.053</td> <td>    0.757</td>\n",
       "</tr>\n",
       "</table>\n",
       "<table class=\"simpletable\">\n",
       "<tr>\n",
       "  <th>Omnibus:</th>       <td> 6.489</td> <th>  Durbin-Watson:     </th> <td>   0.533</td>\n",
       "</tr>\n",
       "<tr>\n",
       "  <th>Prob(Omnibus):</th> <td> 0.039</td> <th>  Jarque-Bera (JB):  </th> <td>   4.314</td>\n",
       "</tr>\n",
       "<tr>\n",
       "  <th>Skew:</th>          <td> 1.139</td> <th>  Prob(JB):          </th> <td>   0.116</td>\n",
       "</tr>\n",
       "<tr>\n",
       "  <th>Kurtosis:</th>      <td> 3.508</td> <th>  Cond. No.          </th> <td>    114.</td>\n",
       "</tr>\n",
       "</table><br/><br/>Notes:<br/>[1] Standard Errors assume that the covariance matrix of the errors is correctly specified."
      ],
      "text/latex": "\\begin{center}\n\\begin{tabular}{lclc}\n\\toprule\n\\textbf{Dep. Variable:}       &     eu\\_ets      & \\textbf{  R-squared:         } &     0.165   \\\\\n\\textbf{Model:}               &       OLS        & \\textbf{  Adj. R-squared:    } &     0.116   \\\\\n\\textbf{Method:}              &  Least Squares   & \\textbf{  F-statistic:       } &     3.365   \\\\\n\\textbf{Date:}                & Mon, 13 May 2024 & \\textbf{  Prob (F-statistic):} &   0.0842    \\\\\n\\textbf{Time:}                &     17:17:59     & \\textbf{  Log-Likelihood:    } &   -86.898   \\\\\n\\textbf{No. Observations:}    &          19      & \\textbf{  AIC:               } &     177.8   \\\\\n\\textbf{Df Residuals:}        &          17      & \\textbf{  BIC:               } &     179.7   \\\\\n\\textbf{Df Model:}            &           1      & \\textbf{                     } &             \\\\\n\\textbf{Covariance Type:}     &    nonrobust     & \\textbf{                     } &             \\\\\n\\bottomrule\n\\end{tabular}\n\\begin{tabular}{lcccccc}\n                              & \\textbf{coef} & \\textbf{std err} & \\textbf{t} & \\textbf{P$> |$t$|$} & \\textbf{[0.025} & \\textbf{0.975]}  \\\\\n\\midrule\n\\textbf{Intercept}            &       7.4432  &       11.154     &     0.667  &         0.514        &      -16.090    &       30.976     \\\\\n\\textbf{finland\\_carbon\\_tax} &       0.3522  &        0.192     &     1.834  &         0.084        &       -0.053    &        0.757     \\\\\n\\bottomrule\n\\end{tabular}\n\\begin{tabular}{lclc}\n\\textbf{Omnibus:}       &  6.489 & \\textbf{  Durbin-Watson:     } &    0.533  \\\\\n\\textbf{Prob(Omnibus):} &  0.039 & \\textbf{  Jarque-Bera (JB):  } &    4.314  \\\\\n\\textbf{Skew:}          &  1.139 & \\textbf{  Prob(JB):          } &    0.116  \\\\\n\\textbf{Kurtosis:}      &  3.508 & \\textbf{  Cond. No.          } &     114.  \\\\\n\\bottomrule\n\\end{tabular}\n%\\caption{OLS Regression Results}\n\\end{center}\n\nNotes: \\newline\n [1] Standard Errors assume that the covariance matrix of the errors is correctly specified."
     },
     "execution_count": 25,
     "metadata": {},
     "output_type": "execute_result"
    }
   ],
   "execution_count": 25
  },
  {
   "metadata": {},
   "cell_type": "markdown",
   "source": [
    "### Analysing Results\n",
    "I was looking to see if ets and carbon tax are very correlated, if they are then I could probably assume that one of them proxies for the other. We can see that linear relationship between the variables is insignificant. Meaning that they don't proxy linearly for each other. Thus I should probably use one of them or a combination of both when calculating the GGDP results."
   ],
   "id": "c7ac4689c0d77af7"
  },
  {
   "metadata": {},
   "cell_type": "markdown",
   "source": [
    "## Calculating GGDP\n",
    "The base formula which I'm going to use is this: $ GGDP = GDP - KtCO_{2} \\cdot P_{tCO_2} - Twaste \\cdot 74 kWh \\cdot P_{1 kWh elec} - GNI \\cdot \\% NRD/100 $\n",
    "\n",
    "First term - air pollution\n",
    "Second Term - waste pollution translated into electricity cost\n",
    "Third Term - Natural resource depletion\n",
    "\n",
    "The 74 figure is based on different papers: check this\n",
    "\n",
    "Managed to find all the data for this: arises the question of what data to include and how.\n",
    "\n",
    "The problems with this base formula are:\n",
    "1. doesn't account for defensive costs - the cost of restoring and protecting the environment. Need to find figures for this.\n",
    "2. the figure 74 isn't really based on anything concrete (the citing is quite unclear)\n",
    "3. no accounting for green innovation - not even sure if I want to add this, but perhaps I should\n",
    "\n",
    "The main problem with actually deriving GGDP is data availability and lack of accounting standard that can be implemented using available data.\n",
    "\n",
    "### Making some adjustments to get more accurate data\n",
    "\n",
    "The term $Natural Resource Depletion Cost = GNI \\cdot \\% NRD/100 $$ is in effect caulculated using current $ terms of GNI and not GNI[PPP] which changes the calculation method and the units. So insted we will now just directly calculate $NRD Cost = C_{forest} + C_{mineral} + C_{energy}$ (as the World Bank calculates it in the WDI database).\n",
    "In addition, we will not use the figure 74kWh because it's not really clear what it's based on, but I found a paper that explains that it's possible to create a closed self-sustainable system which generates 800kWh per 2 tons/hour waste -> 400 kWh from 1 ton/hour of waste.\n",
    "\n",
    "Particulate Emission Damage - another available series is particulate emission damage, which in my opinion accounts for some of the health adjustments to GDP as a result of using non-green drivers. It is not necessarily required so I will first calculate GGDP without it and then add it to see how it affects it.\n",
    "\n",
    "Defensive Costs - Defensive costs for finland started being recorded only from around 2014 which doesn't allow for much data. The question that arises is whether it should be accounted for at all since the data is in fact incomplete (Finland didn't really only start investing in defensive costs only since 2014). It would be possible to simulate some of the data for this, but I don't think it's a good idea because we have so little samples for this data.\n",
    "\n",
    "Essentially the formula we are going to use is: \\\n",
    "$ GGDP_{t} = GDP_{t} - C_{e,t}-C_{r,t}-C_{s,t} $ \\\n",
    "$ C_{e,t} = cdot CO2 \\cdot P_{co2} $ \\\n",
    "$ C_{r,t} = NRD Cost_{t} = C_{forest,t} + C_{mineral,t} + C_{energy,t}$ \\\n",
    "$ C_{s,t} = Particulate Damage Cost $\n"
   ],
   "id": "b4b94bfc93ce9875"
  },
  {
   "metadata": {
    "ExecuteTime": {
     "end_time": "2024-05-13T16:18:01.671128Z",
     "start_time": "2024-05-13T16:18:01.637173Z"
    }
   },
   "cell_type": "code",
   "source": [
    "wdi_data = pd.read_excel('./ggdp_data/world_bank/P_Data_Extract_From_World_Development_Indicators_v2.xlsx', header=0,\n",
    "                         sheet_name='Data', na_values='..')\n",
    "wdi_data = wdi_data.set_index('Country Name').T\n",
    "wdi_data = wdi_data.drop(['Series Code'])\n",
    "wdi_data = wdi_data.rename({\"Series Name\": \"variable_name\"})\n",
    "wdi_data = wdi_data.rename(index=lambda x: x[:y] if (y := x.find(' ')) != -1 else x)\n",
    "wdi_data = wdi_data.dropna(axis='columns', how='all')\n",
    "\n",
    "\n",
    "def replace_values_from_dict(curr_value, value_dict: dict):\n",
    "    try:\n",
    "        return value_dict[curr_value]\n",
    "    except KeyError:\n",
    "        return curr_value\n",
    "\n",
    "\n",
    "# wdi_variables_to_replace = {'GNI, PPP (current international $)': 'gni_ppp',\n",
    "#                             'Adjusted savings: carbon dioxide damage (% of GNI)': 'as_co2_damage_gni',\n",
    "#                             'Adjusted savings: natural resources depletion (% of GNI)': 'as_nrd_gni',\n",
    "#                             'Adjusted savings: particulate emission damage (% of GNI)': 'as_ped_gbi',\n",
    "#                             'GNI (current US$)': 'gni_dollar',\n",
    "#                             'CO2 emissions (kt)': 'co2_kt',\n",
    "#                             'Total greenhouse gas emissions (kt of CO2 equivalent)': 'total_gge_kt',\n",
    "#                             'GDP, PPP (current international $)': 'gdp_ppp',\n",
    "#                             'GDP (current US$)': 'gdp_dollar',\n",
    "#                             'PPP conversion factor, GDP (LCU per international $)': 'ppp_lcu_to_dollar'}\n",
    "\n",
    "#I refer to international dollar as ppp\n",
    "wdi_variables_to_replace = {'CO2 emissions (kt)': 'co2_kt',\n",
    "                            'GDP (current US$)': 'gdp_dollar',\n",
    "                            'Adjusted savings: energy depletion (current US$)': 'as_energy_depletion',\n",
    "                            'Adjusted savings: mineral depletion (current US$)': 'as_mineral_depletion',\n",
    "                            'Adjusted savings: net forest depletion (current US$)': 'as_forest_depletion',\n",
    "                            'PPP conversion factor, GDP (LCU per international $)': 'lcu_to_ppp',\n",
    "                            'Adjusted savings: particulate emission damage (current US$)': 'as_particulate_emission_damage',\n",
    "                            'GDP, PPP (current international $)': 'gdp_ppp',\n",
    "                            'GDP (current LCU)': 'gdp_lcu'}\n",
    "\n",
    "#def lower_only_letters(curr_str:str):\n",
    "\n",
    "\n",
    "#renaming variables\n",
    "wdi_data.loc['variable_name'] = (wdi_data.loc['variable_name']).apply(replace_values_from_dict,\n",
    "                                                                      args=(wdi_variables_to_replace,))\n",
    "\n",
    "\n",
    "def change_col_names_to_country(df: pd.DataFrame):\n",
    "    column_name_list = []\n",
    "    curr_col_name: str\n",
    "    for curr_col_name, curr_series in df.items():\n",
    "        #'country-name'_'variable-name'\n",
    "        new_column_name = f'{curr_col_name.lower()}_{curr_series[\"variable_name\"]}'\n",
    "        column_name_list.append(new_column_name)\n",
    "    df.columns = column_name_list\n",
    "\n",
    "\n",
    "#combine all finland data into one dataframe to avoid problems with dates\n",
    "finland_data = wdi_data['Finland']\n",
    "change_col_names_to_country(finland_data)\n",
    "finland_data = finland_data.drop(index=['Country', 'variable_name'])\n",
    "finland_data = finland_data.join(finland_carbon_tax, how='left')\n",
    "\n",
    "finland_data = finland_data.apply(pd.to_numeric)\n",
    "\n",
    "#calculating natural resource depletion cost in dollars\n",
    "finland_data['finland_as_nrd_cost'] = (finland_data['finland_as_energy_depletion'] +\n",
    "                                       finland_data['finland_as_mineral_depletion'] +\n",
    "                                       finland_data['finland_as_forest_depletion'])\n",
    "\n",
    "#use this to convert from EUR to current dollar\n",
    "finland_data['finland_dollar_to_lcu'] = finland_data['finland_gdp_dollar'] / finland_data['finland_gdp_lcu']\n",
    "finland_data['finland_ppp_to_dollar'] = 1 / (finland_data['finland_dollar_to_lcu'] * finland_data['finland_lcu_to_ppp'])\n"
   ],
   "id": "d00e464f5c09c8d",
   "outputs": [],
   "execution_count": 26
  },
  {
   "metadata": {},
   "cell_type": "markdown",
   "source": [
    "There's a problem with calculating waste because not enough waste data is available in order to constrcut the waste cost term. So there's a need to do imputation.\n",
    "I thought it would make sense to do the imputation by regressing waste on gdp, since as the country has more economic output the more waste it's going to have.\n",
    "We can see that when we run the regression we get a very high R-squared and that the model seems to be $Net Waste = 0.0005 * GDP[PPP] $, the slope coefficient is significant. We can use this result to fill in the missing values all the way to 1990."
   ],
   "id": "3b1b78fa67fede04"
  },
  {
   "metadata": {
    "ExecuteTime": {
     "end_time": "2024-05-13T16:18:02.694951Z",
     "start_time": "2024-05-13T16:18:02.649944Z"
    }
   },
   "cell_type": "code",
   "source": [
    "#Waste calculation\n",
    "# Waste generation data preparation and projections\n",
    "waste_gen_data = pd.read_csv('./ggdp_data/eurostat_generation_of_waste_by_category.csv')\n",
    "waste_treatment_data = pd.read_csv('./ggdp_data/eurostat_waste_treatment_by_waste_category.csv')\n",
    "\n",
    "#getting Finland's total waste generation\n",
    "finland_gen_total = waste_gen_data[(waste_gen_data['geo'] == 'FI') & (waste_gen_data['waste'] == 'TOTAL')]\n",
    "finland_gen_total.index = finland_gen_total['TIME_PERIOD']\n",
    "#getting Finland's total energy recovery from waste, since we are pricing waste through energy prices.\n",
    "finland_energy_recovery = waste_treatment_data[\n",
    "    (waste_treatment_data['geo'] == 'FI') & (waste_treatment_data['wst_oper'] == 'RCV_E')]\n",
    "finland_energy_recovery.index = finland_energy_recovery['TIME_PERIOD']\n",
    "\n",
    "net_waste_data = pd.DataFrame()\n",
    "#calculating net waste: net_waste = generated_waste - energy_recovered_from_waste\n",
    "net_waste_data['finland_net_waste'] = finland_gen_total['OBS_VALUE'] - finland_energy_recovery['OBS_VALUE']\n",
    "\n",
    "net_waste_data.index = [str(x) for x in net_waste_data.index]\n",
    "\n",
    "#is GDP correlated with waste\n",
    "\n",
    "gdp_waste_data = net_waste_data.join(finland_data['finland_gdp_ppp'])\n",
    "\n",
    "model = sm.OLS.from_formula('finland_net_waste ~ finland_gdp_ppp', data=gdp_waste_data)\n",
    "results = model.fit()\n",
    "results.summary()"
   ],
   "id": "87fc7edb5736cf55",
   "outputs": [
    {
     "name": "stderr",
     "output_type": "stream",
     "text": [
      "C:\\Users\\yarde\\anaconda3\\envs\\ggdp-research\\Lib\\site-packages\\scipy\\stats\\_axis_nan_policy.py:531: UserWarning: kurtosistest only valid for n>=20 ... continuing anyway, n=9\n",
      "  res = hypotest_fun_out(*samples, **kwds)\n"
     ]
    },
    {
     "data": {
      "text/plain": [
       "<class 'statsmodels.iolib.summary.Summary'>\n",
       "\"\"\"\n",
       "                            OLS Regression Results                            \n",
       "==============================================================================\n",
       "Dep. Variable:      finland_net_waste   R-squared:                       0.774\n",
       "Model:                            OLS   Adj. R-squared:                  0.742\n",
       "Method:                 Least Squares   F-statistic:                     23.97\n",
       "Date:                Mon, 13 May 2024   Prob (F-statistic):            0.00176\n",
       "Time:                        17:18:02   Log-Likelihood:                -158.04\n",
       "No. Observations:                   9   AIC:                             320.1\n",
       "Df Residuals:                       7   BIC:                             320.5\n",
       "Df Model:                           1                                         \n",
       "Covariance Type:            nonrobust                                         \n",
       "===================================================================================\n",
       "                      coef    std err          t      P>|t|      [0.025      0.975]\n",
       "-----------------------------------------------------------------------------------\n",
       "Intercept       -1.773e+07   2.24e+07     -0.792      0.454   -7.07e+07    3.52e+07\n",
       "finland_gdp_ppp     0.0005   9.76e-05      4.896      0.002       0.000       0.001\n",
       "==============================================================================\n",
       "Omnibus:                        0.956   Durbin-Watson:                   2.067\n",
       "Prob(Omnibus):                  0.620   Jarque-Bera (JB):                0.645\n",
       "Skew:                           0.244   Prob(JB):                        0.724\n",
       "Kurtosis:                       1.783   Cond. No.                     1.33e+12\n",
       "==============================================================================\n",
       "\n",
       "Notes:\n",
       "[1] Standard Errors assume that the covariance matrix of the errors is correctly specified.\n",
       "[2] The condition number is large, 1.33e+12. This might indicate that there are\n",
       "strong multicollinearity or other numerical problems.\n",
       "\"\"\""
      ],
      "text/html": [
       "<table class=\"simpletable\">\n",
       "<caption>OLS Regression Results</caption>\n",
       "<tr>\n",
       "  <th>Dep. Variable:</th>    <td>finland_net_waste</td> <th>  R-squared:         </th> <td>   0.774</td>\n",
       "</tr>\n",
       "<tr>\n",
       "  <th>Model:</th>                   <td>OLS</td>        <th>  Adj. R-squared:    </th> <td>   0.742</td>\n",
       "</tr>\n",
       "<tr>\n",
       "  <th>Method:</th>             <td>Least Squares</td>   <th>  F-statistic:       </th> <td>   23.97</td>\n",
       "</tr>\n",
       "<tr>\n",
       "  <th>Date:</th>             <td>Mon, 13 May 2024</td>  <th>  Prob (F-statistic):</th>  <td>0.00176</td>\n",
       "</tr>\n",
       "<tr>\n",
       "  <th>Time:</th>                 <td>17:18:02</td>      <th>  Log-Likelihood:    </th> <td> -158.04</td>\n",
       "</tr>\n",
       "<tr>\n",
       "  <th>No. Observations:</th>      <td>     9</td>       <th>  AIC:               </th> <td>   320.1</td>\n",
       "</tr>\n",
       "<tr>\n",
       "  <th>Df Residuals:</th>          <td>     7</td>       <th>  BIC:               </th> <td>   320.5</td>\n",
       "</tr>\n",
       "<tr>\n",
       "  <th>Df Model:</th>              <td>     1</td>       <th>                     </th>     <td> </td>   \n",
       "</tr>\n",
       "<tr>\n",
       "  <th>Covariance Type:</th>      <td>nonrobust</td>     <th>                     </th>     <td> </td>   \n",
       "</tr>\n",
       "</table>\n",
       "<table class=\"simpletable\">\n",
       "<tr>\n",
       "         <td></td>            <th>coef</th>     <th>std err</th>      <th>t</th>      <th>P>|t|</th>  <th>[0.025</th>    <th>0.975]</th>  \n",
       "</tr>\n",
       "<tr>\n",
       "  <th>Intercept</th>       <td>-1.773e+07</td> <td> 2.24e+07</td> <td>   -0.792</td> <td> 0.454</td> <td>-7.07e+07</td> <td> 3.52e+07</td>\n",
       "</tr>\n",
       "<tr>\n",
       "  <th>finland_gdp_ppp</th> <td>    0.0005</td> <td> 9.76e-05</td> <td>    4.896</td> <td> 0.002</td> <td>    0.000</td> <td>    0.001</td>\n",
       "</tr>\n",
       "</table>\n",
       "<table class=\"simpletable\">\n",
       "<tr>\n",
       "  <th>Omnibus:</th>       <td> 0.956</td> <th>  Durbin-Watson:     </th> <td>   2.067</td>\n",
       "</tr>\n",
       "<tr>\n",
       "  <th>Prob(Omnibus):</th> <td> 0.620</td> <th>  Jarque-Bera (JB):  </th> <td>   0.645</td>\n",
       "</tr>\n",
       "<tr>\n",
       "  <th>Skew:</th>          <td> 0.244</td> <th>  Prob(JB):          </th> <td>   0.724</td>\n",
       "</tr>\n",
       "<tr>\n",
       "  <th>Kurtosis:</th>      <td> 1.783</td> <th>  Cond. No.          </th> <td>1.33e+12</td>\n",
       "</tr>\n",
       "</table><br/><br/>Notes:<br/>[1] Standard Errors assume that the covariance matrix of the errors is correctly specified.<br/>[2] The condition number is large, 1.33e+12. This might indicate that there are<br/>strong multicollinearity or other numerical problems."
      ],
      "text/latex": "\\begin{center}\n\\begin{tabular}{lclc}\n\\toprule\n\\textbf{Dep. Variable:}    & finland\\_net\\_waste & \\textbf{  R-squared:         } &     0.774   \\\\\n\\textbf{Model:}            &         OLS         & \\textbf{  Adj. R-squared:    } &     0.742   \\\\\n\\textbf{Method:}           &    Least Squares    & \\textbf{  F-statistic:       } &     23.97   \\\\\n\\textbf{Date:}             &   Mon, 13 May 2024  & \\textbf{  Prob (F-statistic):} &  0.00176    \\\\\n\\textbf{Time:}             &       17:18:02      & \\textbf{  Log-Likelihood:    } &   -158.04   \\\\\n\\textbf{No. Observations:} &             9       & \\textbf{  AIC:               } &     320.1   \\\\\n\\textbf{Df Residuals:}     &             7       & \\textbf{  BIC:               } &     320.5   \\\\\n\\textbf{Df Model:}         &             1       & \\textbf{                     } &             \\\\\n\\textbf{Covariance Type:}  &      nonrobust      & \\textbf{                     } &             \\\\\n\\bottomrule\n\\end{tabular}\n\\begin{tabular}{lcccccc}\n                           & \\textbf{coef} & \\textbf{std err} & \\textbf{t} & \\textbf{P$> |$t$|$} & \\textbf{[0.025} & \\textbf{0.975]}  \\\\\n\\midrule\n\\textbf{Intercept}         &   -1.773e+07  &     2.24e+07     &    -0.792  &         0.454        &    -7.07e+07    &     3.52e+07     \\\\\n\\textbf{finland\\_gdp\\_ppp} &       0.0005  &     9.76e-05     &     4.896  &         0.002        &        0.000    &        0.001     \\\\\n\\bottomrule\n\\end{tabular}\n\\begin{tabular}{lclc}\n\\textbf{Omnibus:}       &  0.956 & \\textbf{  Durbin-Watson:     } &    2.067  \\\\\n\\textbf{Prob(Omnibus):} &  0.620 & \\textbf{  Jarque-Bera (JB):  } &    0.645  \\\\\n\\textbf{Skew:}          &  0.244 & \\textbf{  Prob(JB):          } &    0.724  \\\\\n\\textbf{Kurtosis:}      &  1.783 & \\textbf{  Cond. No.          } & 1.33e+12  \\\\\n\\bottomrule\n\\end{tabular}\n%\\caption{OLS Regression Results}\n\\end{center}\n\nNotes: \\newline\n [1] Standard Errors assume that the covariance matrix of the errors is correctly specified. \\newline\n [2] The condition number is large, 1.33e+12. This might indicate that there are \\newline\n strong multicollinearity or other numerical problems."
     },
     "execution_count": 27,
     "metadata": {},
     "output_type": "execute_result"
    }
   ],
   "execution_count": 27
  },
  {
   "metadata": {
    "ExecuteTime": {
     "end_time": "2024-05-13T16:18:03.225568Z",
     "start_time": "2024-05-13T16:18:03.220468Z"
    }
   },
   "cell_type": "code",
   "source": [
    "#adding the model from the regression to the data\n",
    "finland_data['net_waste'] = finland_data['finland_gdp_ppp'] * results.params['finland_gdp_ppp']"
   ],
   "id": "2fe84ca93d249baf",
   "outputs": [],
   "execution_count": 28
  },
  {
   "metadata": {},
   "cell_type": "markdown",
   "source": [
    "### Electricity Price\n",
    "We use electricity price to be able to price solid waste. The problem is electricity price is tiered so the calculation has to be done accordingly. What I plan on doing is taking the fractional part of the total waste converted to electricity respective to house-hold use and industrial use in Finland and then look at each one of them as if it were a single consumer. This is an obvious over-simplification but otherwise there is no way of calculating it because of a lack of data."
   ],
   "id": "cdbb6ac9f96350db"
  },
  {
   "metadata": {
    "jupyter": {
     "is_executing": true
    }
   },
   "cell_type": "code",
   "source": [
    "from electrcity_processing_functions import tax_tier_map, process_electricity_df, process_electricity_consumption_df\n",
    "\n",
    "elec_hh_pre_2007 = pd.read_csv('./ggdp_data/eurostat_electricity/eurostat_electricity_price_hh_pre_2007.csv', header=0)\n",
    "elec_hh_pre_2007_processed = process_electricity_df(country_code='FI', elec_df=elec_hh_pre_2007)\n",
    "elec_hh_post_2007 = pd.read_csv('./ggdp_data/eurostat_electricity/eurostat_electricity_price_hh_post_2007.csv',\n",
    "                                header=0)\n",
    "\n",
    "#there's overlap with the two dataframe: both have 2007 data\n",
    "elec_hh_pre_2007_index_to_drop = elec_hh_pre_2007_processed[elec_hh_pre_2007_processed['year'] == '2007'].index\n",
    "elec_hh_pre_2007_processed = elec_hh_pre_2007_processed.drop(index=elec_hh_pre_2007_index_to_drop)\n",
    "\n",
    "elec_hh_post_2007_processed = process_electricity_df(country_code='FI', elec_df=elec_hh_post_2007)\n",
    "elec_hh = pd.concat([elec_hh_post_2007_processed, elec_hh_pre_2007_processed])\n",
    "elec_hh = elec_hh.replace({'tax_tier': tax_tier_map})\n",
    "elec_hh['tax_tier'] = pd.to_numeric(elec_hh['tax_tier'])\n",
    "elec_hh['year'] = pd.to_numeric(elec_hh['year'])\n",
    "\n",
    "elec_nh_pre_2007 = pd.read_csv('./ggdp_data/eurostat_electricity/eurostat_electricity_price_nh_pre_2007.csv')\n",
    "elec_nh_pre_2007_processed = process_electricity_df(country_code='FI', elec_df=elec_nh_pre_2007)\n",
    "elec_nh_post_2007 = pd.read_csv('./ggdp_data/eurostat_electricity/eurostat_electricity_price_nh_post_2007.csv')\n",
    "elec_nh_post_2007_processed = process_electricity_df(country_code='FI', elec_df=elec_nh_post_2007)\n",
    "elec_nh = pd.concat([elec_nh_post_2007_processed, elec_nh_pre_2007_processed])\n",
    "elec_nh = elec_nh.replace({'tax_tier': tax_tier_map})\n",
    "elec_nh['tax_tier'] = pd.to_numeric(elec_nh['tax_tier'])\n",
    "elec_nh['year'] = pd.to_numeric(elec_nh['year'])\n",
    "\n",
    "elec_consumption = pd.read_csv('./ggdp_data/eurostat_electricity/eurostat_electricity_consumption.csv', header=0)\n",
    "elec_consump_processed = process_electricity_consumption_df(country_code='FI', df=elec_consumption)\n"
   ],
   "id": "28884d3c7606cff3",
   "outputs": [],
   "execution_count": null
  },
  {
   "metadata": {},
   "cell_type": "markdown",
   "source": "When looking at electricity prices I only decided to look at electricity prices for household and non-household consumptio because the cost for household vs non-hosehold electricty prices are different. This presents a bit of a challange in pricing electricity becasue it raises the question of which rate to use. I decided to take the relative part of household and non-household from the WTE output. For example if HH is 2/3 of the total consumption and NH is 1/3 so we will price 2/3 of WTE using HH pricess and a 1/3 of WTE using NH prices.",
   "id": "25b476328bb51792"
  },
  {
   "metadata": {
    "ExecuteTime": {
     "end_time": "2024-05-13T16:18:06.011022Z",
     "start_time": "2024-05-13T16:18:05.978447Z"
    }
   },
   "cell_type": "code",
   "source": [
    "from numpy import nan\n",
    "\n",
    "\n",
    "#some electricity prices for post 2007 data are missing for finland data so I took official data from Statistics Finland’s free-of-charge statistical databases\n",
    "# I plan on merging the data together to get as much data as possible\n",
    "def process_fin_stat_df(df: pd.DataFrame) -> pd.DataFrame:\n",
    "    df['year'] = df['Month'].apply(lambda x: x[:x.find('M')])\n",
    "    df = df.replace({'..': nan})\n",
    "    df = df.dropna(axis='columns', how='all')\n",
    "    df = df.drop(columns=['Month'])\n",
    "    df = df.apply(pd.to_numeric)\n",
    "    average_yearly_price_df = df.groupby(['year'], as_index=False).mean()\n",
    "    average_yearly_with_tax_tier_rows = []\n",
    "\n",
    "    for index, row in average_yearly_price_df.iterrows():\n",
    "        tax_tiers = list(row.index.values)\n",
    "        tax_tiers.remove('year')\n",
    "        for tier in tax_tiers:\n",
    "            average_yearly_with_tax_tier_rows.append(\n",
    "                {'year': row['year'],\n",
    "                 'tax_tier': tier,\n",
    "                 'price': row[tier] / 100,\n",
    "                 'currency': 'EUR'}\n",
    "            )\n",
    "    return pd.DataFrame(average_yearly_with_tax_tier_rows)\n",
    "\n",
    "    #for each year we have a price for each consumption range\n",
    "\n",
    "\n",
    "fin_stat_elec_price_hh = pd.read_csv('ggdp_data/finalnd_statistics_db/finalnd_statistics_hh_elec_prices.csv', header=0)\n",
    "fin_stat_elec_price_hh = process_fin_stat_df(fin_stat_elec_price_hh)\n",
    "\n",
    "fin_stat_elec_price_nh = pd.read_csv('ggdp_data/finalnd_statistics_db/finalnd_statistics_nh_elec_prices.csv', header=0)\n",
    "fin_stat_elec_price_nh = process_fin_stat_df(fin_stat_elec_price_nh)\n",
    "\n",
    "#combining both datasets\n",
    "#for hh we start at 2009 for official dataset, so anything prior to that will be taken from processed dataset\n",
    "\n",
    "\n",
    "hh_elec_filtered_to_combine_eurostat = elec_hh[(elec_hh['currency'] == 'EUR') & (elec_hh['year'] < 2009)]\n",
    "hh_elec_combined = pd.concat([hh_elec_filtered_to_combine_eurostat, fin_stat_elec_price_hh])\n",
    "hh_elec_combined = hh_elec_combined.sort_values(by=['year', 'tax_tier'])\n",
    "hh_elec_combined['tax_tier'] = pd.to_numeric(hh_elec_combined['tax_tier'])\n",
    "\n",
    "#\n",
    "\n",
    "\n",
    "nh_elec_filtered_to_combine_eurostat = elec_nh[(elec_nh['currency'] == 'EUR') & (elec_nh['year'] < 2008)]\n",
    "\n",
    "index_of_missing_val = fin_stat_elec_price_nh[\n",
    "    (fin_stat_elec_price_nh['year'] == 2008) & (fin_stat_elec_price_nh['tax_tier'] == '20000')].index\n",
    "price_for_filling = \\\n",
    "    elec_nh[(elec_nh['year'] == 2008) & (elec_nh['currency'] == 'EUR') & (elec_nh['tax_tier'] == 20000)].squeeze(\n",
    "        axis=0)[\n",
    "        'price']\n",
    "fin_stat_elec_price_nh.loc[index_of_missing_val, 'price'] = price_for_filling\n",
    "\n",
    "nh_elec_combined = pd.concat([nh_elec_filtered_to_combine_eurostat, fin_stat_elec_price_nh])\n",
    "nh_elec_combined['tax_tier'] = pd.to_numeric(nh_elec_combined['tax_tier'])"
   ],
   "id": "650003956d7f976d",
   "outputs": [],
   "execution_count": 30
  },
  {
   "metadata": {},
   "cell_type": "markdown",
   "source": [
    "## Units for GGDP\n",
    "- Carbon pricing - carbon tax is dollar/kilo-ton of CO2 emission\n",
    "- waste cost - is in dollars\n",
    "- NRD - in percentage of GDP\n",
    "- GDP - can be in ppp or dollars. I'll choose to work with dollars for uniformity of the data\n",
    "I want to work with real GGDP, GGDP[PPP] in order to get real growth rates and not just nominal ones. This is especially important when comparing different countries or scenrios since if a specific policy will increase GGDP growth but might actually cause an infaltion increase which is greater, thus actually shrinking real GGDP."
   ],
   "id": "1469f4fbf9ff59d"
  },
  {
   "metadata": {
    "ExecuteTime": {
     "end_time": "2024-05-13T17:02:55.172190Z",
     "start_time": "2024-05-13T16:57:56.140227Z"
    }
   },
   "cell_type": "code",
   "source": [
    "from numpy import nan\n",
    "\n",
    "from consumption_functions import calculate_energy_cost\n",
    "\n",
    "finland_ggdp = pd.DataFrame()\n",
    "#calculating GGDP with current data\n",
    "#Calculating GGDP using base formula\n",
    "\n",
    "#emission cost\n",
    "#carbon tax is us$/ton of CO2\n",
    "#perhaps need to convert this to ppp\n",
    "finland_ggdp['co2_emission_cost_dollar'] = finland_data['finland_co2_kt'] * 1000 * finland_data['finland_carbon_tax']\n",
    "\n",
    "#waste cost\n",
    "#need to add electricity price\n",
    "wte_conversion_constant = 400  # kWh/ton of waste\n",
    "total_wte: pd.Series = finland_data['net_waste'] * wte_conversion_constant\n",
    "years_index = list(total_wte.index)\n",
    "years_series = pd.Series({year: int(year) for year in years_index}, index=years_index)\n",
    "years_series.name = 'year'\n",
    "wte_df = pd.concat([total_wte, years_series], axis=1)\n",
    "\n",
    "#This is in EURO\n",
    "#Need to convert EUR (lcu) to current dollars\n",
    "finland_ggdp['waste_cost_eur'] = wte_df.apply(lambda x: calculate_energy_cost(wte=x['net_waste'],\n",
    "                                                                              year=x['year'], currency='EUR',\n",
    "                                                                              elec_consumption=elec_consump_processed,\n",
    "                                                                              hh_elec=hh_elec_combined,\n",
    "                                                                              nh_elec=nh_elec_combined)\n",
    "                                              , axis=1)\n",
    "\n",
    "finland_ggdp = finland_ggdp.join(\n",
    "    finland_data[['finland_dollar_to_lcu', 'finland_ppp_to_dollar', 'finland_as_particulate_emission_damage']])\n",
    "finland_ggdp['waste_cost_dollar'] = finland_ggdp['waste_cost_eur'] * finland_ggdp['finland_dollar_to_lcu']\n",
    "\n",
    "#natural resource depltion cost in current dollar\n",
    "finland_ggdp['natural_nrd_cost_dollar'] = finland_data['finland_as_nrd_cost']\n",
    "\n",
    "#in current dollar\n",
    "finland_ggdp['ggdp_dollar'] = finland_data['finland_gdp_dollar'] - finland_ggdp['co2_emission_cost_dollar'] - \\\n",
    "                              finland_ggdp[\n",
    "                                  'waste_cost_dollar'] - finland_ggdp['natural_nrd_cost_dollar']\n",
    "\n",
    "finland_ggdp['ggdp_ppp'] = finland_ggdp['ggdp_dollar'] * finland_ggdp['finland_ppp_to_dollar']\n",
    "\n",
    "#deducting particulate damage to see if it affects the ggdp at all\n",
    "finland_ggdp['ggdp_dollar_adjusted_particulate_damage'] = finland_ggdp['ggdp_dollar'] - finland_ggdp[\n",
    "    'finland_as_particulate_emission_damage']\n",
    "finland_ggdp['ggdp_ppp_adjusted_particulate_damage'] = finland_ggdp['ggdp_dollar_adjusted_particulate_damage'] * \\\n",
    "                                                       finland_ggdp['finland_ppp_to_dollar']\n",
    "\n",
    "#I'm interested in gdp growth so the currency doesn't matter as long as it represents ppp and not only currency. PPP is local currency/dollar so I will calculate ggdp in lcu (local currency units) controlled for ppp and then when I calculate growth it becomes unitless but is adjusted for real terms.\n",
    "\n",
    "#adding ppp_lcu_to_dollar_to_data_frame\n",
    "#finland_ggdp = finland_ggdp.join(finland_data['finland_ppp_lcu_to_dollar'])\n",
    "#finland_ggdp['ggdp_lcu'] = finland_ggdp['ggdp_dollar'] * finland_ggdp['finland_ppp_lcu_to_dollar']\n",
    "finland_ggdp['ggdp_growth'] = finland_ggdp['ggdp_ppp'] / finland_ggdp['ggdp_ppp'].shift(1) - 1\n",
    "finland_ggdp['ggdp_with_particulate_damage_growth'] = finland_ggdp['ggdp_ppp_adjusted_particulate_damage'] / \\\n",
    "                                                      finland_ggdp['ggdp_ppp_adjusted_particulate_damage'].shift(1) - 1"
   ],
   "id": "58323f83d2f5d694",
   "outputs": [
    {
     "name": "stderr",
     "output_type": "stream",
     "text": [
      "C:\\Users\\yarde\\anaconda3\\envs\\ggdp-research\\Lib\\site-packages\\pandas\\core\\nanops.py:1016: RuntimeWarning: invalid value encountered in subtract\n",
      "  sqr = _ensure_numeric((avg - values) ** 2)\n",
      "C:\\Users\\yarde\\anaconda3\\envs\\ggdp-research\\Lib\\site-packages\\numpy\\lib\\function_base.py:4655: RuntimeWarning: invalid value encountered in subtract\n",
      "  diff_b_a = subtract(b, a)\n"
     ]
    },
    {
     "ename": "KeyboardInterrupt",
     "evalue": "",
     "output_type": "error",
     "traceback": [
      "\u001B[1;31m---------------------------------------------------------------------------\u001B[0m",
      "\u001B[1;31mKeyboardInterrupt\u001B[0m                         Traceback (most recent call last)",
      "Cell \u001B[1;32mIn[42], line 57\u001B[0m\n\u001B[0;32m     49\u001B[0m finland_ggdp[\u001B[38;5;124m'\u001B[39m\u001B[38;5;124mggdp_ppp_adjusted_particulate_damage\u001B[39m\u001B[38;5;124m'\u001B[39m] \u001B[38;5;241m=\u001B[39m finland_ggdp[\u001B[38;5;124m'\u001B[39m\u001B[38;5;124mggdp_dollar_adjusted_particulate_damage\u001B[39m\u001B[38;5;124m'\u001B[39m] \u001B[38;5;241m*\u001B[39m \\\n\u001B[0;32m     50\u001B[0m                                                        finland_ggdp[\u001B[38;5;124m'\u001B[39m\u001B[38;5;124mfinland_ppp_to_dollar\u001B[39m\u001B[38;5;124m'\u001B[39m]\n\u001B[0;32m     52\u001B[0m \u001B[38;5;66;03m#I'm interested in gdp growth so the currency doesn't matter as long as it represents ppp and not only currency. PPP is local currency/dollar so I will calculate ggdp in lcu (local currency units) controlled for ppp and then when I calculate growth it becomes unitless but is adjusted for real terms.\u001B[39;00m\n\u001B[0;32m     53\u001B[0m \n\u001B[0;32m     54\u001B[0m \u001B[38;5;66;03m#adding ppp_lcu_to_dollar_to_data_frame\u001B[39;00m\n\u001B[0;32m     55\u001B[0m \u001B[38;5;66;03m#finland_ggdp = finland_ggdp.join(finland_data['finland_ppp_lcu_to_dollar'])\u001B[39;00m\n\u001B[0;32m     56\u001B[0m \u001B[38;5;66;03m#finland_ggdp['ggdp_lcu'] = finland_ggdp['ggdp_dollar'] * finland_ggdp['finland_ppp_lcu_to_dollar']\u001B[39;00m\n\u001B[1;32m---> 57\u001B[0m finland_ggdp[\u001B[38;5;124m'\u001B[39m\u001B[38;5;124mggdp_growth\u001B[39m\u001B[38;5;124m'\u001B[39m] \u001B[38;5;241m=\u001B[39m \u001B[43mfinland_ggdp\u001B[49m[\u001B[38;5;124m'\u001B[39m\u001B[38;5;124mggdp_ppp\u001B[39m\u001B[38;5;124m'\u001B[39m] \u001B[38;5;241m/\u001B[39m finland_ggdp[\u001B[38;5;124m'\u001B[39m\u001B[38;5;124mggdp_ppp\u001B[39m\u001B[38;5;124m'\u001B[39m]\u001B[38;5;241m.\u001B[39mshift(\u001B[38;5;241m1\u001B[39m) \u001B[38;5;241m-\u001B[39m \u001B[38;5;241m1\u001B[39m\n\u001B[0;32m     58\u001B[0m finland_ggdp[\u001B[38;5;124m'\u001B[39m\u001B[38;5;124mggdp_with_particulate_damage_growth\u001B[39m\u001B[38;5;124m'\u001B[39m] \u001B[38;5;241m=\u001B[39m finland_ggdp[\u001B[38;5;124m'\u001B[39m\u001B[38;5;124mggdp_ppp_adjusted_particulate_damage\u001B[39m\u001B[38;5;124m'\u001B[39m] \u001B[38;5;241m/\u001B[39m \\\n\u001B[0;32m     59\u001B[0m                                                       finland_ggdp[\u001B[38;5;124m'\u001B[39m\u001B[38;5;124mggdp_ppp_adjusted_particulate_damage\u001B[39m\u001B[38;5;124m'\u001B[39m]\u001B[38;5;241m.\u001B[39mshift(\u001B[38;5;241m1\u001B[39m) \u001B[38;5;241m-\u001B[39m \u001B[38;5;241m1\u001B[39m\n",
      "File \u001B[1;32m_pydevd_bundle\\\\pydevd_cython_win32_311_64.pyx:1187\u001B[0m, in \u001B[0;36m_pydevd_bundle.pydevd_cython_win32_311_64.SafeCallWrapper.__call__\u001B[1;34m()\u001B[0m\n",
      "File \u001B[1;32m_pydevd_bundle\\\\pydevd_cython_win32_311_64.pyx:627\u001B[0m, in \u001B[0;36m_pydevd_bundle.pydevd_cython_win32_311_64.PyDBFrame.trace_dispatch\u001B[1;34m()\u001B[0m\n",
      "File \u001B[1;32m_pydevd_bundle\\\\pydevd_cython_win32_311_64.pyx:937\u001B[0m, in \u001B[0;36m_pydevd_bundle.pydevd_cython_win32_311_64.PyDBFrame.trace_dispatch\u001B[1;34m()\u001B[0m\n",
      "File \u001B[1;32m_pydevd_bundle\\\\pydevd_cython_win32_311_64.pyx:928\u001B[0m, in \u001B[0;36m_pydevd_bundle.pydevd_cython_win32_311_64.PyDBFrame.trace_dispatch\u001B[1;34m()\u001B[0m\n",
      "File \u001B[1;32m_pydevd_bundle\\\\pydevd_cython_win32_311_64.pyx:585\u001B[0m, in \u001B[0;36m_pydevd_bundle.pydevd_cython_win32_311_64.PyDBFrame.do_wait_suspend\u001B[1;34m()\u001B[0m\n",
      "File \u001B[1;32mC:\\Program Files\\JetBrains\\PyCharm 2024.1\\plugins\\python\\helpers\\pydev\\pydevd.py:1185\u001B[0m, in \u001B[0;36mPyDB.do_wait_suspend\u001B[1;34m(self, thread, frame, event, arg, send_suspend_message, is_unhandled_exception)\u001B[0m\n\u001B[0;32m   1182\u001B[0m         from_this_thread\u001B[38;5;241m.\u001B[39mappend(frame_id)\n\u001B[0;32m   1184\u001B[0m \u001B[38;5;28;01mwith\u001B[39;00m \u001B[38;5;28mself\u001B[39m\u001B[38;5;241m.\u001B[39m_threads_suspended_single_notification\u001B[38;5;241m.\u001B[39mnotify_thread_suspended(thread_id, stop_reason):\n\u001B[1;32m-> 1185\u001B[0m     \u001B[38;5;28;43mself\u001B[39;49m\u001B[38;5;241;43m.\u001B[39;49m\u001B[43m_do_wait_suspend\u001B[49m\u001B[43m(\u001B[49m\u001B[43mthread\u001B[49m\u001B[43m,\u001B[49m\u001B[43m \u001B[49m\u001B[43mframe\u001B[49m\u001B[43m,\u001B[49m\u001B[43m \u001B[49m\u001B[43mevent\u001B[49m\u001B[43m,\u001B[49m\u001B[43m \u001B[49m\u001B[43marg\u001B[49m\u001B[43m,\u001B[49m\u001B[43m \u001B[49m\u001B[43msuspend_type\u001B[49m\u001B[43m,\u001B[49m\u001B[43m \u001B[49m\u001B[43mfrom_this_thread\u001B[49m\u001B[43m)\u001B[49m\n",
      "File \u001B[1;32mC:\\Program Files\\JetBrains\\PyCharm 2024.1\\plugins\\python\\helpers\\pydev\\pydevd.py:1200\u001B[0m, in \u001B[0;36mPyDB._do_wait_suspend\u001B[1;34m(self, thread, frame, event, arg, suspend_type, from_this_thread)\u001B[0m\n\u001B[0;32m   1197\u001B[0m             \u001B[38;5;28mself\u001B[39m\u001B[38;5;241m.\u001B[39m_call_mpl_hook()\n\u001B[0;32m   1199\u001B[0m         \u001B[38;5;28mself\u001B[39m\u001B[38;5;241m.\u001B[39mprocess_internal_commands()\n\u001B[1;32m-> 1200\u001B[0m         time\u001B[38;5;241m.\u001B[39msleep(\u001B[38;5;241m0.01\u001B[39m)\n\u001B[0;32m   1202\u001B[0m \u001B[38;5;28mself\u001B[39m\u001B[38;5;241m.\u001B[39mcancel_async_evaluation(get_current_thread_id(thread), \u001B[38;5;28mstr\u001B[39m(\u001B[38;5;28mid\u001B[39m(frame)))\n\u001B[0;32m   1204\u001B[0m \u001B[38;5;66;03m# process any stepping instructions\u001B[39;00m\n",
      "\u001B[1;31mKeyboardInterrupt\u001B[0m: "
     ]
    }
   ],
   "execution_count": 42
  },
  {
   "metadata": {
    "ExecuteTime": {
     "end_time": "2024-05-13T16:55:24.195734Z",
     "start_time": "2024-05-13T16:55:24.175284Z"
    }
   },
   "cell_type": "code",
   "source": [
    "\n",
    "\n",
    "#summary statistics without particulate damage (not accounting for particulate damage)\n",
    "\n",
    "summary_stats = finland_ggdp['ggdp_growth'].describe()\n",
    "summary_stats['variance'] = finland_ggdp['ggdp_growth'].var()\n",
    "summary_stats['skewness'] = finland_ggdp['ggdp_growth'].skew()\n",
    "summary_stats['kurtosis'] = finland_ggdp['ggdp_growth'].kurtosis()\n",
    "\n",
    "#summary stats with particulate damage (accounting for particulate damage)\n",
    "summary_stats_particulate = finland_ggdp['ggdp_with_particulate_damage_growth'].describe()\n",
    "summary_stats_particulate['variance'] = finland_ggdp['ggdp_with_particulate_damage_growth'].var()\n",
    "summary_stats_particulate['skewness'] = finland_ggdp['ggdp_with_particulate_damage_growth'].skew()\n",
    "summary_stats_particulate['kurtosis'] = finland_ggdp['ggdp_with_particulate_damage_growth'].kurtosis()\n",
    "\n",
    "merged_summary_stats = pd.concat([summary_stats, summary_stats_particulate], axis=1)\n",
    "merged_summary_stats\n"
   ],
   "id": "dc612f7c6e8636e0",
   "outputs": [
    {
     "data": {
      "text/plain": [
       "          ggdp_growth  ggdp_with_particulate_damage_growth\n",
       "count       25.000000                            25.000000\n",
       "mean         0.044253                             0.044267\n",
       "std          0.033686                             0.033688\n",
       "min         -0.049884                            -0.049891\n",
       "25%          0.023330                             0.023316\n",
       "50%          0.039107                             0.039128\n",
       "75%          0.064754                             0.064753\n",
       "max          0.104136                             0.104136\n",
       "variance     0.001135                             0.001135\n",
       "skewness    -0.571982                            -0.572414\n",
       "kurtosis     1.123101                             1.124844"
      ],
      "text/html": [
       "<div>\n",
       "<style scoped>\n",
       "    .dataframe tbody tr th:only-of-type {\n",
       "        vertical-align: middle;\n",
       "    }\n",
       "\n",
       "    .dataframe tbody tr th {\n",
       "        vertical-align: top;\n",
       "    }\n",
       "\n",
       "    .dataframe thead th {\n",
       "        text-align: right;\n",
       "    }\n",
       "</style>\n",
       "<table border=\"1\" class=\"dataframe\">\n",
       "  <thead>\n",
       "    <tr style=\"text-align: right;\">\n",
       "      <th></th>\n",
       "      <th>ggdp_growth</th>\n",
       "      <th>ggdp_with_particulate_damage_growth</th>\n",
       "    </tr>\n",
       "  </thead>\n",
       "  <tbody>\n",
       "    <tr>\n",
       "      <th>count</th>\n",
       "      <td>25.000000</td>\n",
       "      <td>25.000000</td>\n",
       "    </tr>\n",
       "    <tr>\n",
       "      <th>mean</th>\n",
       "      <td>0.044253</td>\n",
       "      <td>0.044267</td>\n",
       "    </tr>\n",
       "    <tr>\n",
       "      <th>std</th>\n",
       "      <td>0.033686</td>\n",
       "      <td>0.033688</td>\n",
       "    </tr>\n",
       "    <tr>\n",
       "      <th>min</th>\n",
       "      <td>-0.049884</td>\n",
       "      <td>-0.049891</td>\n",
       "    </tr>\n",
       "    <tr>\n",
       "      <th>25%</th>\n",
       "      <td>0.023330</td>\n",
       "      <td>0.023316</td>\n",
       "    </tr>\n",
       "    <tr>\n",
       "      <th>50%</th>\n",
       "      <td>0.039107</td>\n",
       "      <td>0.039128</td>\n",
       "    </tr>\n",
       "    <tr>\n",
       "      <th>75%</th>\n",
       "      <td>0.064754</td>\n",
       "      <td>0.064753</td>\n",
       "    </tr>\n",
       "    <tr>\n",
       "      <th>max</th>\n",
       "      <td>0.104136</td>\n",
       "      <td>0.104136</td>\n",
       "    </tr>\n",
       "    <tr>\n",
       "      <th>variance</th>\n",
       "      <td>0.001135</td>\n",
       "      <td>0.001135</td>\n",
       "    </tr>\n",
       "    <tr>\n",
       "      <th>skewness</th>\n",
       "      <td>-0.571982</td>\n",
       "      <td>-0.572414</td>\n",
       "    </tr>\n",
       "    <tr>\n",
       "      <th>kurtosis</th>\n",
       "      <td>1.123101</td>\n",
       "      <td>1.124844</td>\n",
       "    </tr>\n",
       "  </tbody>\n",
       "</table>\n",
       "</div>"
      ]
     },
     "execution_count": 40,
     "metadata": {},
     "output_type": "execute_result"
    }
   ],
   "execution_count": 40
  },
  {
   "metadata": {
    "ExecuteTime": {
     "end_time": "2024-05-13T16:56:20.044172Z",
     "start_time": "2024-05-13T16:56:19.933707Z"
    }
   },
   "cell_type": "code",
   "source": [
    "from matplotlib import pyplot as plt\n",
    "\n",
    "ggdp_growth_percent = (finland_ggdp['ggdp_growth'].dropna(axis=0)) * 100\n",
    "\n",
    "counts, bins = np.histogram(ggdp_growth_percent, bins=10)\n",
    "plt.stairs(counts, bins)\n",
    "\n",
    "ggdp_with_particulate_damage_growth = (finland_ggdp['ggdp_with_particulate_damage_growth'].dropna(axis=0)) * 100\n",
    "\n",
    "counts, bins = np.histogram(ggdp_with_particulate_damage_growth, bins=10)\n",
    "plt.stairs(counts, bins)\n",
    "\n",
    "#summary statistics for ggdp"
   ],
   "id": "bd8a083e78c581ff",
   "outputs": [
    {
     "data": {
      "text/plain": [
       "<matplotlib.patches.StepPatch at 0x18003972990>"
      ]
     },
     "execution_count": 41,
     "metadata": {},
     "output_type": "execute_result"
    },
    {
     "data": {
      "text/plain": [
       "<Figure size 640x480 with 1 Axes>"
      ],
      "image/png": "[encoded data removed]"
     },
     "metadata": {},
     "output_type": "display_data"
    }
   ],
   "execution_count": 41
  },
  {
   "metadata": {
    "ExecuteTime": {
     "end_time": "2024-05-13T09:45:18.025514Z",
     "start_time": "2024-05-13T09:45:18.016212Z"
    }
   },
   "cell_type": "code",
   "source": "\n",
   "id": "28c1384080ca8483",
   "outputs": [],
   "execution_count": 31
  },
  {
   "metadata": {},
   "cell_type": "markdown",
   "source": [
    "The data samples are quite limited because of different factors, so I'm thinking of ways of expanding the dataset. Every sample I can get is helpful now.\n",
    "- CO2 emission cost - I can perhaps try to use the CO2 damage as GNI instead of pricing the damage myself. There is much more available data there as carbon tax only started being implemented in the early 90s.\n",
    "- WTE - The limitation here is electricity price which goes only back to 1995. My main limitation is electricity price.\n",
    "I need to expand electricity prices somehow.\n",
    "I think it's worth checking the difference between the CO2 emission cost that I priced compared to that of the CO2 damage as GNI to see the difference."
   ],
   "id": "fd632d6fbd34eeb2"
  },
  {
   "metadata": {},
   "cell_type": "markdown",
   "source": [
    " From WDI - Work Bank\n",
    " #### natural resources depletion\n",
    "     Natural resource depletion is the sum of net forest depletion, energy depletion, and mineral depletion. Net forest depletion is unit resource rents times the excess of roundwood harvest over natural growth.\n",
    " #### Carbon Dioxide Damage\n",
    " \tCost of damage due to carbon dioxide emissions from fossil fuel use and the manufacture of cement, estimated to be US$40 per ton of CO2 (the unit damage in 2017 US dollars for CO2 emitted in 2020) times the number of tons of CO2 emitted.\n",
    " \tmy own opinion - it is calculated using a constant which can't really be constant over time because the cost of an emission of 1 kt of co2 in the 70s can't be the same as the cost it now because of the different environmental conditions that exist now, it is very unlikely to actually be a constant cost.\n",
    " #### Particulate Emission Damage\n",
    "    Particulate emissions damage is the damage due to exposure of a country's population to ambient concentrations of particulates measuring less than 2.5 microns in diameter (PM2.5), ambient ozone pollution, and indoor concentrations of PM2.5 in households cooking with solid fuels.\n",
    "    This perhaps can be included in the ggdp and maybe add a term for green innovation as well."
   ],
   "id": "96cabf59696ecfa4"
  },
  {
   "metadata": {},
   "cell_type": "code",
   "outputs": [],
   "execution_count": null,
   "source": [
    "#adding particulate emission damage\n",
    "finland_ggdp['particulate_emmision_damage'] = finland_data['finland_']"
   ],
   "id": "749e428ee0b0449d"
  },
  {
   "metadata": {
    "ExecuteTime": {
     "end_time": "2024-05-13T09:45:18.503112Z",
     "start_time": "2024-05-13T09:45:18.440901Z"
    }
   },
   "cell_type": "code",
   "source": [
    "# how predictive is GDP for GGDP?\n",
    "\n",
    "finland_ggdp = finland_ggdp.join(finland_data['finland_gdp_ppp'])\n",
    "finland_ggdp['gdp_growth'] = finland_ggdp['finland_gdp_ppp'] / finland_ggdp['finland_gdp_ppp'].shift(1) - 1\n",
    "\n",
    "model = sm.OLS.from_formula('ggdp_growth ~ gdp_growth ', data=finland_ggdp)\n",
    "results = model.fit()\n",
    "results.summary()\n"
   ],
   "id": "dddfcbbb944786db",
   "outputs": [
    {
     "data": {
      "text/plain": [
       "<class 'statsmodels.iolib.summary.Summary'>\n",
       "\"\"\"\n",
       "                            OLS Regression Results                            \n",
       "==============================================================================\n",
       "Dep. Variable:            ggdp_growth   R-squared:                       0.041\n",
       "Model:                            OLS   Adj. R-squared:                 -0.000\n",
       "Method:                 Least Squares   F-statistic:                    0.9947\n",
       "Date:                Mon, 13 May 2024   Prob (F-statistic):              0.329\n",
       "Time:                        10:45:18   Log-Likelihood:                 10.791\n",
       "No. Observations:                  25   AIC:                            -17.58\n",
       "Df Residuals:                      23   BIC:                            -15.14\n",
       "Df Model:                           1                                         \n",
       "Covariance Type:            nonrobust                                         \n",
       "==============================================================================\n",
       "                 coef    std err          t      P>|t|      [0.025      0.975]\n",
       "------------------------------------------------------------------------------\n",
       "Intercept     -0.0203      0.056     -0.365      0.718      -0.136       0.095\n",
       "gdp_growth     0.9993      1.002      0.997      0.329      -1.073       3.072\n",
       "==============================================================================\n",
       "Omnibus:                        5.742   Durbin-Watson:                   1.435\n",
       "Prob(Omnibus):                  0.057   Jarque-Bera (JB):                3.913\n",
       "Skew:                           0.649   Prob(JB):                        0.141\n",
       "Kurtosis:                       4.439   Cond. No.                         30.6\n",
       "==============================================================================\n",
       "\n",
       "Notes:\n",
       "[1] Standard Errors assume that the covariance matrix of the errors is correctly specified.\n",
       "\"\"\""
      ],
      "text/html": [
       "<table class=\"simpletable\">\n",
       "<caption>OLS Regression Results</caption>\n",
       "<tr>\n",
       "  <th>Dep. Variable:</th>       <td>ggdp_growth</td>   <th>  R-squared:         </th> <td>   0.041</td>\n",
       "</tr>\n",
       "<tr>\n",
       "  <th>Model:</th>                   <td>OLS</td>       <th>  Adj. R-squared:    </th> <td>  -0.000</td>\n",
       "</tr>\n",
       "<tr>\n",
       "  <th>Method:</th>             <td>Least Squares</td>  <th>  F-statistic:       </th> <td>  0.9947</td>\n",
       "</tr>\n",
       "<tr>\n",
       "  <th>Date:</th>             <td>Mon, 13 May 2024</td> <th>  Prob (F-statistic):</th>  <td> 0.329</td> \n",
       "</tr>\n",
       "<tr>\n",
       "  <th>Time:</th>                 <td>10:45:18</td>     <th>  Log-Likelihood:    </th> <td>  10.791</td>\n",
       "</tr>\n",
       "<tr>\n",
       "  <th>No. Observations:</th>      <td>    25</td>      <th>  AIC:               </th> <td>  -17.58</td>\n",
       "</tr>\n",
       "<tr>\n",
       "  <th>Df Residuals:</th>          <td>    23</td>      <th>  BIC:               </th> <td>  -15.14</td>\n",
       "</tr>\n",
       "<tr>\n",
       "  <th>Df Model:</th>              <td>     1</td>      <th>                     </th>     <td> </td>   \n",
       "</tr>\n",
       "<tr>\n",
       "  <th>Covariance Type:</th>      <td>nonrobust</td>    <th>                     </th>     <td> </td>   \n",
       "</tr>\n",
       "</table>\n",
       "<table class=\"simpletable\">\n",
       "<tr>\n",
       "       <td></td>         <th>coef</th>     <th>std err</th>      <th>t</th>      <th>P>|t|</th>  <th>[0.025</th>    <th>0.975]</th>  \n",
       "</tr>\n",
       "<tr>\n",
       "  <th>Intercept</th>  <td>   -0.0203</td> <td>    0.056</td> <td>   -0.365</td> <td> 0.718</td> <td>   -0.136</td> <td>    0.095</td>\n",
       "</tr>\n",
       "<tr>\n",
       "  <th>gdp_growth</th> <td>    0.9993</td> <td>    1.002</td> <td>    0.997</td> <td> 0.329</td> <td>   -1.073</td> <td>    3.072</td>\n",
       "</tr>\n",
       "</table>\n",
       "<table class=\"simpletable\">\n",
       "<tr>\n",
       "  <th>Omnibus:</th>       <td> 5.742</td> <th>  Durbin-Watson:     </th> <td>   1.435</td>\n",
       "</tr>\n",
       "<tr>\n",
       "  <th>Prob(Omnibus):</th> <td> 0.057</td> <th>  Jarque-Bera (JB):  </th> <td>   3.913</td>\n",
       "</tr>\n",
       "<tr>\n",
       "  <th>Skew:</th>          <td> 0.649</td> <th>  Prob(JB):          </th> <td>   0.141</td>\n",
       "</tr>\n",
       "<tr>\n",
       "  <th>Kurtosis:</th>      <td> 4.439</td> <th>  Cond. No.          </th> <td>    30.6</td>\n",
       "</tr>\n",
       "</table><br/><br/>Notes:<br/>[1] Standard Errors assume that the covariance matrix of the errors is correctly specified."
      ],
      "text/latex": "\\begin{center}\n\\begin{tabular}{lclc}\n\\toprule\n\\textbf{Dep. Variable:}    &   ggdp\\_growth   & \\textbf{  R-squared:         } &     0.041   \\\\\n\\textbf{Model:}            &       OLS        & \\textbf{  Adj. R-squared:    } &    -0.000   \\\\\n\\textbf{Method:}           &  Least Squares   & \\textbf{  F-statistic:       } &    0.9947   \\\\\n\\textbf{Date:}             & Mon, 13 May 2024 & \\textbf{  Prob (F-statistic):} &    0.329    \\\\\n\\textbf{Time:}             &     10:45:18     & \\textbf{  Log-Likelihood:    } &    10.791   \\\\\n\\textbf{No. Observations:} &          25      & \\textbf{  AIC:               } &    -17.58   \\\\\n\\textbf{Df Residuals:}     &          23      & \\textbf{  BIC:               } &    -15.14   \\\\\n\\textbf{Df Model:}         &           1      & \\textbf{                     } &             \\\\\n\\textbf{Covariance Type:}  &    nonrobust     & \\textbf{                     } &             \\\\\n\\bottomrule\n\\end{tabular}\n\\begin{tabular}{lcccccc}\n                     & \\textbf{coef} & \\textbf{std err} & \\textbf{t} & \\textbf{P$> |$t$|$} & \\textbf{[0.025} & \\textbf{0.975]}  \\\\\n\\midrule\n\\textbf{Intercept}   &      -0.0203  &        0.056     &    -0.365  &         0.718        &       -0.136    &        0.095     \\\\\n\\textbf{gdp\\_growth} &       0.9993  &        1.002     &     0.997  &         0.329        &       -1.073    &        3.072     \\\\\n\\bottomrule\n\\end{tabular}\n\\begin{tabular}{lclc}\n\\textbf{Omnibus:}       &  5.742 & \\textbf{  Durbin-Watson:     } &    1.435  \\\\\n\\textbf{Prob(Omnibus):} &  0.057 & \\textbf{  Jarque-Bera (JB):  } &    3.913  \\\\\n\\textbf{Skew:}          &  0.649 & \\textbf{  Prob(JB):          } &    0.141  \\\\\n\\textbf{Kurtosis:}      &  4.439 & \\textbf{  Cond. No.          } &     30.6  \\\\\n\\bottomrule\n\\end{tabular}\n%\\caption{OLS Regression Results}\n\\end{center}\n\nNotes: \\newline\n [1] Standard Errors assume that the covariance matrix of the errors is correctly specified."
     },
     "execution_count": 32,
     "metadata": {},
     "output_type": "execute_result"
    }
   ],
   "execution_count": 32
  },
  {
   "metadata": {},
   "cell_type": "markdown",
   "source": "GDP has no predictive power for predicting GGDP",
   "id": "125ac221a6940375"
  }
 ],
 "metadata": {
  "kernelspec": {
   "display_name": "Python 3 (ipykernel)",
   "language": "python",
   "name": "python3"
  },
  "language_info": {
   "codemirror_mode": {
    "name": "ipython",
    "version": 3
   },
   "file_extension": ".py",
   "mimetype": "text/x-python",
   "name": "python",
   "nbconvert_exporter": "python",
   "pygments_lexer": "ipython3",
   "version": "3.11.9"
  }
 },
 "nbformat": 4,
 "nbformat_minor": 5
}
