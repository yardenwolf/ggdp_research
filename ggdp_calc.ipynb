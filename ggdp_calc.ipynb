{
 "cells": [
  {
   "cell_type": "markdown",
   "id": "4b2ecf10-f97d-4a0c-b2fe-6c085abd7f1e",
   "metadata": {
    "collapsed": true,
    "jupyter": {
     "outputs_hidden": true
    }
   },
   "source": [
    "## Choosing EU ETS vs Carbon TAX\n",
    "EU ETS start only at 2005 and Carbon Tax depends on countries that have already implemented it but could go as early as 1990."
   ]
  },
  {
   "cell_type": "code",
   "id": "ae51894a-42ab-4233-a1bb-6836ddb33776",
   "metadata": {
    "ExecuteTime": {
     "end_time": "2024-06-01T10:02:37.681734Z",
     "start_time": "2024-06-01T10:02:33.320357Z"
    }
   },
   "source": [
    "import numpy as np\n",
    "import pandas as pd\n",
    "import statsmodels.api as sm\n",
    "from scipy import stats\n",
    "\n",
    "from IPython.core.interactiveshell import InteractiveShell\n",
    "InteractiveShell.ast_node_interactivity = \"all\"\n",
    "from IPython.display import display\n",
    "\n",
    "carbon_pricing_data = pd.read_excel('./ggdp_data/world_bank/world_bank_carbon_pricing.xlsx', header=1,\n",
    "                                    sheet_name='Compliance_Price', na_values='-')\n",
    "carbon_pricing_data = carbon_pricing_data.set_index('Name of the initiative').T\n",
    "carbon_pricing_data.rename(columns=lambda x: str.lower(x.replace(' ', '_')), inplace=True)\n",
    "#dropping all metadata rows\n",
    "carbon_pricing_data = carbon_pricing_data.iloc[7:]\n",
    "carbon_pricing_data = carbon_pricing_data.apply(pd.to_numeric)\n",
    "carbon_pricing_data.index = [str(x) for x in carbon_pricing_data.index]\n",
    "\n",
    "eu_ets = carbon_pricing_data['eu_ets']\n",
    "finland_carbon_tax = carbon_pricing_data['finland_carbon_tax']\n",
    "#Finland has two types of carbon tax: Transport fuels, heating fuels which are the same across the whole series\n",
    "finland_carbon_tax = finland_carbon_tax.iloc[:, 0]"
   ],
   "outputs": [],
   "execution_count": 1
  },
  {
   "cell_type": "code",
   "id": "e90c3210765b3663",
   "metadata": {
    "ExecuteTime": {
     "end_time": "2024-06-01T10:02:37.743397Z",
     "start_time": "2024-06-01T10:02:37.683972Z"
    }
   },
   "source": [
    "#checking to see if EU ETS can proxy for carbon tax or the other way round. Does any one of them hold and additional information?\n",
    "ets_joined_carbon_tax = pd.DataFrame(eu_ets).join(finland_carbon_tax)\n",
    "ets_joined_carbon_tax = ets_joined_carbon_tax.dropna()\n",
    "ets_joined_carbon_tax.head()\n",
    "\n",
    "model = sm.OLS.from_formula('eu_ets ~ finland_carbon_tax', data=ets_joined_carbon_tax)\n",
    "results = model.fit()\n",
    "results.summary()\n"
   ],
   "outputs": [
    {
     "data": {
      "text/plain": [
       "      eu_ets  finland_carbon_tax\n",
       "2005   19.04               13.92\n",
       "2006   32.24               14.91\n",
       "2007    1.25               13.55\n",
       "2008   34.48               12.65\n",
       "2009   15.55               15.40"
      ],
      "text/html": [
       "<div>\n",
       "<style scoped>\n",
       "    .dataframe tbody tr th:only-of-type {\n",
       "        vertical-align: middle;\n",
       "    }\n",
       "\n",
       "    .dataframe tbody tr th {\n",
       "        vertical-align: top;\n",
       "    }\n",
       "\n",
       "    .dataframe thead th {\n",
       "        text-align: right;\n",
       "    }\n",
       "</style>\n",
       "<table border=\"1\" class=\"dataframe\">\n",
       "  <thead>\n",
       "    <tr style=\"text-align: right;\">\n",
       "      <th></th>\n",
       "      <th>eu_ets</th>\n",
       "      <th>finland_carbon_tax</th>\n",
       "    </tr>\n",
       "  </thead>\n",
       "  <tbody>\n",
       "    <tr>\n",
       "      <th>2005</th>\n",
       "      <td>19.04</td>\n",
       "      <td>13.92</td>\n",
       "    </tr>\n",
       "    <tr>\n",
       "      <th>2006</th>\n",
       "      <td>32.24</td>\n",
       "      <td>14.91</td>\n",
       "    </tr>\n",
       "    <tr>\n",
       "      <th>2007</th>\n",
       "      <td>1.25</td>\n",
       "      <td>13.55</td>\n",
       "    </tr>\n",
       "    <tr>\n",
       "      <th>2008</th>\n",
       "      <td>34.48</td>\n",
       "      <td>12.65</td>\n",
       "    </tr>\n",
       "    <tr>\n",
       "      <th>2009</th>\n",
       "      <td>15.55</td>\n",
       "      <td>15.40</td>\n",
       "    </tr>\n",
       "  </tbody>\n",
       "</table>\n",
       "</div>"
      ]
     },
     "execution_count": 2,
     "metadata": {},
     "output_type": "execute_result"
    },
    {
     "name": "stderr",
     "output_type": "stream",
     "text": [
      "C:\\Users\\yarde\\anaconda3\\envs\\ggdp-research\\Lib\\site-packages\\scipy\\stats\\_axis_nan_policy.py:531: UserWarning: kurtosistest only valid for n>=20 ... continuing anyway, n=19\n",
      "  res = hypotest_fun_out(*samples, **kwds)\n"
     ]
    },
    {
     "data": {
      "text/plain": [
       "<class 'statsmodels.iolib.summary.Summary'>\n",
       "\"\"\"\n",
       "                            OLS Regression Results                            \n",
       "==============================================================================\n",
       "Dep. Variable:                 eu_ets   R-squared:                       0.165\n",
       "Model:                            OLS   Adj. R-squared:                  0.116\n",
       "Method:                 Least Squares   F-statistic:                     3.365\n",
       "Date:                Sat, 01 Jun 2024   Prob (F-statistic):             0.0842\n",
       "Time:                        11:02:37   Log-Likelihood:                -86.898\n",
       "No. Observations:                  19   AIC:                             177.8\n",
       "Df Residuals:                      17   BIC:                             179.7\n",
       "Df Model:                           1                                         \n",
       "Covariance Type:            nonrobust                                         \n",
       "======================================================================================\n",
       "                         coef    std err          t      P>|t|      [0.025      0.975]\n",
       "--------------------------------------------------------------------------------------\n",
       "Intercept              7.4432     11.154      0.667      0.514     -16.090      30.976\n",
       "finland_carbon_tax     0.3522      0.192      1.834      0.084      -0.053       0.757\n",
       "==============================================================================\n",
       "Omnibus:                        6.489   Durbin-Watson:                   0.533\n",
       "Prob(Omnibus):                  0.039   Jarque-Bera (JB):                4.314\n",
       "Skew:                           1.139   Prob(JB):                        0.116\n",
       "Kurtosis:                       3.508   Cond. No.                         114.\n",
       "==============================================================================\n",
       "\n",
       "Notes:\n",
       "[1] Standard Errors assume that the covariance matrix of the errors is correctly specified.\n",
       "\"\"\""
      ],
      "text/html": [
       "<table class=\"simpletable\">\n",
       "<caption>OLS Regression Results</caption>\n",
       "<tr>\n",
       "  <th>Dep. Variable:</th>         <td>eu_ets</td>      <th>  R-squared:         </th> <td>   0.165</td>\n",
       "</tr>\n",
       "<tr>\n",
       "  <th>Model:</th>                   <td>OLS</td>       <th>  Adj. R-squared:    </th> <td>   0.116</td>\n",
       "</tr>\n",
       "<tr>\n",
       "  <th>Method:</th>             <td>Least Squares</td>  <th>  F-statistic:       </th> <td>   3.365</td>\n",
       "</tr>\n",
       "<tr>\n",
       "  <th>Date:</th>             <td>Sat, 01 Jun 2024</td> <th>  Prob (F-statistic):</th>  <td>0.0842</td> \n",
       "</tr>\n",
       "<tr>\n",
       "  <th>Time:</th>                 <td>11:02:37</td>     <th>  Log-Likelihood:    </th> <td> -86.898</td>\n",
       "</tr>\n",
       "<tr>\n",
       "  <th>No. Observations:</th>      <td>    19</td>      <th>  AIC:               </th> <td>   177.8</td>\n",
       "</tr>\n",
       "<tr>\n",
       "  <th>Df Residuals:</th>          <td>    17</td>      <th>  BIC:               </th> <td>   179.7</td>\n",
       "</tr>\n",
       "<tr>\n",
       "  <th>Df Model:</th>              <td>     1</td>      <th>                     </th>     <td> </td>   \n",
       "</tr>\n",
       "<tr>\n",
       "  <th>Covariance Type:</th>      <td>nonrobust</td>    <th>                     </th>     <td> </td>   \n",
       "</tr>\n",
       "</table>\n",
       "<table class=\"simpletable\">\n",
       "<tr>\n",
       "           <td></td>             <th>coef</th>     <th>std err</th>      <th>t</th>      <th>P>|t|</th>  <th>[0.025</th>    <th>0.975]</th>  \n",
       "</tr>\n",
       "<tr>\n",
       "  <th>Intercept</th>          <td>    7.4432</td> <td>   11.154</td> <td>    0.667</td> <td> 0.514</td> <td>  -16.090</td> <td>   30.976</td>\n",
       "</tr>\n",
       "<tr>\n",
       "  <th>finland_carbon_tax</th> <td>    0.3522</td> <td>    0.192</td> <td>    1.834</td> <td> 0.084</td> <td>   -0.053</td> <td>    0.757</td>\n",
       "</tr>\n",
       "</table>\n",
       "<table class=\"simpletable\">\n",
       "<tr>\n",
       "  <th>Omnibus:</th>       <td> 6.489</td> <th>  Durbin-Watson:     </th> <td>   0.533</td>\n",
       "</tr>\n",
       "<tr>\n",
       "  <th>Prob(Omnibus):</th> <td> 0.039</td> <th>  Jarque-Bera (JB):  </th> <td>   4.314</td>\n",
       "</tr>\n",
       "<tr>\n",
       "  <th>Skew:</th>          <td> 1.139</td> <th>  Prob(JB):          </th> <td>   0.116</td>\n",
       "</tr>\n",
       "<tr>\n",
       "  <th>Kurtosis:</th>      <td> 3.508</td> <th>  Cond. No.          </th> <td>    114.</td>\n",
       "</tr>\n",
       "</table><br/><br/>Notes:<br/>[1] Standard Errors assume that the covariance matrix of the errors is correctly specified."
      ],
      "text/latex": "\\begin{center}\n\\begin{tabular}{lclc}\n\\toprule\n\\textbf{Dep. Variable:}       &     eu\\_ets      & \\textbf{  R-squared:         } &     0.165   \\\\\n\\textbf{Model:}               &       OLS        & \\textbf{  Adj. R-squared:    } &     0.116   \\\\\n\\textbf{Method:}              &  Least Squares   & \\textbf{  F-statistic:       } &     3.365   \\\\\n\\textbf{Date:}                & Sat, 01 Jun 2024 & \\textbf{  Prob (F-statistic):} &   0.0842    \\\\\n\\textbf{Time:}                &     11:02:37     & \\textbf{  Log-Likelihood:    } &   -86.898   \\\\\n\\textbf{No. Observations:}    &          19      & \\textbf{  AIC:               } &     177.8   \\\\\n\\textbf{Df Residuals:}        &          17      & \\textbf{  BIC:               } &     179.7   \\\\\n\\textbf{Df Model:}            &           1      & \\textbf{                     } &             \\\\\n\\textbf{Covariance Type:}     &    nonrobust     & \\textbf{                     } &             \\\\\n\\bottomrule\n\\end{tabular}\n\\begin{tabular}{lcccccc}\n                              & \\textbf{coef} & \\textbf{std err} & \\textbf{t} & \\textbf{P$> |$t$|$} & \\textbf{[0.025} & \\textbf{0.975]}  \\\\\n\\midrule\n\\textbf{Intercept}            &       7.4432  &       11.154     &     0.667  &         0.514        &      -16.090    &       30.976     \\\\\n\\textbf{finland\\_carbon\\_tax} &       0.3522  &        0.192     &     1.834  &         0.084        &       -0.053    &        0.757     \\\\\n\\bottomrule\n\\end{tabular}\n\\begin{tabular}{lclc}\n\\textbf{Omnibus:}       &  6.489 & \\textbf{  Durbin-Watson:     } &    0.533  \\\\\n\\textbf{Prob(Omnibus):} &  0.039 & \\textbf{  Jarque-Bera (JB):  } &    4.314  \\\\\n\\textbf{Skew:}          &  1.139 & \\textbf{  Prob(JB):          } &    0.116  \\\\\n\\textbf{Kurtosis:}      &  3.508 & \\textbf{  Cond. No.          } &     114.  \\\\\n\\bottomrule\n\\end{tabular}\n%\\caption{OLS Regression Results}\n\\end{center}\n\nNotes: \\newline\n [1] Standard Errors assume that the covariance matrix of the errors is correctly specified."
     },
     "execution_count": 2,
     "metadata": {},
     "output_type": "execute_result"
    }
   ],
   "execution_count": 2
  },
  {
   "cell_type": "markdown",
   "id": "c7ac4689c0d77af7",
   "metadata": {},
   "source": [
    "### Analysing Results\n",
    "I was looking to see if ets and carbon tax are very correlated, if they are then I could probably assume that one of them proxies for the other. We can see that linear relationship between the variables is insignificant. Meaning that they don't proxy linearly for each other. Thus I should probably use one of them or a combination of both when calculating the GGDP results."
   ]
  },
  {
   "cell_type": "markdown",
   "id": "b4b94bfc93ce9875",
   "metadata": {},
   "source": [
    "## Calculating GGDP\n",
    "The base formula which I'm going to use is this: $ GGDP = GDP - KtCO_{2} \\cdot P_{tCO_2} - Twaste \\cdot 74 kWh \\cdot P_{1 kWh elec} - GNI \\cdot \\% NRD/100 $\n",
    "\n",
    "First term - air pollution\n",
    "Second Term - waste pollution translated into electricity cost\n",
    "Third Term - Natural resource depletion\n",
    "\n",
    "The 74 figure is based on different papers: check this\n",
    "\n",
    "Managed to find all the data for this: arises the question of what data to include and how.\n",
    "\n",
    "The problems with this base formula are:\n",
    "1. doesn't account for defensive costs - the cost of restoring and protecting the environment. Need to find figures for this.\n",
    "2. the figure 74 isn't really based on anything concrete (the citing is quite unclear)\n",
    "3. no accounting for green innovation - not even sure if I want to add this, but perhaps I should\n",
    "\n",
    "The main problem with actually deriving GGDP is data availability and lack of accounting standard that can be implemented using available data.\n",
    "\n",
    "### Making some adjustments to get more accurate data\n",
    "\n",
    "The term $Natural Resource Depletion Cost = GNI \\cdot \\% NRD/100 $ is in effect caulculated using current dollar terms of GNI and not GNI[PPP] which changes the calculation method and the units. So insted we will now just directly calculate $NRD Cost = C_{forest} + C_{mineral} + C_{energy}$ (as the World Bank calculates it in the WDI database).\n",
    "In addition, we will not use the figure 74kWh because it's not really clear what it's based on, but I found a paper that explains that it's possible to create a closed self-sustainable system which generates 800kWh per 2 tons/hour waste -> 400 kWh from 1 ton/hour of waste.\n",
    "\n",
    "Particulate Emission Damage - another available series is particulate emission damage, which in my opinion accounts for some of the health adjustments to GDP as a result of using non-green drivers. It is not necessarily required so I will first calculate GGDP without it and then add it to see how it affects it.\n",
    "\n",
    "Defensive Costs - Defensive costs for finland started being recorded only from around 2014 which doesn't allow for much data. The question that arises is whether it should be accounted for at all since the data is in fact incomplete (Finland didn't really only start investing in defensive costs only since 2014). It would be possible to simulate some of the data for this, but I don't think it's a good idea because we have so little samples for this data.\n",
    "\n",
    "Essentially the formula we are going to use is: \\\n",
    "$ GGDP_{t} = GDP_{t} - C_{e,t}-C_{r,t}-C_{s,t} $ \\\n",
    "$ C_{e,t} = CO_{2} \\cdot P_{co2} $ \\\n",
    "$ C_{r,t} = NRD Cost_{t} = C_{forest,t} + C_{mineral,t} + C_{energy,t}$ \\\n",
    "$ C_{s,t} = Particulate Damage Cost $\n"
   ]
  },
  {
   "cell_type": "code",
   "id": "d00e464f5c09c8d",
   "metadata": {
    "ExecuteTime": {
     "end_time": "2024-06-01T10:02:59.925889Z",
     "start_time": "2024-06-01T10:02:59.894689Z"
    }
   },
   "source": [
    "wdi_data = pd.read_excel('./ggdp_data/world_bank/P_Data_Extract_From_World_Development_Indicators_v2.xlsx', header=0,\n",
    "                         sheet_name='Data', na_values='..')\n",
    "wdi_data = wdi_data.set_index('Country Name').T\n",
    "wdi_data = wdi_data.drop(['Series Code'])\n",
    "wdi_data = wdi_data.rename({\"Series Name\": \"variable_name\"})\n",
    "wdi_data = wdi_data.rename(index=lambda x: x[:y] if (y := x.find(' ')) != -1 else x)\n",
    "wdi_data = wdi_data.dropna(axis='columns', how='all')\n",
    "\n",
    "\n",
    "def replace_values_from_dict(curr_value, value_dict: dict):\n",
    "    try:\n",
    "        return value_dict[curr_value]\n",
    "    except KeyError:\n",
    "        return curr_value\n",
    "\n",
    "\n",
    "# wdi_variables_to_replace = {'GNI, PPP (current international $)': 'gni_ppp',\n",
    "#                             'Adjusted savings: carbon dioxide damage (% of GNI)': 'as_co2_damage_gni',\n",
    "#                             'Adjusted savings: natural resources depletion (% of GNI)': 'as_nrd_gni',\n",
    "#                             'Adjusted savings: particulate emission damage (% of GNI)': 'as_ped_gbi',\n",
    "#                             'GNI (current US$)': 'gni_dollar',\n",
    "#                             'CO2 emissions (kt)': 'co2_kt',\n",
    "#                             'Total greenhouse gas emissions (kt of CO2 equivalent)': 'total_gge_kt',\n",
    "#                             'GDP, PPP (current international $)': 'gdp_ppp',\n",
    "#                             'GDP (current US$)': 'gdp_dollar',\n",
    "#                             'PPP conversion factor, GDP (LCU per international $)': 'ppp_lcu_to_dollar'}\n",
    "\n",
    "#I refer to international dollar as ppp\n",
    "wdi_variables_to_replace = {'CO2 emissions (kt)': 'co2_kt',\n",
    "                            'GDP (current US$)': 'gdp_dollar',\n",
    "                            'Adjusted savings: energy depletion (current US$)': 'as_energy_depletion',\n",
    "                            'Adjusted savings: mineral depletion (current US$)': 'as_mineral_depletion',\n",
    "                            'Adjusted savings: net forest depletion (current US$)': 'as_forest_depletion',\n",
    "                            'PPP conversion factor, GDP (LCU per international $)': 'lcu_to_ppp',\n",
    "                            'Adjusted savings: particulate emission damage (current US$)': 'as_particulate_emission_damage',\n",
    "                            'GDP, PPP (current international $)': 'gdp_ppp',\n",
    "                            'GDP (current LCU)': 'gdp_lcu'}\n",
    "\n",
    "#def lower_only_letters(curr_str:str):\n",
    "\n",
    "\n",
    "#renaming variables\n",
    "wdi_data.loc['variable_name'] = (wdi_data.loc['variable_name']).apply(replace_values_from_dict,\n",
    "                                                                      args=(wdi_variables_to_replace,))\n",
    "\n",
    "\n",
    "def change_col_names_to_country(df: pd.DataFrame):\n",
    "    column_name_list = []\n",
    "    curr_col_name: str\n",
    "    for curr_col_name, curr_series in df.items():\n",
    "        #'country-name'_'variable-name'\n",
    "        new_column_name = f'{curr_col_name.lower()}_{curr_series[\"variable_name\"]}'\n",
    "        column_name_list.append(new_column_name)\n",
    "    df.columns = column_name_list\n",
    "\n",
    "\n",
    "#combine all finland data into one dataframe to avoid problems with dates\n",
    "finland_data = wdi_data['Finland']\n",
    "change_col_names_to_country(finland_data)\n",
    "finland_data = finland_data.drop(index=['Country', 'variable_name'])\n",
    "finland_data = finland_data.join(finland_carbon_tax, how='left')\n",
    "\n",
    "finland_data = finland_data.apply(pd.to_numeric)\n",
    "\n",
    "#calculating natural resource depletion cost in dollars\n",
    "finland_data['finland_as_nrd_cost'] = (finland_data['finland_as_energy_depletion'] +\n",
    "                                       finland_data['finland_as_mineral_depletion'] +\n",
    "                                       finland_data['finland_as_forest_depletion'])\n",
    "\n",
    "#use this to convert from EUR to current dollar\n",
    "finland_data['finland_dollar_to_lcu'] = finland_data['finland_gdp_dollar'] / finland_data['finland_gdp_lcu']\n",
    "finland_data['finland_ppp_to_dollar'] = 1 / (finland_data['finland_dollar_to_lcu'] * finland_data['finland_lcu_to_ppp'])\n"
   ],
   "outputs": [],
   "execution_count": 6
  },
  {
   "cell_type": "markdown",
   "id": "3b1b78fa67fede04",
   "metadata": {},
   "source": [
    "There's a problem with calculating waste because not enough waste data is available in order to constrcut the waste cost term. So there's a need to do imputation.\n",
    "I thought it would make sense to do the imputation by regressing waste on gdp, since as the country has more economic output the more waste it's going to have.\n",
    "\n",
    "I tried regressing Net Waste on GGDP[PPP] but I couldn't reject the null so decided not to use that model. But when I did a log transform it worked better, now I can reject both hypotheses and we get the model: $\\log(Net Waste) = -14.4018 + 1.2512 * \\log(GDP[PPP]) $. We get a very high R-squared as well.\n",
    "We can use this result to fill in the missing values all the way to 1990."
   ]
  },
  {
   "cell_type": "code",
   "id": "87fc7edb5736cf55",
   "metadata": {
    "ExecuteTime": {
     "end_time": "2024-06-01T10:03:01.092823Z",
     "start_time": "2024-06-01T10:03:01.041359Z"
    }
   },
   "source": [
    "#Waste calculation\n",
    "# Waste generation data preparation and projections\n",
    "waste_gen_data = pd.read_csv('./ggdp_data/eurostat_generation_of_waste_by_category.csv')\n",
    "waste_treatment_data = pd.read_csv('./ggdp_data/eurostat_waste_treatment_by_waste_category.csv')\n",
    "\n",
    "#getting Finland's total waste generation\n",
    "finland_gen_total = waste_gen_data[(waste_gen_data['geo'] == 'FI') & (waste_gen_data['waste'] == 'TOTAL')]\n",
    "finland_gen_total.index = finland_gen_total['TIME_PERIOD']\n",
    "#getting Finland's total energy recovery from waste, since we are pricing waste through energy prices.\n",
    "finland_energy_recovery = waste_treatment_data[\n",
    "    (waste_treatment_data['geo'] == 'FI') & (waste_treatment_data['wst_oper'] == 'RCV_E')]\n",
    "finland_energy_recovery.index = finland_energy_recovery['TIME_PERIOD']\n",
    "\n",
    "net_waste_data = pd.DataFrame()\n",
    "#calculating net waste: net_waste = generated_waste - energy_recovered_from_waste\n",
    "net_waste_data['finland_net_waste'] = finland_gen_total['OBS_VALUE'] - finland_energy_recovery['OBS_VALUE']\n",
    "\n",
    "net_waste_data.index = [str(x) for x in net_waste_data.index]\n",
    "\n",
    "#is GDP correlated with waste\n",
    "\n",
    "gdp_waste_data = net_waste_data.join(finland_data['finland_gdp_ppp'])\n",
    "\n",
    "gdp_waste_data['finland_net_waste_log'] = np.log(gdp_waste_data['finland_net_waste'])\n",
    "gdp_waste_data['finland_gdp_ppp_log'] = np.log(gdp_waste_data['finland_gdp_ppp'])\n",
    "\n",
    "model = sm.OLS.from_formula('finland_net_waste_log ~ finland_gdp_ppp_log', data=gdp_waste_data)\n",
    "results = model.fit()\n",
    "results.summary()"
   ],
   "outputs": [
    {
     "name": "stderr",
     "output_type": "stream",
     "text": [
      "C:\\Users\\yarde\\anaconda3\\envs\\ggdp-research\\Lib\\site-packages\\scipy\\stats\\_axis_nan_policy.py:531: UserWarning: kurtosistest only valid for n>=20 ... continuing anyway, n=9\n",
      "  res = hypotest_fun_out(*samples, **kwds)\n"
     ]
    },
    {
     "data": {
      "text/plain": [
       "<class 'statsmodels.iolib.summary.Summary'>\n",
       "\"\"\"\n",
       "                              OLS Regression Results                             \n",
       "=================================================================================\n",
       "Dep. Variable:     finland_net_waste_log   R-squared:                       0.811\n",
       "Model:                               OLS   Adj. R-squared:                  0.784\n",
       "Method:                    Least Squares   F-statistic:                     30.07\n",
       "Date:                   Sat, 01 Jun 2024   Prob (F-statistic):           0.000923\n",
       "Time:                           11:03:01   Log-Likelihood:                 7.3751\n",
       "No. Observations:                      9   AIC:                            -10.75\n",
       "Df Residuals:                          7   BIC:                            -10.36\n",
       "Df Model:                              1                                         \n",
       "Covariance Type:               nonrobust                                         \n",
       "=======================================================================================\n",
       "                          coef    std err          t      P>|t|      [0.025      0.975]\n",
       "---------------------------------------------------------------------------------------\n",
       "Intercept             -14.4018      5.962     -2.416      0.046     -28.499      -0.304\n",
       "finland_gdp_ppp_log     1.2512      0.228      5.483      0.001       0.712       1.791\n",
       "==============================================================================\n",
       "Omnibus:                        1.157   Durbin-Watson:                   2.204\n",
       "Prob(Omnibus):                  0.561   Jarque-Bera (JB):                0.678\n",
       "Skew:                           0.207   Prob(JB):                        0.713\n",
       "Kurtosis:                       1.721   Cond. No.                     3.87e+03\n",
       "==============================================================================\n",
       "\n",
       "Notes:\n",
       "[1] Standard Errors assume that the covariance matrix of the errors is correctly specified.\n",
       "[2] The condition number is large, 3.87e+03. This might indicate that there are\n",
       "strong multicollinearity or other numerical problems.\n",
       "\"\"\""
      ],
      "text/html": [
       "<table class=\"simpletable\">\n",
       "<caption>OLS Regression Results</caption>\n",
       "<tr>\n",
       "  <th>Dep. Variable:</th>    <td>finland_net_waste_log</td> <th>  R-squared:         </th> <td>   0.811</td>\n",
       "</tr>\n",
       "<tr>\n",
       "  <th>Model:</th>                     <td>OLS</td>          <th>  Adj. R-squared:    </th> <td>   0.784</td>\n",
       "</tr>\n",
       "<tr>\n",
       "  <th>Method:</th>               <td>Least Squares</td>     <th>  F-statistic:       </th> <td>   30.07</td>\n",
       "</tr>\n",
       "<tr>\n",
       "  <th>Date:</th>               <td>Sat, 01 Jun 2024</td>    <th>  Prob (F-statistic):</th> <td>0.000923</td>\n",
       "</tr>\n",
       "<tr>\n",
       "  <th>Time:</th>                   <td>11:03:01</td>        <th>  Log-Likelihood:    </th> <td>  7.3751</td>\n",
       "</tr>\n",
       "<tr>\n",
       "  <th>No. Observations:</th>        <td>     9</td>         <th>  AIC:               </th> <td>  -10.75</td>\n",
       "</tr>\n",
       "<tr>\n",
       "  <th>Df Residuals:</th>            <td>     7</td>         <th>  BIC:               </th> <td>  -10.36</td>\n",
       "</tr>\n",
       "<tr>\n",
       "  <th>Df Model:</th>                <td>     1</td>         <th>                     </th>     <td> </td>   \n",
       "</tr>\n",
       "<tr>\n",
       "  <th>Covariance Type:</th>        <td>nonrobust</td>       <th>                     </th>     <td> </td>   \n",
       "</tr>\n",
       "</table>\n",
       "<table class=\"simpletable\">\n",
       "<tr>\n",
       "           <td></td>              <th>coef</th>     <th>std err</th>      <th>t</th>      <th>P>|t|</th>  <th>[0.025</th>    <th>0.975]</th>  \n",
       "</tr>\n",
       "<tr>\n",
       "  <th>Intercept</th>           <td>  -14.4018</td> <td>    5.962</td> <td>   -2.416</td> <td> 0.046</td> <td>  -28.499</td> <td>   -0.304</td>\n",
       "</tr>\n",
       "<tr>\n",
       "  <th>finland_gdp_ppp_log</th> <td>    1.2512</td> <td>    0.228</td> <td>    5.483</td> <td> 0.001</td> <td>    0.712</td> <td>    1.791</td>\n",
       "</tr>\n",
       "</table>\n",
       "<table class=\"simpletable\">\n",
       "<tr>\n",
       "  <th>Omnibus:</th>       <td> 1.157</td> <th>  Durbin-Watson:     </th> <td>   2.204</td>\n",
       "</tr>\n",
       "<tr>\n",
       "  <th>Prob(Omnibus):</th> <td> 0.561</td> <th>  Jarque-Bera (JB):  </th> <td>   0.678</td>\n",
       "</tr>\n",
       "<tr>\n",
       "  <th>Skew:</th>          <td> 0.207</td> <th>  Prob(JB):          </th> <td>   0.713</td>\n",
       "</tr>\n",
       "<tr>\n",
       "  <th>Kurtosis:</th>      <td> 1.721</td> <th>  Cond. No.          </th> <td>3.87e+03</td>\n",
       "</tr>\n",
       "</table><br/><br/>Notes:<br/>[1] Standard Errors assume that the covariance matrix of the errors is correctly specified.<br/>[2] The condition number is large, 3.87e+03. This might indicate that there are<br/>strong multicollinearity or other numerical problems."
      ],
      "text/latex": "\\begin{center}\n\\begin{tabular}{lclc}\n\\toprule\n\\textbf{Dep. Variable:}         & finland\\_net\\_waste\\_log & \\textbf{  R-squared:         } &     0.811   \\\\\n\\textbf{Model:}                 &           OLS            & \\textbf{  Adj. R-squared:    } &     0.784   \\\\\n\\textbf{Method:}                &      Least Squares       & \\textbf{  F-statistic:       } &     30.07   \\\\\n\\textbf{Date:}                  &     Sat, 01 Jun 2024     & \\textbf{  Prob (F-statistic):} &  0.000923   \\\\\n\\textbf{Time:}                  &         11:03:01         & \\textbf{  Log-Likelihood:    } &    7.3751   \\\\\n\\textbf{No. Observations:}      &               9          & \\textbf{  AIC:               } &    -10.75   \\\\\n\\textbf{Df Residuals:}          &               7          & \\textbf{  BIC:               } &    -10.36   \\\\\n\\textbf{Df Model:}              &               1          & \\textbf{                     } &             \\\\\n\\textbf{Covariance Type:}       &        nonrobust         & \\textbf{                     } &             \\\\\n\\bottomrule\n\\end{tabular}\n\\begin{tabular}{lcccccc}\n                                & \\textbf{coef} & \\textbf{std err} & \\textbf{t} & \\textbf{P$> |$t$|$} & \\textbf{[0.025} & \\textbf{0.975]}  \\\\\n\\midrule\n\\textbf{Intercept}              &     -14.4018  &        5.962     &    -2.416  &         0.046        &      -28.499    &       -0.304     \\\\\n\\textbf{finland\\_gdp\\_ppp\\_log} &       1.2512  &        0.228     &     5.483  &         0.001        &        0.712    &        1.791     \\\\\n\\bottomrule\n\\end{tabular}\n\\begin{tabular}{lclc}\n\\textbf{Omnibus:}       &  1.157 & \\textbf{  Durbin-Watson:     } &    2.204  \\\\\n\\textbf{Prob(Omnibus):} &  0.561 & \\textbf{  Jarque-Bera (JB):  } &    0.678  \\\\\n\\textbf{Skew:}          &  0.207 & \\textbf{  Prob(JB):          } &    0.713  \\\\\n\\textbf{Kurtosis:}      &  1.721 & \\textbf{  Cond. No.          } & 3.87e+03  \\\\\n\\bottomrule\n\\end{tabular}\n%\\caption{OLS Regression Results}\n\\end{center}\n\nNotes: \\newline\n [1] Standard Errors assume that the covariance matrix of the errors is correctly specified. \\newline\n [2] The condition number is large, 3.87e+03. This might indicate that there are \\newline\n strong multicollinearity or other numerical problems."
     },
     "execution_count": 7,
     "metadata": {},
     "output_type": "execute_result"
    }
   ],
   "execution_count": 7
  },
  {
   "cell_type": "code",
   "id": "2fe84ca93d249baf",
   "metadata": {
    "ExecuteTime": {
     "end_time": "2024-06-01T10:03:02.144659Z",
     "start_time": "2024-06-01T10:03:02.138331Z"
    }
   },
   "source": [
    "#adding the model from the regression to the data\n",
    "finland_data['finland_gdp_ppp_log'] = np.log(finland_data['finland_gdp_ppp'])\n",
    "finland_data['net_waste_log'] = results.params['Intercept'] + finland_data['finland_gdp_ppp_log'] * results.params[\n",
    "    'finland_gdp_ppp_log']\n",
    "finland_data['net_waste'] = np.exp(finland_data['net_waste_log'])\n"
   ],
   "outputs": [],
   "execution_count": 8
  },
  {
   "cell_type": "markdown",
   "id": "cdbb6ac9f96350db",
   "metadata": {},
   "source": [
    "### Electricity Price\n",
    "We use electricity price to be able to price solid waste. The problem is electricity price is tiered so the calculation has to be done accordingly. What I plan on doing is taking the fractional part of the total waste converted to electricity respective to house-hold use and industrial use in Finland and then look at each one of them as if it were a single consumer. This is an obvious over-simplification but otherwise there is no way of calculating it because of a lack of data."
   ]
  },
  {
   "cell_type": "code",
   "id": "28884d3c7606cff3",
   "metadata": {
    "ExecuteTime": {
     "end_time": "2024-06-01T10:03:04.000535Z",
     "start_time": "2024-06-01T10:03:03.704515Z"
    }
   },
   "source": [
    "from electrcity_processing_functions import tax_tier_map, process_electricity_df, process_electricity_consumption_df\n",
    "\n",
    "elec_hh_pre_2007 = pd.read_csv('./ggdp_data/eurostat_electricity/eurostat_electricity_price_hh_pre_2007.csv', header=0)\n",
    "elec_hh_pre_2007_processed = process_electricity_df(country_code='FI', elec_df=elec_hh_pre_2007)\n",
    "elec_hh_post_2007 = pd.read_csv('./ggdp_data/eurostat_electricity/eurostat_electricity_price_hh_post_2007.csv',\n",
    "                                header=0)\n",
    "\n",
    "#there's overlap with the two dataframe: both have 2007 data\n",
    "elec_hh_pre_2007_index_to_drop = elec_hh_pre_2007_processed[elec_hh_pre_2007_processed['year'] == '2007'].index\n",
    "elec_hh_pre_2007_processed = elec_hh_pre_2007_processed.drop(index=elec_hh_pre_2007_index_to_drop)\n",
    "\n",
    "elec_hh_post_2007_processed = process_electricity_df(country_code='FI', elec_df=elec_hh_post_2007)\n",
    "elec_hh = pd.concat([elec_hh_post_2007_processed, elec_hh_pre_2007_processed])\n",
    "elec_hh = elec_hh.replace({'tax_tier': tax_tier_map})\n",
    "elec_hh['tax_tier'] = pd.to_numeric(elec_hh['tax_tier'])\n",
    "elec_hh['year'] = pd.to_numeric(elec_hh['year'])\n",
    "\n",
    "elec_nh_pre_2007 = pd.read_csv('./ggdp_data/eurostat_electricity/eurostat_electricity_price_nh_pre_2007.csv')\n",
    "elec_nh_pre_2007_processed = process_electricity_df(country_code='FI', elec_df=elec_nh_pre_2007)\n",
    "elec_nh_post_2007 = pd.read_csv('./ggdp_data/eurostat_electricity/eurostat_electricity_price_nh_post_2007.csv')\n",
    "elec_nh_post_2007_processed = process_electricity_df(country_code='FI', elec_df=elec_nh_post_2007)\n",
    "elec_nh = pd.concat([elec_nh_post_2007_processed, elec_nh_pre_2007_processed])\n",
    "elec_nh = elec_nh.replace({'tax_tier': tax_tier_map})\n",
    "elec_nh['tax_tier'] = pd.to_numeric(elec_nh['tax_tier'])\n",
    "elec_nh['year'] = pd.to_numeric(elec_nh['year'])\n",
    "\n",
    "elec_consumption = pd.read_csv('./ggdp_data/eurostat_electricity/eurostat_electricity_consumption.csv', header=0)\n",
    "elec_consump_processed = process_electricity_consumption_df(country_code='FI', df=elec_consumption)\n"
   ],
   "outputs": [
    {
     "name": "stderr",
     "output_type": "stream",
     "text": [
      "C:\\Users\\yarde\\PycharmProjects\\ggdp_research\\electrcity_processing_functions.py:25: SettingWithCopyWarning: \n",
      "A value is trying to be set on a copy of a slice from a DataFrame.\n",
      "Try using .loc[row_indexer,col_indexer] = value instead\n",
      "\n",
      "See the caveats in the documentation: https://pandas.pydata.org/pandas-docs/stable/user_guide/indexing.html#returning-a-view-versus-a-copy\n",
      "  filtered_df.loc[:, 'year'] = filtered_df['TIME_PERIOD'].apply(lambda x: x[:x.find('-')])\n",
      "C:\\Users\\yarde\\PycharmProjects\\ggdp_research\\electrcity_processing_functions.py:33: FutureWarning: Series.fillna with 'method' is deprecated and will raise in a future version. Use obj.ffill() or obj.bfill() instead.\n",
      "  filtered_df['price'] = filtered_df.loc[:, 'price'].fillna(method='ffill')\n",
      "C:\\Users\\yarde\\PycharmProjects\\ggdp_research\\electrcity_processing_functions.py:25: SettingWithCopyWarning: \n",
      "A value is trying to be set on a copy of a slice from a DataFrame.\n",
      "Try using .loc[row_indexer,col_indexer] = value instead\n",
      "\n",
      "See the caveats in the documentation: https://pandas.pydata.org/pandas-docs/stable/user_guide/indexing.html#returning-a-view-versus-a-copy\n",
      "  filtered_df.loc[:, 'year'] = filtered_df['TIME_PERIOD'].apply(lambda x: x[:x.find('-')])\n",
      "C:\\Users\\yarde\\PycharmProjects\\ggdp_research\\electrcity_processing_functions.py:33: FutureWarning: Series.fillna with 'method' is deprecated and will raise in a future version. Use obj.ffill() or obj.bfill() instead.\n",
      "  filtered_df['price'] = filtered_df.loc[:, 'price'].fillna(method='ffill')\n",
      "C:\\Users\\yarde\\AppData\\Local\\Temp\\ipykernel_8772\\3954915686.py:14: FutureWarning: Downcasting behavior in `replace` is deprecated and will be removed in a future version. To retain the old behavior, explicitly call `result.infer_objects(copy=False)`. To opt-in to the future behavior, set `pd.set_option('future.no_silent_downcasting', True)`\n",
      "  elec_hh = elec_hh.replace({'tax_tier': tax_tier_map})\n",
      "C:\\Users\\yarde\\PycharmProjects\\ggdp_research\\electrcity_processing_functions.py:25: SettingWithCopyWarning: \n",
      "A value is trying to be set on a copy of a slice from a DataFrame.\n",
      "Try using .loc[row_indexer,col_indexer] = value instead\n",
      "\n",
      "See the caveats in the documentation: https://pandas.pydata.org/pandas-docs/stable/user_guide/indexing.html#returning-a-view-versus-a-copy\n",
      "  filtered_df.loc[:, 'year'] = filtered_df['TIME_PERIOD'].apply(lambda x: x[:x.find('-')])\n",
      "C:\\Users\\yarde\\PycharmProjects\\ggdp_research\\electrcity_processing_functions.py:33: FutureWarning: Series.fillna with 'method' is deprecated and will raise in a future version. Use obj.ffill() or obj.bfill() instead.\n",
      "  filtered_df['price'] = filtered_df.loc[:, 'price'].fillna(method='ffill')\n",
      "C:\\Users\\yarde\\PycharmProjects\\ggdp_research\\electrcity_processing_functions.py:25: SettingWithCopyWarning: \n",
      "A value is trying to be set on a copy of a slice from a DataFrame.\n",
      "Try using .loc[row_indexer,col_indexer] = value instead\n",
      "\n",
      "See the caveats in the documentation: https://pandas.pydata.org/pandas-docs/stable/user_guide/indexing.html#returning-a-view-versus-a-copy\n",
      "  filtered_df.loc[:, 'year'] = filtered_df['TIME_PERIOD'].apply(lambda x: x[:x.find('-')])\n",
      "C:\\Users\\yarde\\PycharmProjects\\ggdp_research\\electrcity_processing_functions.py:33: FutureWarning: Series.fillna with 'method' is deprecated and will raise in a future version. Use obj.ffill() or obj.bfill() instead.\n",
      "  filtered_df['price'] = filtered_df.loc[:, 'price'].fillna(method='ffill')\n",
      "C:\\Users\\yarde\\AppData\\Local\\Temp\\ipykernel_8772\\3954915686.py:23: FutureWarning: Downcasting behavior in `replace` is deprecated and will be removed in a future version. To retain the old behavior, explicitly call `result.infer_objects(copy=False)`. To opt-in to the future behavior, set `pd.set_option('future.no_silent_downcasting', True)`\n",
      "  elec_nh = elec_nh.replace({'tax_tier': tax_tier_map})\n"
     ]
    }
   ],
   "execution_count": 9
  },
  {
   "cell_type": "markdown",
   "id": "25b476328bb51792",
   "metadata": {},
   "source": [
    "When looking at electricity prices I only decided to look at electricity prices for household and non-household consumptio because the cost for household vs non-hosehold electricty prices are different. This presents a bit of a challange in pricing electricity becasue it raises the question of which rate to use. I decided to take the relative part of household and non-household from the WTE output. For example if HH is 2/3 of the total consumption and NH is 1/3 so we will price 2/3 of WTE using HH pricess and a 1/3 of WTE using NH prices."
   ]
  },
  {
   "cell_type": "code",
   "id": "650003956d7f976d",
   "metadata": {
    "ExecuteTime": {
     "end_time": "2024-06-01T10:03:10.574729Z",
     "start_time": "2024-06-01T10:03:10.537472Z"
    }
   },
   "source": [
    "from numpy import nan\n",
    "\n",
    "\n",
    "#some electricity prices for post 2007 data are missing for finland data so I took official data from Statistics Finland’s free-of-charge statistical databases\n",
    "# I plan on merging the data together to get as much data as possible\n",
    "def process_fin_stat_df(df: pd.DataFrame) -> pd.DataFrame:\n",
    "    df['year'] = df['Month'].apply(lambda x: x[:x.find('M')])\n",
    "    df = df.replace({'..': nan})\n",
    "    df = df.dropna(axis='columns', how='all')\n",
    "    df = df.drop(columns=['Month'])\n",
    "    df = df.apply(pd.to_numeric)\n",
    "    average_yearly_price_df = df.groupby(['year'], as_index=False).mean()\n",
    "    average_yearly_with_tax_tier_rows = []\n",
    "\n",
    "    for index, row in average_yearly_price_df.iterrows():\n",
    "        tax_tiers = list(row.index.values)\n",
    "        tax_tiers.remove('year')\n",
    "        for tier in tax_tiers:\n",
    "            average_yearly_with_tax_tier_rows.append(\n",
    "                {'year': row['year'],\n",
    "                 'tax_tier': tier,\n",
    "                 'price': row[tier] / 100,\n",
    "                 'currency': 'EUR'}\n",
    "            )\n",
    "    return pd.DataFrame(average_yearly_with_tax_tier_rows)\n",
    "\n",
    "    #for each year we have a price for each consumption range\n",
    "\n",
    "\n",
    "fin_stat_elec_price_hh = pd.read_csv('ggdp_data/finalnd_statistics_db/finalnd_statistics_hh_elec_prices.csv', header=0)\n",
    "fin_stat_elec_price_hh = process_fin_stat_df(fin_stat_elec_price_hh)\n",
    "\n",
    "fin_stat_elec_price_nh = pd.read_csv('ggdp_data/finalnd_statistics_db/finalnd_statistics_nh_elec_prices.csv', header=0)\n",
    "fin_stat_elec_price_nh = process_fin_stat_df(fin_stat_elec_price_nh)\n",
    "\n",
    "#combining both datasets\n",
    "#for hh we start at 2009 for official dataset, so anything prior to that will be taken from processed dataset\n",
    "\n",
    "\n",
    "hh_elec_filtered_to_combine_eurostat = elec_hh[(elec_hh['currency'] == 'EUR') & (elec_hh['year'] < 2009)]\n",
    "hh_elec_combined = pd.concat([hh_elec_filtered_to_combine_eurostat, fin_stat_elec_price_hh])\n",
    "hh_elec_combined = hh_elec_combined.sort_values(by=['year', 'tax_tier'])\n",
    "hh_elec_combined['tax_tier'] = pd.to_numeric(hh_elec_combined['tax_tier'])\n",
    "\n",
    "#\n",
    "\n",
    "\n",
    "nh_elec_filtered_to_combine_eurostat = elec_nh[(elec_nh['currency'] == 'EUR') & (elec_nh['year'] < 2008)]\n",
    "\n",
    "index_of_missing_val = fin_stat_elec_price_nh[\n",
    "    (fin_stat_elec_price_nh['year'] == 2008) & (fin_stat_elec_price_nh['tax_tier'] == '20000')].index\n",
    "price_for_filling = \\\n",
    "    elec_nh[(elec_nh['year'] == 2008) & (elec_nh['currency'] == 'EUR') & (elec_nh['tax_tier'] == 20000)].squeeze(\n",
    "        axis=0)[\n",
    "        'price']\n",
    "fin_stat_elec_price_nh.loc[index_of_missing_val, 'price'] = price_for_filling\n",
    "\n",
    "nh_elec_combined = pd.concat([nh_elec_filtered_to_combine_eurostat, fin_stat_elec_price_nh])\n",
    "nh_elec_combined['tax_tier'] = pd.to_numeric(nh_elec_combined['tax_tier'])"
   ],
   "outputs": [],
   "execution_count": 10
  },
  {
   "cell_type": "markdown",
   "id": "1469f4fbf9ff59d",
   "metadata": {},
   "source": [
    "## Units for GGDP\n",
    "- Carbon pricing - carbon tax is dollar/kilo-ton of CO2 emission\n",
    "- waste cost - is in dollars\n",
    "- NRD - in percentage of GDP\n",
    "- GDP - can be in ppp or dollars. I'll choose to work with dollars for uniformity of the data\n",
    "I want to work with real GGDP, GGDP[PPP] in order to get real growth rates and not just nominal ones. This is especially important when comparing different countries or scenrios since if a specific policy will increase GGDP growth but might actually cause an infaltion increase which is greater, thus actually shrinking real GGDP."
   ]
  },
  {
   "cell_type": "code",
   "id": "58323f83d2f5d694",
   "metadata": {
    "ExecuteTime": {
     "end_time": "2024-06-01T10:30:43.206825Z",
     "start_time": "2024-06-01T10:03:41.947175Z"
    }
   },
   "source": [
    "from numpy import nan\n",
    "\n",
    "from consumption_functions import calculate_energy_cost\n",
    "\n",
    "finland_ggdp = pd.DataFrame()\n",
    "#calculating GGDP with current data\n",
    "#Calculating GGDP using base formula\n",
    "\n",
    "#emission cost\n",
    "#carbon tax is us$/ton of CO2\n",
    "#perhaps need to convert this to ppp\n",
    "finland_ggdp['co2_emission_cost_dollar'] = finland_data['finland_co2_kt'] * 1000 * finland_data['finland_carbon_tax']\n",
    "\n",
    "#waste cost\n",
    "#need to add electricity price\n",
    "wte_conversion_constant = 400  # kWh/ton of waste\n",
    "total_wte: pd.Series = finland_data['net_waste'] * wte_conversion_constant\n",
    "years_index = list(total_wte.index)\n",
    "years_series = pd.Series({year: int(year) for year in years_index}, index=years_index)\n",
    "years_series.name = 'year'\n",
    "wte_df = pd.concat([total_wte, years_series], axis=1)\n",
    "\n",
    "#This is in EURO\n",
    "#Need to convert EUR (lcu) to current dollars\n",
    "finland_ggdp['waste_cost_eur'] = wte_df.apply(lambda x: calculate_energy_cost(wte=x['net_waste'],\n",
    "                                                                              year=x['year'], currency='EUR',\n",
    "                                                                              elec_consumption=elec_consump_processed,\n",
    "                                                                              hh_elec=hh_elec_combined,\n",
    "                                                                              nh_elec=nh_elec_combined)\n",
    "                                              , axis=1)\n",
    "\n",
    "finland_ggdp = finland_ggdp.join(\n",
    "    finland_data[['finland_dollar_to_lcu', 'finland_ppp_to_dollar', 'finland_as_particulate_emission_damage', 'finland_gdp_ppp']])\n",
    "finland_ggdp['waste_cost_dollar'] = finland_ggdp['waste_cost_eur'] * finland_ggdp['finland_dollar_to_lcu']\n",
    "\n",
    "#natural resource depltion cost in current dollar\n",
    "finland_ggdp['natural_nrd_cost_dollar'] = finland_data['finland_as_nrd_cost']\n",
    "\n",
    "#in current dollar\n",
    "finland_ggdp['ggdp_dollar'] = finland_data['finland_gdp_dollar'] - finland_ggdp['co2_emission_cost_dollar'] - \\\n",
    "                              finland_ggdp[\n",
    "                                  'waste_cost_dollar'] - finland_ggdp['natural_nrd_cost_dollar']\n",
    "\n",
    "finland_ggdp['ggdp_ppp'] = finland_ggdp['ggdp_dollar'] * finland_ggdp['finland_ppp_to_dollar']\n",
    "\n",
    "#deducting particulate damage to see if it affects the ggdp at all\n",
    "finland_ggdp['ggdp_dollar_adjusted_particulate_damage'] = finland_ggdp['ggdp_dollar'] - finland_ggdp[\n",
    "    'finland_as_particulate_emission_damage']\n",
    "finland_ggdp['ggdp_ppp_adjusted_particulate_damage'] = finland_ggdp['ggdp_dollar_adjusted_particulate_damage'] * \\\n",
    "                                                       finland_ggdp['finland_ppp_to_dollar']\n",
    "\n",
    "#I'm interested in gdp growth so the currency doesn't matter as long as it represents ppp and not only currency. PPP is local currency/dollar so I will calculate ggdp in lcu (local currency units) controlled for ppp and then when I calculate growth it becomes unitless but is adjusted for real terms.\n",
    "\n",
    "#adding ppp_lcu_to_dollar_to_data_frame\n",
    "#finland_ggdp = finland_ggdp.join(finland_data['finland_ppp_lcu_to_dollar'])\n",
    "#finland_ggdp['ggdp_lcu'] = finland_ggdp['ggdp_dollar'] * finland_ggdp['finland_ppp_lcu_to_dollar']\n",
    "finland_ggdp['ggdp_growth'] = finland_ggdp['ggdp_ppp'] / finland_ggdp['ggdp_ppp'].shift(1) - 1\n",
    "finland_ggdp['gdp_growth'] = finland_ggdp['finland_gdp_ppp'] / finland_ggdp['finland_gdp_ppp'].shift(1) - 1\n",
    "finland_ggdp['ggdp_with_particulate_damage_growth'] = finland_ggdp['ggdp_ppp_adjusted_particulate_damage'] / \\\n",
    "                                                      finland_ggdp['ggdp_ppp_adjusted_particulate_damage'].shift(1) - 1\n",
    "\n",
    "#pickling the result for further analysis\n",
    "finland_ggdp.to_pickle('./ggdp_processed_data/finland_ggdp.pkl')"
   ],
   "outputs": [
    {
     "ename": "KeyboardInterrupt",
     "evalue": "",
     "output_type": "error",
     "traceback": [
      "\u001B[1;31m---------------------------------------------------------------------------\u001B[0m",
      "\u001B[1;31mKeyboardInterrupt\u001B[0m                         Traceback (most recent call last)",
      "Cell \u001B[1;32mIn[13], line 59\u001B[0m\n\u001B[0;32m     57\u001B[0m finland_ggdp[\u001B[38;5;124m'\u001B[39m\u001B[38;5;124mggdp_growth\u001B[39m\u001B[38;5;124m'\u001B[39m] \u001B[38;5;241m=\u001B[39m finland_ggdp[\u001B[38;5;124m'\u001B[39m\u001B[38;5;124mggdp_ppp\u001B[39m\u001B[38;5;124m'\u001B[39m] \u001B[38;5;241m/\u001B[39m finland_ggdp[\u001B[38;5;124m'\u001B[39m\u001B[38;5;124mggdp_ppp\u001B[39m\u001B[38;5;124m'\u001B[39m]\u001B[38;5;241m.\u001B[39mshift(\u001B[38;5;241m1\u001B[39m) \u001B[38;5;241m-\u001B[39m \u001B[38;5;241m1\u001B[39m\n\u001B[0;32m     58\u001B[0m finland_ggdp[\u001B[38;5;124m'\u001B[39m\u001B[38;5;124mgdp_growth\u001B[39m\u001B[38;5;124m'\u001B[39m] \u001B[38;5;241m=\u001B[39m finland_ggdp[\u001B[38;5;124m'\u001B[39m\u001B[38;5;124mfinland_gdp_ppp\u001B[39m\u001B[38;5;124m'\u001B[39m] \u001B[38;5;241m/\u001B[39m finland_ggdp[\u001B[38;5;124m'\u001B[39m\u001B[38;5;124mfinland_gdp_ppp\u001B[39m\u001B[38;5;124m'\u001B[39m]\u001B[38;5;241m.\u001B[39mshift(\u001B[38;5;241m1\u001B[39m) \u001B[38;5;241m-\u001B[39m \u001B[38;5;241m1\u001B[39m\n\u001B[1;32m---> 59\u001B[0m finland_ggdp[\u001B[38;5;124m'\u001B[39m\u001B[38;5;124mggdp_with_particulate_damage_growth\u001B[39m\u001B[38;5;124m'\u001B[39m] \u001B[38;5;241m=\u001B[39m \u001B[43mfinland_ggdp\u001B[49m[\u001B[38;5;124m'\u001B[39m\u001B[38;5;124mggdp_ppp_adjusted_particulate_damage\u001B[39m\u001B[38;5;124m'\u001B[39m] \u001B[38;5;241m/\u001B[39m \\\n\u001B[0;32m     60\u001B[0m                                                       finland_ggdp[\u001B[38;5;124m'\u001B[39m\u001B[38;5;124mggdp_ppp_adjusted_particulate_damage\u001B[39m\u001B[38;5;124m'\u001B[39m]\u001B[38;5;241m.\u001B[39mshift(\u001B[38;5;241m1\u001B[39m) \u001B[38;5;241m-\u001B[39m \u001B[38;5;241m1\u001B[39m\n\u001B[0;32m     62\u001B[0m \u001B[38;5;66;03m#pickling the result for further analysis\u001B[39;00m\n\u001B[0;32m     63\u001B[0m finland_ggdp\u001B[38;5;241m.\u001B[39mto_pickle(\u001B[38;5;124m'\u001B[39m\u001B[38;5;124m./ggdp_processed_data/finland_ggdp.pkl\u001B[39m\u001B[38;5;124m'\u001B[39m)\n",
      "File \u001B[1;32m_pydevd_bundle\\\\pydevd_cython_win32_311_64.pyx:1187\u001B[0m, in \u001B[0;36m_pydevd_bundle.pydevd_cython_win32_311_64.SafeCallWrapper.__call__\u001B[1;34m()\u001B[0m\n",
      "File \u001B[1;32m_pydevd_bundle\\\\pydevd_cython_win32_311_64.pyx:627\u001B[0m, in \u001B[0;36m_pydevd_bundle.pydevd_cython_win32_311_64.PyDBFrame.trace_dispatch\u001B[1;34m()\u001B[0m\n",
      "File \u001B[1;32m_pydevd_bundle\\\\pydevd_cython_win32_311_64.pyx:937\u001B[0m, in \u001B[0;36m_pydevd_bundle.pydevd_cython_win32_311_64.PyDBFrame.trace_dispatch\u001B[1;34m()\u001B[0m\n",
      "File \u001B[1;32m_pydevd_bundle\\\\pydevd_cython_win32_311_64.pyx:928\u001B[0m, in \u001B[0;36m_pydevd_bundle.pydevd_cython_win32_311_64.PyDBFrame.trace_dispatch\u001B[1;34m()\u001B[0m\n",
      "File \u001B[1;32m_pydevd_bundle\\\\pydevd_cython_win32_311_64.pyx:585\u001B[0m, in \u001B[0;36m_pydevd_bundle.pydevd_cython_win32_311_64.PyDBFrame.do_wait_suspend\u001B[1;34m()\u001B[0m\n",
      "File \u001B[1;32mC:\\Program Files\\JetBrains\\PyCharm 2024.1\\plugins\\python\\helpers\\pydev\\pydevd.py:1185\u001B[0m, in \u001B[0;36mPyDB.do_wait_suspend\u001B[1;34m(self, thread, frame, event, arg, send_suspend_message, is_unhandled_exception)\u001B[0m\n\u001B[0;32m   1182\u001B[0m         from_this_thread\u001B[38;5;241m.\u001B[39mappend(frame_id)\n\u001B[0;32m   1184\u001B[0m \u001B[38;5;28;01mwith\u001B[39;00m \u001B[38;5;28mself\u001B[39m\u001B[38;5;241m.\u001B[39m_threads_suspended_single_notification\u001B[38;5;241m.\u001B[39mnotify_thread_suspended(thread_id, stop_reason):\n\u001B[1;32m-> 1185\u001B[0m     \u001B[38;5;28;43mself\u001B[39;49m\u001B[38;5;241;43m.\u001B[39;49m\u001B[43m_do_wait_suspend\u001B[49m\u001B[43m(\u001B[49m\u001B[43mthread\u001B[49m\u001B[43m,\u001B[49m\u001B[43m \u001B[49m\u001B[43mframe\u001B[49m\u001B[43m,\u001B[49m\u001B[43m \u001B[49m\u001B[43mevent\u001B[49m\u001B[43m,\u001B[49m\u001B[43m \u001B[49m\u001B[43marg\u001B[49m\u001B[43m,\u001B[49m\u001B[43m \u001B[49m\u001B[43msuspend_type\u001B[49m\u001B[43m,\u001B[49m\u001B[43m \u001B[49m\u001B[43mfrom_this_thread\u001B[49m\u001B[43m)\u001B[49m\n",
      "File \u001B[1;32mC:\\Program Files\\JetBrains\\PyCharm 2024.1\\plugins\\python\\helpers\\pydev\\pydevd.py:1200\u001B[0m, in \u001B[0;36mPyDB._do_wait_suspend\u001B[1;34m(self, thread, frame, event, arg, suspend_type, from_this_thread)\u001B[0m\n\u001B[0;32m   1197\u001B[0m             \u001B[38;5;28mself\u001B[39m\u001B[38;5;241m.\u001B[39m_call_mpl_hook()\n\u001B[0;32m   1199\u001B[0m         \u001B[38;5;28mself\u001B[39m\u001B[38;5;241m.\u001B[39mprocess_internal_commands()\n\u001B[1;32m-> 1200\u001B[0m         \u001B[43mtime\u001B[49m\u001B[38;5;241;43m.\u001B[39;49m\u001B[43msleep\u001B[49m\u001B[43m(\u001B[49m\u001B[38;5;241;43m0.01\u001B[39;49m\u001B[43m)\u001B[49m\n\u001B[0;32m   1202\u001B[0m \u001B[38;5;28mself\u001B[39m\u001B[38;5;241m.\u001B[39mcancel_async_evaluation(get_current_thread_id(thread), \u001B[38;5;28mstr\u001B[39m(\u001B[38;5;28mid\u001B[39m(frame)))\n\u001B[0;32m   1204\u001B[0m \u001B[38;5;66;03m# process any stepping instructions\u001B[39;00m\n",
      "\u001B[1;31mKeyboardInterrupt\u001B[0m: "
     ]
    }
   ],
   "execution_count": 13
  },
  {
   "cell_type": "code",
   "id": "dc612f7c6e8636e0",
   "metadata": {
    "ExecuteTime": {
     "end_time": "2024-06-01T10:03:14.307975Z",
     "start_time": "2024-06-01T10:03:14.282763Z"
    }
   },
   "source": [
    "from ggdp_calculation_utils import get_summary_statistics\n",
    "\n",
    "#only keep data where both gdp and ggdp exist\n",
    "finland_ggdp = finland_ggdp.dropna(subset=['ggdp_growth'], how='any', axis=0)\n",
    "\n",
    "merged_summary_stats = get_summary_statistics(finland_ggdp, columns=['ggdp_growth', 'ggdp_with_particulate_damage_growth', 'gdp_growth'])\n",
    "\n",
    "merged_summary_stats\n",
    "\n",
    "ks_result = stats.ks_2samp(finland_ggdp['ggdp_growth'].dropna(), finland_ggdp['ggdp_with_particulate_damage_growth'].dropna())\n",
    "print(f\"KS Test result: KS Value:{ks_result.statistic}, p-value: {ks_result.pvalue}\")"
   ],
   "outputs": [
    {
     "data": {
      "text/plain": [
       "          ggdp_growth  ggdp_with_particulate_damage_growth  gdp_growth\n",
       "count       25.000000                            25.000000   25.000000\n",
       "mean         0.044217                             0.044231    0.044999\n",
       "std          0.033549                             0.033550    0.033379\n",
       "min         -0.049560                            -0.049567   -0.048162\n",
       "25%          0.023382                             0.023368    0.022373\n",
       "50%          0.039033                             0.039054    0.043620\n",
       "75%          0.064722                             0.064720    0.064043\n",
       "max          0.103937                             0.103938    0.103132\n",
       "variance     0.001126                             0.001126    0.001114\n",
       "skewness    -0.575333                            -0.575771   -0.608272\n",
       "kurtosis     1.127218                             1.128964    1.063082"
      ],
      "text/html": [
       "<div>\n",
       "<style scoped>\n",
       "    .dataframe tbody tr th:only-of-type {\n",
       "        vertical-align: middle;\n",
       "    }\n",
       "\n",
       "    .dataframe tbody tr th {\n",
       "        vertical-align: top;\n",
       "    }\n",
       "\n",
       "    .dataframe thead th {\n",
       "        text-align: right;\n",
       "    }\n",
       "</style>\n",
       "<table border=\"1\" class=\"dataframe\">\n",
       "  <thead>\n",
       "    <tr style=\"text-align: right;\">\n",
       "      <th></th>\n",
       "      <th>ggdp_growth</th>\n",
       "      <th>ggdp_with_particulate_damage_growth</th>\n",
       "      <th>gdp_growth</th>\n",
       "    </tr>\n",
       "  </thead>\n",
       "  <tbody>\n",
       "    <tr>\n",
       "      <th>count</th>\n",
       "      <td>25.000000</td>\n",
       "      <td>25.000000</td>\n",
       "      <td>25.000000</td>\n",
       "    </tr>\n",
       "    <tr>\n",
       "      <th>mean</th>\n",
       "      <td>0.044217</td>\n",
       "      <td>0.044231</td>\n",
       "      <td>0.044999</td>\n",
       "    </tr>\n",
       "    <tr>\n",
       "      <th>std</th>\n",
       "      <td>0.033549</td>\n",
       "      <td>0.033550</td>\n",
       "      <td>0.033379</td>\n",
       "    </tr>\n",
       "    <tr>\n",
       "      <th>min</th>\n",
       "      <td>-0.049560</td>\n",
       "      <td>-0.049567</td>\n",
       "      <td>-0.048162</td>\n",
       "    </tr>\n",
       "    <tr>\n",
       "      <th>25%</th>\n",
       "      <td>0.023382</td>\n",
       "      <td>0.023368</td>\n",
       "      <td>0.022373</td>\n",
       "    </tr>\n",
       "    <tr>\n",
       "      <th>50%</th>\n",
       "      <td>0.039033</td>\n",
       "      <td>0.039054</td>\n",
       "      <td>0.043620</td>\n",
       "    </tr>\n",
       "    <tr>\n",
       "      <th>75%</th>\n",
       "      <td>0.064722</td>\n",
       "      <td>0.064720</td>\n",
       "      <td>0.064043</td>\n",
       "    </tr>\n",
       "    <tr>\n",
       "      <th>max</th>\n",
       "      <td>0.103937</td>\n",
       "      <td>0.103938</td>\n",
       "      <td>0.103132</td>\n",
       "    </tr>\n",
       "    <tr>\n",
       "      <th>variance</th>\n",
       "      <td>0.001126</td>\n",
       "      <td>0.001126</td>\n",
       "      <td>0.001114</td>\n",
       "    </tr>\n",
       "    <tr>\n",
       "      <th>skewness</th>\n",
       "      <td>-0.575333</td>\n",
       "      <td>-0.575771</td>\n",
       "      <td>-0.608272</td>\n",
       "    </tr>\n",
       "    <tr>\n",
       "      <th>kurtosis</th>\n",
       "      <td>1.127218</td>\n",
       "      <td>1.128964</td>\n",
       "      <td>1.063082</td>\n",
       "    </tr>\n",
       "  </tbody>\n",
       "</table>\n",
       "</div>"
      ]
     },
     "execution_count": 12,
     "metadata": {},
     "output_type": "execute_result"
    },
    {
     "name": "stdout",
     "output_type": "stream",
     "text": [
      "KS Test result: KS Value:0.08, p-value: 0.999999734559995\n"
     ]
    }
   ],
   "execution_count": 12
  },
  {
   "metadata": {},
   "cell_type": "markdown",
   "source": "We can see that the p-value for the KS test is really large, so we can reject the null hypothesis that both distributions are really close to each other. We can see as well from the summary statistics that all the summary statistics for the particulate damage vs non-particulate damage are very close. I decided to use KS test rather than do t-tests, f-tests etc because I am interested in the distribution as a whole as I will be conducting GaR analysis later.",
   "id": "8d11a56dd423e909"
  },
  {
   "cell_type": "code",
   "id": "bd8a083e78c581ff",
   "metadata": {
    "ExecuteTime": {
     "end_time": "2024-05-28T17:38:20.319175Z",
     "start_time": "2024-05-28T17:38:20.175631Z"
    }
   },
   "source": [
    "from matplotlib import pyplot as plt\n",
    "\n",
    "ggdp_growth_percent = (finland_ggdp['ggdp_growth'].dropna(axis=0)) * 100\n",
    "\n",
    "counts, bins = np.histogram(ggdp_growth_percent, bins=10)\n",
    "plt.stairs(counts, bins)\n",
    "\n",
    "ggdp_with_particulate_damage_growth = (finland_ggdp['ggdp_with_particulate_damage_growth'].dropna(axis=0)) * 100\n",
    "\n",
    "counts, bins = np.histogram(ggdp_with_particulate_damage_growth, bins=10)\n",
    "plt.stairs(counts, bins)\n",
    "\n",
    "#summary statistics for ggdp"
   ],
   "outputs": [
    {
     "data": {
      "text/plain": [
       "<matplotlib.patches.StepPatch at 0x26f4fcebe10>"
      ]
     },
     "execution_count": 33,
     "metadata": {},
     "output_type": "execute_result"
    },
    {
     "data": {
      "text/plain": [
       "<matplotlib.patches.StepPatch at 0x26f28573150>"
      ]
     },
     "execution_count": 33,
     "metadata": {},
     "output_type": "execute_result"
    },
    {
     "data": {
      "text/plain": [
       "<Figure size 800x550 with 1 Axes>"
      ],
      "image/png": "[encoded data removed]"
     },
     "metadata": {},
     "output_type": "display_data"
    }
   ],
   "execution_count": 33
  },
  {
   "metadata": {
    "ExecuteTime": {
     "end_time": "2024-05-28T17:38:21.555982Z",
     "start_time": "2024-05-28T17:38:21.389014Z"
    }
   },
   "cell_type": "code",
   "source": [
    "import numpy as np\n",
    "import matplotlib.pyplot as plt\n",
    "plt.style.use(\"seaborn-v0_8\")\n",
    "\n",
    "ggdp_growth_percent = (finland_ggdp['ggdp_growth'].dropna(axis=0)) * 100\n",
    "gdp_growth_percent = (finland_ggdp['gdp_growth'].dropna(axis=0)) * 100\n",
    "\n",
    "\n",
    "bins = np.linspace(-15, 15, 15)\n",
    "\n",
    "plt.hist([ggdp_growth_percent, gdp_growth_percent], bins, label=['GGDP Growth', 'GDP Growth'])\n",
    "plt.legend(loc='upper right')\n",
    "plt.show()"
   ],
   "id": "1d514f7887f7abed",
   "outputs": [
    {
     "data": {
      "text/plain": [
       "(array([[0., 0., 0., 0., 1., 0., 0., 4., 8., 5., 4., 3., 0., 0.],\n",
       "        [0., 0., 0., 0., 1., 0., 0., 5., 6., 7., 4., 2., 0., 0.]]),\n",
       " array([-15.        , -12.85714286, -10.71428571,  -8.57142857,\n",
       "         -6.42857143,  -4.28571429,  -2.14285714,   0.        ,\n",
       "          2.14285714,   4.28571429,   6.42857143,   8.57142857,\n",
       "         10.71428571,  12.85714286,  15.        ]),\n",
       " <a list of 2 BarContainer objects>)"
      ]
     },
     "execution_count": 34,
     "metadata": {},
     "output_type": "execute_result"
    },
    {
     "data": {
      "text/plain": [
       "<matplotlib.legend.Legend at 0x26f4b0e56d0>"
      ]
     },
     "execution_count": 34,
     "metadata": {},
     "output_type": "execute_result"
    },
    {
     "data": {
      "text/plain": [
       "<Figure size 800x550 with 1 Axes>"
      ],
      "image/png": "[encoded data removed]"
     },
     "metadata": {},
     "output_type": "display_data"
    }
   ],
   "execution_count": 34
  },
  {
   "metadata": {},
   "cell_type": "markdown",
   "source": [
    "### Distributions analysis\n",
    "The GGDP mean is lower from the GDP mean by 8bp accompanied by a  \n",
    "2. "
   ],
   "id": "f52895a2766c6bed"
  },
  {
   "cell_type": "markdown",
   "id": "fd632d6fbd34eeb2",
   "metadata": {},
   "source": [
    "The data samples are quite limited because of different factors, so I'm thinking of ways of expanding the dataset. Every sample I can get is helpful now.\n",
    "- CO2 emission cost - I can perhaps try to use the CO2 damage as GNI instead of pricing the damage myself. There is much more available data there as carbon tax only started being implemented in the early 90s.\n",
    "- WTE - The limitation here is electricity price which goes only back to 1995. My main limitation is electricity price.\n",
    "I need to expand electricity prices somehow.\n",
    "I think it's worth checking the difference between the CO2 emission cost that I priced compared to that of the CO2 damage as GNI to see the difference."
   ]
  },
  {
   "cell_type": "markdown",
   "id": "96cabf59696ecfa4",
   "metadata": {},
   "source": [
    " From WDI - Work Bank\n",
    " #### natural resources depletion\n",
    "     Natural resource depletion is the sum of net forest depletion, energy depletion, and mineral depletion. Net forest depletion is unit resource rents times the excess of roundwood harvest over natural growth.\n",
    " #### Carbon Dioxide Damage\n",
    " \tCost of damage due to carbon dioxide emissions from fossil fuel use and the manufacture of cement, estimated to be US$40 per ton of CO2 (the unit damage in 2017 US dollars for CO2 emitted in 2020) times the number of tons of CO2 emitted.\n",
    " \tmy own opinion - it is calculated using a constant which can't really be constant over time because the cost of an emission of 1 kt of co2 in the 70s can't be the same as the cost it now because of the different environmental conditions that exist now, it is very unlikely to actually be a constant cost.\n",
    " #### Particulate Emission Damage\n",
    "    Particulate emissions damage is the damage due to exposure of a country's population to ambient concentrations of particulates measuring less than 2.5 microns in diameter (PM2.5), ambient ozone pollution, and indoor concentrations of PM2.5 in households cooking with solid fuels.\n",
    "    This perhaps can be included in the ggdp and maybe add a term for green innovation as well."
   ]
  },
  {
   "metadata": {},
   "cell_type": "markdown",
   "source": [
    "# GGDP - Calculating using imputated Electricity Prices\n",
    "Add a bit of information accordingly"
   ],
   "id": "931bce02f7882431"
  },
  {
   "metadata": {
    "ExecuteTime": {
     "end_time": "2024-05-28T17:11:19.276211Z",
     "start_time": "2024-05-28T17:11:19.239992Z"
    }
   },
   "cell_type": "code",
   "source": [
    "from data_reconstruction_functions import format_and_calculate_electricity_df\n",
    "\n",
    "#loading non industrial imputated data\n",
    "elec_hh_pre_2007_imputated = pd.read_csv('./ggdp_data/imputated_data/fi_hh_pre_2007_recovered.csv', header=0)\n",
    "elec_hh_imputated = format_and_calculate_electricity_df(pre_2007_imputated_df=elec_hh_pre_2007_imputated,\n",
    "                                    post_2007_df=elec_hh_post_2007_processed)\n",
    "\n",
    "### loading industrial imputated data\n",
    "elec_nh_pre_2007_imputated = pd.read_csv('./ggdp_data/imputated_data/fi_nh_pre_2007_recovered.csv', header=0)\n",
    "elec_nh_imputated = format_and_calculate_electricity_df(pre_2007_imputated_df=elec_nh_pre_2007_imputated,\n",
    "                                    post_2007_df=elec_nh_post_2007_processed)"
   ],
   "id": "1422a0d1ecffcb67",
   "outputs": [
    {
     "name": "stderr",
     "output_type": "stream",
     "text": [
      "C:\\Users\\yarde\\PycharmProjects\\ggdp_research\\data_reconstruction_functions.py:70: FutureWarning: Downcasting behavior in `replace` is deprecated and will be removed in a future version. To retain the old behavior, explicitly call `result.infer_objects(copy=False)`. To opt-in to the future behavior, set `pd.set_option('future.no_silent_downcasting', True)`\n",
      "  elec_imputated = elec_imputated.replace(tax_tier_map)\n",
      "C:\\Users\\yarde\\PycharmProjects\\ggdp_research\\data_reconstruction_functions.py:70: FutureWarning: Downcasting behavior in `replace` is deprecated and will be removed in a future version. To retain the old behavior, explicitly call `result.infer_objects(copy=False)`. To opt-in to the future behavior, set `pd.set_option('future.no_silent_downcasting', True)`\n",
      "  elec_imputated = elec_imputated.replace(tax_tier_map)\n"
     ]
    }
   ],
   "execution_count": 15
  },
  {
   "cell_type": "code",
   "id": "749e428ee0b0449d",
   "metadata": {
    "ExecuteTime": {
     "end_time": "2024-05-28T17:11:20.266459Z",
     "start_time": "2024-05-28T17:11:20.199051Z"
    }
   },
   "source": [
    "from numpy import nan\n",
    "\n",
    "from consumption_functions import calculate_energy_cost\n",
    "\n",
    "finland_ggdp_imputated = pd.DataFrame()\n",
    "#calculating GGDP with current data\n",
    "#Calculating GGDP using base formula\n",
    "\n",
    "#emission cost\n",
    "#carbon tax is us$/ton of CO2\n",
    "#perhaps need to convert this to ppp\n",
    "finland_ggdp_imputated['co2_emission_cost_dollar'] = finland_data['finland_co2_kt'] * 1000 * finland_data['finland_carbon_tax']\n",
    "\n",
    "#waste cost\n",
    "#we used the existing wte dataframe that has data going back to 1990\n",
    "#This is in EURO\n",
    "finland_ggdp_imputated['waste_cost_eur'] = wte_df.apply(lambda x: calculate_energy_cost(wte=x['net_waste'],\n",
    "                                                                                        year=x['year'], currency='EUR',\n",
    "                                                                                        elec_consumption=elec_consump_processed,\n",
    "                                                                                        hh_elec=elec_hh_imputated,\n",
    "                                                                                        nh_elec=elec_nh_imputated)\n",
    "                                                        , axis=1)\n",
    "\n",
    "finland_ggdp_imputated = finland_ggdp_imputated.join(\n",
    "    finland_data[['finland_dollar_to_lcu', 'finland_ppp_to_dollar', 'finland_as_particulate_emission_damage', 'finland_gdp_ppp']])\n",
    "finland_ggdp_imputated['waste_cost_dollar'] = finland_ggdp_imputated['waste_cost_eur'] * finland_ggdp_imputated[\n",
    "    'finland_dollar_to_lcu']\n",
    "\n",
    "#natural resource depltion cost in current dollar\n",
    "finland_ggdp_imputated['natural_nrd_cost_dollar'] = finland_data['finland_as_nrd_cost']\n",
    "\n",
    "#in current dollar\n",
    "finland_ggdp_imputated['ggdp_dollar'] = finland_data['finland_gdp_dollar'] - finland_ggdp_imputated[\n",
    "    'co2_emission_cost_dollar'] - \\\n",
    "                                        finland_ggdp_imputated['waste_cost_dollar'] - finland_ggdp_imputated[\n",
    "                                            'natural_nrd_cost_dollar']\n",
    "\n",
    "finland_ggdp_imputated['ggdp_ppp'] = finland_ggdp_imputated['ggdp_dollar'] * finland_ggdp_imputated[\n",
    "    'finland_ppp_to_dollar']\n",
    "\n",
    "#deducting particulate damage to see if it affects the ggdp at all\n",
    "finland_ggdp_imputated['ggdp_dollar_adjusted_particulate_damage'] = finland_ggdp_imputated['ggdp_dollar'] - \\\n",
    "                                                                    finland_ggdp_imputated[\n",
    "                                                                        'finland_as_particulate_emission_damage']\n",
    "finland_ggdp_imputated['ggdp_ppp_adjusted_particulate_damage'] = finland_ggdp_imputated[\n",
    "                                                                     'ggdp_dollar_adjusted_particulate_damage'] * \\\n",
    "                                                                 finland_ggdp_imputated['finland_ppp_to_dollar']\n",
    "\n",
    "#I'm interested in gdp growth so the currency doesn't matter as long as it represents ppp and not only currency. PPP is local currency/dollar so I will calculate ggdp in lcu (local currency units) controlled for ppp and then when I calculate growth it becomes unitless but is adjusted for real terms.\n",
    "\n",
    "#adding ppp_lcu_to_dollar_to_data_frame\n",
    "#finland_ggdp = finland_ggdp.join(finland_data['finland_ppp_lcu_to_dollar'])\n",
    "#finland_ggdp['ggdp_lcu'] = finland_ggdp['ggdp_dollar'] * finland_ggdp['finland_ppp_lcu_to_dollar']\n",
    "finland_ggdp_imputated['ggdp_growth'] = finland_ggdp_imputated['ggdp_ppp'] / finland_ggdp_imputated['ggdp_ppp'].shift(\n",
    "    1) - 1\n",
    "finland_ggdp_imputated['gdp_growth'] = finland_ggdp_imputated['finland_gdp_ppp'] / finland_ggdp_imputated['finland_gdp_ppp'].shift(\n",
    "    1) - 1\n",
    "finland_ggdp_imputated['ggdp_with_particulate_damage_growth'] = finland_ggdp_imputated[\n",
    "                                                                    'ggdp_ppp_adjusted_particulate_damage'] / \\\n",
    "                                                                finland_ggdp_imputated[\n",
    "                                                                'ggdp_ppp_adjusted_particulate_damage'].shift(1) - 1\n",
    "\n",
    "#pickling ggdp data\n",
    "finland_ggdp.to_pickle('./ggdp_processed_data/finland_ggdp_imputated.pkl')\n"
   ],
   "outputs": [],
   "execution_count": 16
  },
  {
   "metadata": {
    "ExecuteTime": {
     "end_time": "2024-05-28T17:28:27.319895Z",
     "start_time": "2024-05-28T17:28:27.300252Z"
    }
   },
   "cell_type": "code",
   "source": [
    "finland_ggdp_imputated = finland_ggdp_imputated.dropna(subset=['ggdp_growth'], how='any', axis=0)\n",
    "\n",
    "imp_merged_summary_stats = get_summary_statistics(finland_ggdp_imputated, columns=['ggdp_growth', 'ggdp_with_particulate_damage_growth', 'gdp_growth'])\n",
    "\n",
    "imp_merged_summary_stats\n",
    "\n",
    "ks_result = stats.ks_2samp(finland_ggdp_imputated['ggdp_growth'].dropna(), finland_ggdp_imputated['ggdp_with_particulate_damage_growth'].dropna())\n",
    "print(f\"KS Test result: KS Value:{ks_result.statistic}, p-value: {ks_result.pvalue}\")"
   ],
   "id": "fb8dd2717d78b508",
   "outputs": [
    {
     "data": {
      "text/plain": [
       "          ggdp_growth  ggdp_with_particulate_damage_growth  gdp_growth\n",
       "count       29.000000                            29.000000   29.000000\n",
       "mean         0.042558                             0.042578    0.043339\n",
       "std          0.033208                             0.033208    0.033391\n",
       "min         -0.049226                            -0.049232   -0.048162\n",
       "25%          0.021661                             0.021697    0.021086\n",
       "50%          0.039033                             0.039054    0.043620\n",
       "75%          0.062154                             0.062142    0.064022\n",
       "max          0.104064                             0.104064    0.103132\n",
       "variance     0.001103                             0.001103    0.001115\n",
       "skewness    -0.518030                            -0.518553   -0.545204\n",
       "kurtosis     0.732497                             0.734214    0.581406"
      ],
      "text/html": [
       "<div>\n",
       "<style scoped>\n",
       "    .dataframe tbody tr th:only-of-type {\n",
       "        vertical-align: middle;\n",
       "    }\n",
       "\n",
       "    .dataframe tbody tr th {\n",
       "        vertical-align: top;\n",
       "    }\n",
       "\n",
       "    .dataframe thead th {\n",
       "        text-align: right;\n",
       "    }\n",
       "</style>\n",
       "<table border=\"1\" class=\"dataframe\">\n",
       "  <thead>\n",
       "    <tr style=\"text-align: right;\">\n",
       "      <th></th>\n",
       "      <th>ggdp_growth</th>\n",
       "      <th>ggdp_with_particulate_damage_growth</th>\n",
       "      <th>gdp_growth</th>\n",
       "    </tr>\n",
       "  </thead>\n",
       "  <tbody>\n",
       "    <tr>\n",
       "      <th>count</th>\n",
       "      <td>29.000000</td>\n",
       "      <td>29.000000</td>\n",
       "      <td>29.000000</td>\n",
       "    </tr>\n",
       "    <tr>\n",
       "      <th>mean</th>\n",
       "      <td>0.042558</td>\n",
       "      <td>0.042578</td>\n",
       "      <td>0.043339</td>\n",
       "    </tr>\n",
       "    <tr>\n",
       "      <th>std</th>\n",
       "      <td>0.033208</td>\n",
       "      <td>0.033208</td>\n",
       "      <td>0.033391</td>\n",
       "    </tr>\n",
       "    <tr>\n",
       "      <th>min</th>\n",
       "      <td>-0.049226</td>\n",
       "      <td>-0.049232</td>\n",
       "      <td>-0.048162</td>\n",
       "    </tr>\n",
       "    <tr>\n",
       "      <th>25%</th>\n",
       "      <td>0.021661</td>\n",
       "      <td>0.021697</td>\n",
       "      <td>0.021086</td>\n",
       "    </tr>\n",
       "    <tr>\n",
       "      <th>50%</th>\n",
       "      <td>0.039033</td>\n",
       "      <td>0.039054</td>\n",
       "      <td>0.043620</td>\n",
       "    </tr>\n",
       "    <tr>\n",
       "      <th>75%</th>\n",
       "      <td>0.062154</td>\n",
       "      <td>0.062142</td>\n",
       "      <td>0.064022</td>\n",
       "    </tr>\n",
       "    <tr>\n",
       "      <th>max</th>\n",
       "      <td>0.104064</td>\n",
       "      <td>0.104064</td>\n",
       "      <td>0.103132</td>\n",
       "    </tr>\n",
       "    <tr>\n",
       "      <th>variance</th>\n",
       "      <td>0.001103</td>\n",
       "      <td>0.001103</td>\n",
       "      <td>0.001115</td>\n",
       "    </tr>\n",
       "    <tr>\n",
       "      <th>skewness</th>\n",
       "      <td>-0.518030</td>\n",
       "      <td>-0.518553</td>\n",
       "      <td>-0.545204</td>\n",
       "    </tr>\n",
       "    <tr>\n",
       "      <th>kurtosis</th>\n",
       "      <td>0.732497</td>\n",
       "      <td>0.734214</td>\n",
       "      <td>0.581406</td>\n",
       "    </tr>\n",
       "  </tbody>\n",
       "</table>\n",
       "</div>"
      ]
     },
     "execution_count": 29,
     "metadata": {},
     "output_type": "execute_result"
    },
    {
     "name": "stdout",
     "output_type": "stream",
     "text": [
      "KS Test result: KS Value:0.034482758620689655, p-value: 0.9999999999999999\n"
     ]
    }
   ],
   "execution_count": 29
  },
  {
   "metadata": {},
   "cell_type": "markdown",
   "source": "Again we can see that the KS value is really small and that the p-value is really large so we can't reject the null that both distributions are the same (or data from sample 1 is drawn from ecdf of sample 2).",
   "id": "2ff208cba491bb99"
  },
  {
   "metadata": {
    "ExecuteTime": {
     "end_time": "2024-05-28T17:14:37.725571Z",
     "start_time": "2024-05-28T17:14:37.606282Z"
    }
   },
   "cell_type": "code",
   "source": [
    "from matplotlib import pyplot as plt\n",
    "\n",
    "ggdp_growth_percent = (finland_ggdp_imputated['ggdp_growth'].dropna(axis=0)) * 100\n",
    "\n",
    "counts, bins = np.histogram(ggdp_growth_percent, bins=10)\n",
    "plt.stairs(counts, bins)\n",
    "\n",
    "ggdp_with_particulate_damage_growth = (finland_ggdp_imputated['ggdp_with_particulate_damage_growth'].dropna(\n",
    "    axis=0)) * 100\n",
    "\n",
    "counts, bins = np.histogram(ggdp_with_particulate_damage_growth, bins=10)\n",
    "plt.stairs(counts, bins)\n",
    "\n",
    "#summary statistics for ggdp"
   ],
   "id": "d48263c567fbd66f",
   "outputs": [
    {
     "data": {
      "text/plain": [
       "<matplotlib.patches.StepPatch at 0x26f4e5b0350>"
      ]
     },
     "execution_count": 20,
     "metadata": {},
     "output_type": "execute_result"
    },
    {
     "data": {
      "text/plain": [
       "<matplotlib.patches.StepPatch at 0x26f4e0c5fd0>"
      ]
     },
     "execution_count": 20,
     "metadata": {},
     "output_type": "execute_result"
    },
    {
     "data": {
      "text/plain": [
       "<Figure size 800x550 with 1 Axes>"
      ],
      "image/png": "[encoded data removed]"
     },
     "metadata": {},
     "output_type": "display_data"
    }
   ],
   "execution_count": 20
  },
  {
   "metadata": {
    "ExecuteTime": {
     "end_time": "2024-05-28T17:15:40.265569Z",
     "start_time": "2024-05-28T17:15:40.119544Z"
    }
   },
   "cell_type": "code",
   "source": [
    "import numpy as np\n",
    "import matplotlib.pyplot as plt\n",
    "plt.style.use(\"seaborn-v0_8\")\n",
    "\n",
    "imp_ggdp_growth_percent = (finland_ggdp_imputated['ggdp_growth'].dropna(axis=0)) * 100\n",
    "imp_gdp_growth_percent = (finland_ggdp_imputated['gdp_growth'].dropna(axis=0)) * 100\n",
    "\n",
    "bins = np.linspace(-15, 15, 15)\n",
    "plt.hist([imp_ggdp_growth_percent, imp_gdp_growth_percent], bins, label=['GGDP Growth', 'GDP Growth'])\n",
    "plt.legend(loc='upper right')\n",
    "plt.show()"
   ],
   "id": "7a4491b843ed55a2",
   "outputs": [
    {
     "data": {
      "text/plain": [
       "(array([[0., 0., 0., 0., 1., 0., 1., 5., 8., 8., 4., 2., 0., 0.],\n",
       "        [0., 0., 0., 0., 1., 0., 1., 6., 6., 9., 4., 2., 0., 0.]]),\n",
       " array([-15.        , -12.85714286, -10.71428571,  -8.57142857,\n",
       "         -6.42857143,  -4.28571429,  -2.14285714,   0.        ,\n",
       "          2.14285714,   4.28571429,   6.42857143,   8.57142857,\n",
       "         10.71428571,  12.85714286,  15.        ]),\n",
       " <a list of 2 BarContainer objects>)"
      ]
     },
     "execution_count": 25,
     "metadata": {},
     "output_type": "execute_result"
    },
    {
     "data": {
      "text/plain": [
       "<matplotlib.legend.Legend at 0x26f4f7756d0>"
      ]
     },
     "execution_count": 25,
     "metadata": {},
     "output_type": "execute_result"
    },
    {
     "data": {
      "text/plain": [
       "<Figure size 800x550 with 1 Axes>"
      ],
      "image/png": "[encoded data removed]"
     },
     "metadata": {},
     "output_type": "display_data"
    }
   ],
   "execution_count": 25
  },
  {
   "metadata": {},
   "cell_type": "code",
   "outputs": [],
   "execution_count": null,
   "source": "",
   "id": "d0a79b1a66b24d50"
  }
 ],
 "metadata": {
  "kernelspec": {
   "display_name": "Python 3 (ipykernel)",
   "language": "python",
   "name": "python3"
  },
  "language_info": {
   "codemirror_mode": {
    "name": "ipython",
    "version": 3
   },
   "file_extension": ".py",
   "mimetype": "text/x-python",
   "name": "python",
   "nbconvert_exporter": "python",
   "pygments_lexer": "ipython3",
   "version": "3.11.9"
  }
 },
 "nbformat": 4,
 "nbformat_minor": 5
}
