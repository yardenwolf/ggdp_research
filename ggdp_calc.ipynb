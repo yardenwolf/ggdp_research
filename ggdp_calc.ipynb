{
 "cells": [
  {
   "cell_type": "markdown",
   "id": "4b2ecf10-f97d-4a0c-b2fe-6c085abd7f1e",
   "metadata": {
    "collapsed": true,
    "jupyter": {
     "outputs_hidden": true
    }
   },
   "source": [
    "## Choosing EU ETS vs Carbon TAX\n",
    "EU ETS start only at 2005 and Carbon Tax depends on countries that have already implemented it but could go as early as 1990."
   ]
  },
  {
   "cell_type": "code",
   "id": "ae51894a-42ab-4233-a1bb-6836ddb33776",
   "metadata": {
    "ExecuteTime": {
     "end_time": "2024-05-03T13:09:01.512553Z",
     "start_time": "2024-05-03T13:09:01.415783Z"
    }
   },
   "source": [
    "import pandas as pd\n",
    "import statsmodels.api as sm\n",
    "\n",
    "carbon_pricing_data = pd.read_excel('./ggdp_data/world_bank_carbon_pricing.xlsx', header=1, sheet_name='Compliance_Price', na_values='-')\n",
    "carbon_pricing_data = carbon_pricing_data.set_index('Name of the initiative').T\n",
    "carbon_pricing_data.rename(columns = lambda x: str.lower(x.replace(' ', '_')), inplace=True)\n",
    "#dropping all metadata rows\n",
    "carbon_pricing_data = carbon_pricing_data.iloc[7:]\n",
    "carbon_pricing_data = carbon_pricing_data.apply(pd.to_numeric)\n",
    "carbon_pricing_data.index = [str(x) for x in carbon_pricing_data.index]\n",
    "\n",
    "eu_ets = carbon_pricing_data['eu_ets']\n",
    "finland_carbon_tax = carbon_pricing_data['finland_carbon_tax']\n",
    "#Finland has two types of carbon tax: Transport fuels, heating fuels which are the same across the whole series\n",
    "finland_carbon_tax = finland_carbon_tax.iloc[:,0]"
   ],
   "outputs": [],
   "execution_count": 32
  },
  {
   "cell_type": "code",
   "id": "e90c3210765b3663",
   "metadata": {
    "ExecuteTime": {
     "end_time": "2024-05-03T13:09:02.884860Z",
     "start_time": "2024-05-03T13:09:02.853388Z"
    }
   },
   "source": [
    "#checking to see if EU ETS can proxy for carbon tax or the other way round. Does any one of them hold and additional information?\n",
    "ets_joined_carbon_tax = pd.DataFrame(eu_ets).join(finland_carbon_tax)\n",
    "ets_joined_carbon_tax = ets_joined_carbon_tax.dropna()\n",
    "ets_joined_carbon_tax.head()\n",
    "\n",
    "model = sm.OLS.from_formula('eu_ets ~ finland_carbon_tax', data=ets_joined_carbon_tax)\n",
    "results = model.fit()\n",
    "results.summary()\n"
   ],
   "outputs": [
    {
     "name": "stderr",
     "output_type": "stream",
     "text": [
      "C:\\Users\\yarde\\anaconda3\\envs\\ggdp-research\\Lib\\site-packages\\scipy\\stats\\_axis_nan_policy.py:531: UserWarning: kurtosistest only valid for n>=20 ... continuing anyway, n=19\n",
      "  res = hypotest_fun_out(*samples, **kwds)\n"
     ]
    },
    {
     "data": {
      "text/plain": [
       "<class 'statsmodels.iolib.summary.Summary'>\n",
       "\"\"\"\n",
       "                            OLS Regression Results                            \n",
       "==============================================================================\n",
       "Dep. Variable:                 eu_ets   R-squared:                       0.165\n",
       "Model:                            OLS   Adj. R-squared:                  0.116\n",
       "Method:                 Least Squares   F-statistic:                     3.365\n",
       "Date:                Fri, 03 May 2024   Prob (F-statistic):             0.0842\n",
       "Time:                        14:09:02   Log-Likelihood:                -86.898\n",
       "No. Observations:                  19   AIC:                             177.8\n",
       "Df Residuals:                      17   BIC:                             179.7\n",
       "Df Model:                           1                                         \n",
       "Covariance Type:            nonrobust                                         \n",
       "======================================================================================\n",
       "                         coef    std err          t      P>|t|      [0.025      0.975]\n",
       "--------------------------------------------------------------------------------------\n",
       "Intercept              7.4432     11.154      0.667      0.514     -16.090      30.976\n",
       "finland_carbon_tax     0.3522      0.192      1.834      0.084      -0.053       0.757\n",
       "==============================================================================\n",
       "Omnibus:                        6.489   Durbin-Watson:                   0.533\n",
       "Prob(Omnibus):                  0.039   Jarque-Bera (JB):                4.314\n",
       "Skew:                           1.139   Prob(JB):                        0.116\n",
       "Kurtosis:                       3.508   Cond. No.                         114.\n",
       "==============================================================================\n",
       "\n",
       "Notes:\n",
       "[1] Standard Errors assume that the covariance matrix of the errors is correctly specified.\n",
       "\"\"\""
      ],
      "text/html": [
       "<table class=\"simpletable\">\n",
       "<caption>OLS Regression Results</caption>\n",
       "<tr>\n",
       "  <th>Dep. Variable:</th>         <td>eu_ets</td>      <th>  R-squared:         </th> <td>   0.165</td>\n",
       "</tr>\n",
       "<tr>\n",
       "  <th>Model:</th>                   <td>OLS</td>       <th>  Adj. R-squared:    </th> <td>   0.116</td>\n",
       "</tr>\n",
       "<tr>\n",
       "  <th>Method:</th>             <td>Least Squares</td>  <th>  F-statistic:       </th> <td>   3.365</td>\n",
       "</tr>\n",
       "<tr>\n",
       "  <th>Date:</th>             <td>Fri, 03 May 2024</td> <th>  Prob (F-statistic):</th>  <td>0.0842</td> \n",
       "</tr>\n",
       "<tr>\n",
       "  <th>Time:</th>                 <td>14:09:02</td>     <th>  Log-Likelihood:    </th> <td> -86.898</td>\n",
       "</tr>\n",
       "<tr>\n",
       "  <th>No. Observations:</th>      <td>    19</td>      <th>  AIC:               </th> <td>   177.8</td>\n",
       "</tr>\n",
       "<tr>\n",
       "  <th>Df Residuals:</th>          <td>    17</td>      <th>  BIC:               </th> <td>   179.7</td>\n",
       "</tr>\n",
       "<tr>\n",
       "  <th>Df Model:</th>              <td>     1</td>      <th>                     </th>     <td> </td>   \n",
       "</tr>\n",
       "<tr>\n",
       "  <th>Covariance Type:</th>      <td>nonrobust</td>    <th>                     </th>     <td> </td>   \n",
       "</tr>\n",
       "</table>\n",
       "<table class=\"simpletable\">\n",
       "<tr>\n",
       "           <td></td>             <th>coef</th>     <th>std err</th>      <th>t</th>      <th>P>|t|</th>  <th>[0.025</th>    <th>0.975]</th>  \n",
       "</tr>\n",
       "<tr>\n",
       "  <th>Intercept</th>          <td>    7.4432</td> <td>   11.154</td> <td>    0.667</td> <td> 0.514</td> <td>  -16.090</td> <td>   30.976</td>\n",
       "</tr>\n",
       "<tr>\n",
       "  <th>finland_carbon_tax</th> <td>    0.3522</td> <td>    0.192</td> <td>    1.834</td> <td> 0.084</td> <td>   -0.053</td> <td>    0.757</td>\n",
       "</tr>\n",
       "</table>\n",
       "<table class=\"simpletable\">\n",
       "<tr>\n",
       "  <th>Omnibus:</th>       <td> 6.489</td> <th>  Durbin-Watson:     </th> <td>   0.533</td>\n",
       "</tr>\n",
       "<tr>\n",
       "  <th>Prob(Omnibus):</th> <td> 0.039</td> <th>  Jarque-Bera (JB):  </th> <td>   4.314</td>\n",
       "</tr>\n",
       "<tr>\n",
       "  <th>Skew:</th>          <td> 1.139</td> <th>  Prob(JB):          </th> <td>   0.116</td>\n",
       "</tr>\n",
       "<tr>\n",
       "  <th>Kurtosis:</th>      <td> 3.508</td> <th>  Cond. No.          </th> <td>    114.</td>\n",
       "</tr>\n",
       "</table><br/><br/>Notes:<br/>[1] Standard Errors assume that the covariance matrix of the errors is correctly specified."
      ],
      "text/latex": "\\begin{center}\n\\begin{tabular}{lclc}\n\\toprule\n\\textbf{Dep. Variable:}       &     eu\\_ets      & \\textbf{  R-squared:         } &     0.165   \\\\\n\\textbf{Model:}               &       OLS        & \\textbf{  Adj. R-squared:    } &     0.116   \\\\\n\\textbf{Method:}              &  Least Squares   & \\textbf{  F-statistic:       } &     3.365   \\\\\n\\textbf{Date:}                & Fri, 03 May 2024 & \\textbf{  Prob (F-statistic):} &   0.0842    \\\\\n\\textbf{Time:}                &     14:09:02     & \\textbf{  Log-Likelihood:    } &   -86.898   \\\\\n\\textbf{No. Observations:}    &          19      & \\textbf{  AIC:               } &     177.8   \\\\\n\\textbf{Df Residuals:}        &          17      & \\textbf{  BIC:               } &     179.7   \\\\\n\\textbf{Df Model:}            &           1      & \\textbf{                     } &             \\\\\n\\textbf{Covariance Type:}     &    nonrobust     & \\textbf{                     } &             \\\\\n\\bottomrule\n\\end{tabular}\n\\begin{tabular}{lcccccc}\n                              & \\textbf{coef} & \\textbf{std err} & \\textbf{t} & \\textbf{P$> |$t$|$} & \\textbf{[0.025} & \\textbf{0.975]}  \\\\\n\\midrule\n\\textbf{Intercept}            &       7.4432  &       11.154     &     0.667  &         0.514        &      -16.090    &       30.976     \\\\\n\\textbf{finland\\_carbon\\_tax} &       0.3522  &        0.192     &     1.834  &         0.084        &       -0.053    &        0.757     \\\\\n\\bottomrule\n\\end{tabular}\n\\begin{tabular}{lclc}\n\\textbf{Omnibus:}       &  6.489 & \\textbf{  Durbin-Watson:     } &    0.533  \\\\\n\\textbf{Prob(Omnibus):} &  0.039 & \\textbf{  Jarque-Bera (JB):  } &    4.314  \\\\\n\\textbf{Skew:}          &  1.139 & \\textbf{  Prob(JB):          } &    0.116  \\\\\n\\textbf{Kurtosis:}      &  3.508 & \\textbf{  Cond. No.          } &     114.  \\\\\n\\bottomrule\n\\end{tabular}\n%\\caption{OLS Regression Results}\n\\end{center}\n\nNotes: \\newline\n [1] Standard Errors assume that the covariance matrix of the errors is correctly specified."
     },
     "execution_count": 33,
     "metadata": {},
     "output_type": "execute_result"
    }
   ],
   "execution_count": 33
  },
  {
   "metadata": {},
   "cell_type": "markdown",
   "source": [
    "### Analysing Results\n",
    "I was looking to see if ets and carbon tax are very correlated, if they are then I could probably assume that one of them proxies for the other. We can see that linear relationship between the variables is insignificant. Meaning that they don't proxy linearly for each other. Thus I should probably use one of them or a combination of both when calculating the GGDP results."
   ],
   "id": "c7ac4689c0d77af7"
  },
  {
   "metadata": {},
   "cell_type": "markdown",
   "source": [
    "## Calculating GGDP\n",
    "The base formula which I'm going to use is this: $ GGDP = GDP - KtCO_{2} \\cdot P_{tCO_2} - Twaste \\cdot 74 kWh \\cdot P_{1 kWh elec} - GNI \\cdot \\% NRD/100 $\n",
    "\n",
    "First term - air pollution\n",
    "Second Term - waste pollution translated into electricity cost\n",
    "Third Term - Natural resource depletion\n",
    "\n",
    "The 74 figure is based on different papers: check this\n",
    "\n",
    "Managed to find all the data for this: arises the question of what data to include and how.\n",
    "\n",
    "The problems with this base formula are:\n",
    "1. doesn't account for defensive costs - the cost of restoring and protecting the environment. Need to find figures for this.\n",
    "2. the figure 74 isn't really based on anything concrete (the citing is quite unclear)\n",
    "3. no accounting for green innovation - not even sure if I want to add this, but perhaps I should\n",
    "\n",
    "The main problem with actually deriving GGDP is data availability and lack of accounting standard that can be implemented using available data.\n"
   ],
   "id": "b4b94bfc93ce9875"
  },
  {
   "metadata": {
    "ExecuteTime": {
     "end_time": "2024-05-03T13:09:39.421238Z",
     "start_time": "2024-05-03T13:09:10.385130Z"
    }
   },
   "cell_type": "code",
   "source": [
    "#Loading Data for ggdp\n",
    "finland_ggdp = pd.DataFrame()\n",
    "\n",
    "wdi_data = pd.read_excel('./ggdp_data/P_Data_Extract_From_World_Development_Indicators.xlsx', header=0, sheet_name='Data', na_values='..')\n",
    "\n",
    "wdi_data = wdi_data.set_index('Country Name').T\n",
    "wdi_data = wdi_data.rename(index= lambda x: x[:x.find(' ')])\n",
    "\n",
    "\n",
    "#combine all finland data into one dataframe to avoid problems with dates\n",
    "\n",
    "finland_data = wdi_data['Finland']\n",
    "\n",
    "#Calculating GGDP using base formula\n",
    "\n",
    "#emission cost\n",
    "\n",
    "\n",
    "\n",
    "finland_data = finland_data.join(finland_carbon_tax, how = 'left')\n",
    "\n",
    "finland_data = finland_data.join(finland_carbon_tax, how = 'inner')\n",
    "\n",
    "finland_data.head()\n",
    "\n",
    "# finland_ggdp['co2_emission_cost'] = finland_data['emissions'] * finland_carbon_tax\n",
    "# \n",
    "# finland_ggdp['Finland','env_cost'] = 123 \n",
    "# finland_ggdp['Finland', 'depletion_cost'] = 123\n",
    "# finland_ggdp['Finland'] = finland_data['GDP'] - finland_data['env_cost'] - finland_data['']\n",
    "# \n",
    "# \n",
    "# \n",
    "# finland_data.head()\n",
    "# \n",
    "# #carbon_pricing_data.rename(columns = lambda x: str.lower(x.replace(' ', '_')), inplace=True)\n",
    "# #dropping all metadata rows\n",
    "# #carbon_pricing_data = carbon_pricing_data.iloc[7:]\n",
    "# #carbon_pricing_data = carbon_pricing_data.apply(pd.to_numeric)\n",
    "# \n",
    "# #eu_ets = carbon_pricing_data['eu_ets']\n",
    "# #finland_carbon_tax = carbon_pricing_data['finland_carbon_tax']\n",
    "# #Finland has two types of carbon tax: Transport fuels, heating fuels which are the same across the whole series\n",
    "# #finland_carbon_tax = finland_carbon_tax.iloc[:,0]"
   ],
   "id": "d00e464f5c09c8d",
   "outputs": [
    {
     "ename": "KeyboardInterrupt",
     "evalue": "",
     "output_type": "error",
     "traceback": [
      "\u001B[1;31m---------------------------------------------------------------------------\u001B[0m",
      "\u001B[1;31mKeyboardInterrupt\u001B[0m                         Traceback (most recent call last)",
      "Cell \u001B[1;32mIn[34], line 20\u001B[0m\n\u001B[0;32m     12\u001B[0m finland_data \u001B[38;5;241m=\u001B[39m wdi_data[\u001B[38;5;124m'\u001B[39m\u001B[38;5;124mFinland\u001B[39m\u001B[38;5;124m'\u001B[39m]\n\u001B[0;32m     14\u001B[0m \u001B[38;5;66;03m#Calculating GGDP using base formula\u001B[39;00m\n\u001B[0;32m     15\u001B[0m \n\u001B[0;32m     16\u001B[0m \u001B[38;5;66;03m#emission cost\u001B[39;00m\n\u001B[1;32m---> 20\u001B[0m finland_data \u001B[38;5;241m=\u001B[39m \u001B[43mfinland_data\u001B[49m\u001B[38;5;241m.\u001B[39mjoin(finland_carbon_tax, how \u001B[38;5;241m=\u001B[39m \u001B[38;5;124m'\u001B[39m\u001B[38;5;124mleft\u001B[39m\u001B[38;5;124m'\u001B[39m)\n\u001B[0;32m     22\u001B[0m finland_data \u001B[38;5;241m=\u001B[39m finland_data\u001B[38;5;241m.\u001B[39mjoin(finland_carbon_tax, how \u001B[38;5;241m=\u001B[39m \u001B[38;5;124m'\u001B[39m\u001B[38;5;124minner\u001B[39m\u001B[38;5;124m'\u001B[39m)\n\u001B[0;32m     24\u001B[0m finland_data\u001B[38;5;241m.\u001B[39mhead()\n",
      "File \u001B[1;32m_pydevd_bundle\\\\pydevd_cython_win32_311_64.pyx:1187\u001B[0m, in \u001B[0;36m_pydevd_bundle.pydevd_cython_win32_311_64.SafeCallWrapper.__call__\u001B[1;34m()\u001B[0m\n",
      "File \u001B[1;32m_pydevd_bundle\\\\pydevd_cython_win32_311_64.pyx:627\u001B[0m, in \u001B[0;36m_pydevd_bundle.pydevd_cython_win32_311_64.PyDBFrame.trace_dispatch\u001B[1;34m()\u001B[0m\n",
      "File \u001B[1;32m_pydevd_bundle\\\\pydevd_cython_win32_311_64.pyx:937\u001B[0m, in \u001B[0;36m_pydevd_bundle.pydevd_cython_win32_311_64.PyDBFrame.trace_dispatch\u001B[1;34m()\u001B[0m\n",
      "File \u001B[1;32m_pydevd_bundle\\\\pydevd_cython_win32_311_64.pyx:928\u001B[0m, in \u001B[0;36m_pydevd_bundle.pydevd_cython_win32_311_64.PyDBFrame.trace_dispatch\u001B[1;34m()\u001B[0m\n",
      "File \u001B[1;32m_pydevd_bundle\\\\pydevd_cython_win32_311_64.pyx:585\u001B[0m, in \u001B[0;36m_pydevd_bundle.pydevd_cython_win32_311_64.PyDBFrame.do_wait_suspend\u001B[1;34m()\u001B[0m\n",
      "File \u001B[1;32mC:\\Program Files\\JetBrains\\PyCharm 2024.1\\plugins\\python\\helpers\\pydev\\pydevd.py:1185\u001B[0m, in \u001B[0;36mPyDB.do_wait_suspend\u001B[1;34m(self, thread, frame, event, arg, send_suspend_message, is_unhandled_exception)\u001B[0m\n\u001B[0;32m   1182\u001B[0m         from_this_thread\u001B[38;5;241m.\u001B[39mappend(frame_id)\n\u001B[0;32m   1184\u001B[0m \u001B[38;5;28;01mwith\u001B[39;00m \u001B[38;5;28mself\u001B[39m\u001B[38;5;241m.\u001B[39m_threads_suspended_single_notification\u001B[38;5;241m.\u001B[39mnotify_thread_suspended(thread_id, stop_reason):\n\u001B[1;32m-> 1185\u001B[0m     \u001B[38;5;28;43mself\u001B[39;49m\u001B[38;5;241;43m.\u001B[39;49m\u001B[43m_do_wait_suspend\u001B[49m\u001B[43m(\u001B[49m\u001B[43mthread\u001B[49m\u001B[43m,\u001B[49m\u001B[43m \u001B[49m\u001B[43mframe\u001B[49m\u001B[43m,\u001B[49m\u001B[43m \u001B[49m\u001B[43mevent\u001B[49m\u001B[43m,\u001B[49m\u001B[43m \u001B[49m\u001B[43marg\u001B[49m\u001B[43m,\u001B[49m\u001B[43m \u001B[49m\u001B[43msuspend_type\u001B[49m\u001B[43m,\u001B[49m\u001B[43m \u001B[49m\u001B[43mfrom_this_thread\u001B[49m\u001B[43m)\u001B[49m\n",
      "File \u001B[1;32mC:\\Program Files\\JetBrains\\PyCharm 2024.1\\plugins\\python\\helpers\\pydev\\pydevd.py:1200\u001B[0m, in \u001B[0;36mPyDB._do_wait_suspend\u001B[1;34m(self, thread, frame, event, arg, suspend_type, from_this_thread)\u001B[0m\n\u001B[0;32m   1197\u001B[0m             \u001B[38;5;28mself\u001B[39m\u001B[38;5;241m.\u001B[39m_call_mpl_hook()\n\u001B[0;32m   1199\u001B[0m         \u001B[38;5;28mself\u001B[39m\u001B[38;5;241m.\u001B[39mprocess_internal_commands()\n\u001B[1;32m-> 1200\u001B[0m         time\u001B[38;5;241m.\u001B[39msleep(\u001B[38;5;241m0.01\u001B[39m)\n\u001B[0;32m   1202\u001B[0m \u001B[38;5;28mself\u001B[39m\u001B[38;5;241m.\u001B[39mcancel_async_evaluation(get_current_thread_id(thread), \u001B[38;5;28mstr\u001B[39m(\u001B[38;5;28mid\u001B[39m(frame)))\n\u001B[0;32m   1204\u001B[0m \u001B[38;5;66;03m# process any stepping instructions\u001B[39;00m\n",
      "\u001B[1;31mKeyboardInterrupt\u001B[0m: "
     ]
    }
   ],
   "execution_count": 34
  },
  {
   "metadata": {},
   "cell_type": "code",
   "outputs": [],
   "execution_count": null,
   "source": "",
   "id": "2fe84ca93d249baf"
  }
 ],
 "metadata": {
  "kernelspec": {
   "display_name": "Python 3 (ipykernel)",
   "language": "python",
   "name": "python3"
  },
  "language_info": {
   "codemirror_mode": {
    "name": "ipython",
    "version": 3
   },
   "file_extension": ".py",
   "mimetype": "text/x-python",
   "name": "python",
   "nbconvert_exporter": "python",
   "pygments_lexer": "ipython3",
   "version": "3.11.9"
  }
 },
 "nbformat": 4,
 "nbformat_minor": 5
}
