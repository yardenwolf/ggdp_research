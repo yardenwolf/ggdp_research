{
 "cells": [
  {
   "cell_type": "markdown",
   "id": "4b2ecf10-f97d-4a0c-b2fe-6c085abd7f1e",
   "metadata": {
    "collapsed": true,
    "jupyter": {
     "outputs_hidden": true
    }
   },
   "source": [
    "## Choosing EU ETS vs Carbon TAX\n",
    "EU ETS start only at 2005 and Carbon Tax depends on countries that have already implemented it but could go as early as 1990."
   ]
  },
  {
   "cell_type": "code",
   "id": "ae51894a-42ab-4233-a1bb-6836ddb33776",
   "metadata": {
    "ExecuteTime": {
     "end_time": "2024-05-07T19:38:10.741024Z",
     "start_time": "2024-05-07T19:38:07.122099Z"
    }
   },
   "source": [
    "import pandas as pd\n",
    "import statsmodels.api as sm\n",
    "\n",
    "carbon_pricing_data = pd.read_excel('./ggdp_data/world_bank_carbon_pricing.xlsx', header=1,\n",
    "                                    sheet_name='Compliance_Price', na_values='-')\n",
    "carbon_pricing_data = carbon_pricing_data.set_index('Name of the initiative').T\n",
    "carbon_pricing_data.rename(columns=lambda x: str.lower(x.replace(' ', '_')), inplace=True)\n",
    "#dropping all metadata rows\n",
    "carbon_pricing_data = carbon_pricing_data.iloc[7:]\n",
    "carbon_pricing_data = carbon_pricing_data.apply(pd.to_numeric)\n",
    "carbon_pricing_data.index = [str(x) for x in carbon_pricing_data.index]\n",
    "\n",
    "eu_ets = carbon_pricing_data['eu_ets']\n",
    "finland_carbon_tax = carbon_pricing_data['finland_carbon_tax']\n",
    "#Finland has two types of carbon tax: Transport fuels, heating fuels which are the same across the whole series\n",
    "finland_carbon_tax = finland_carbon_tax.iloc[:, 0]"
   ],
   "outputs": [],
   "execution_count": 1
  },
  {
   "cell_type": "code",
   "id": "e90c3210765b3663",
   "metadata": {
    "ExecuteTime": {
     "end_time": "2024-05-07T19:38:10.791619Z",
     "start_time": "2024-05-07T19:38:10.743140Z"
    }
   },
   "source": [
    "#checking to see if EU ETS can proxy for carbon tax or the other way round. Does any one of them hold and additional information?\n",
    "ets_joined_carbon_tax = pd.DataFrame(eu_ets).join(finland_carbon_tax)\n",
    "ets_joined_carbon_tax = ets_joined_carbon_tax.dropna()\n",
    "ets_joined_carbon_tax.head()\n",
    "\n",
    "model = sm.OLS.from_formula('eu_ets ~ finland_carbon_tax', data=ets_joined_carbon_tax)\n",
    "results = model.fit()\n",
    "results.summary()\n"
   ],
   "outputs": [
    {
     "name": "stderr",
     "output_type": "stream",
     "text": [
      "C:\\Users\\yarde\\anaconda3\\envs\\ggdp-research\\Lib\\site-packages\\scipy\\stats\\_axis_nan_policy.py:531: UserWarning: kurtosistest only valid for n>=20 ... continuing anyway, n=19\n",
      "  res = hypotest_fun_out(*samples, **kwds)\n"
     ]
    },
    {
     "data": {
      "text/plain": [
       "<class 'statsmodels.iolib.summary.Summary'>\n",
       "\"\"\"\n",
       "                            OLS Regression Results                            \n",
       "==============================================================================\n",
       "Dep. Variable:                 eu_ets   R-squared:                       0.165\n",
       "Model:                            OLS   Adj. R-squared:                  0.116\n",
       "Method:                 Least Squares   F-statistic:                     3.365\n",
       "Date:                Tue, 07 May 2024   Prob (F-statistic):             0.0842\n",
       "Time:                        20:38:10   Log-Likelihood:                -86.898\n",
       "No. Observations:                  19   AIC:                             177.8\n",
       "Df Residuals:                      17   BIC:                             179.7\n",
       "Df Model:                           1                                         \n",
       "Covariance Type:            nonrobust                                         \n",
       "======================================================================================\n",
       "                         coef    std err          t      P>|t|      [0.025      0.975]\n",
       "--------------------------------------------------------------------------------------\n",
       "Intercept              7.4432     11.154      0.667      0.514     -16.090      30.976\n",
       "finland_carbon_tax     0.3522      0.192      1.834      0.084      -0.053       0.757\n",
       "==============================================================================\n",
       "Omnibus:                        6.489   Durbin-Watson:                   0.533\n",
       "Prob(Omnibus):                  0.039   Jarque-Bera (JB):                4.314\n",
       "Skew:                           1.139   Prob(JB):                        0.116\n",
       "Kurtosis:                       3.508   Cond. No.                         114.\n",
       "==============================================================================\n",
       "\n",
       "Notes:\n",
       "[1] Standard Errors assume that the covariance matrix of the errors is correctly specified.\n",
       "\"\"\""
      ],
      "text/html": [
       "<table class=\"simpletable\">\n",
       "<caption>OLS Regression Results</caption>\n",
       "<tr>\n",
       "  <th>Dep. Variable:</th>         <td>eu_ets</td>      <th>  R-squared:         </th> <td>   0.165</td>\n",
       "</tr>\n",
       "<tr>\n",
       "  <th>Model:</th>                   <td>OLS</td>       <th>  Adj. R-squared:    </th> <td>   0.116</td>\n",
       "</tr>\n",
       "<tr>\n",
       "  <th>Method:</th>             <td>Least Squares</td>  <th>  F-statistic:       </th> <td>   3.365</td>\n",
       "</tr>\n",
       "<tr>\n",
       "  <th>Date:</th>             <td>Tue, 07 May 2024</td> <th>  Prob (F-statistic):</th>  <td>0.0842</td> \n",
       "</tr>\n",
       "<tr>\n",
       "  <th>Time:</th>                 <td>20:38:10</td>     <th>  Log-Likelihood:    </th> <td> -86.898</td>\n",
       "</tr>\n",
       "<tr>\n",
       "  <th>No. Observations:</th>      <td>    19</td>      <th>  AIC:               </th> <td>   177.8</td>\n",
       "</tr>\n",
       "<tr>\n",
       "  <th>Df Residuals:</th>          <td>    17</td>      <th>  BIC:               </th> <td>   179.7</td>\n",
       "</tr>\n",
       "<tr>\n",
       "  <th>Df Model:</th>              <td>     1</td>      <th>                     </th>     <td> </td>   \n",
       "</tr>\n",
       "<tr>\n",
       "  <th>Covariance Type:</th>      <td>nonrobust</td>    <th>                     </th>     <td> </td>   \n",
       "</tr>\n",
       "</table>\n",
       "<table class=\"simpletable\">\n",
       "<tr>\n",
       "           <td></td>             <th>coef</th>     <th>std err</th>      <th>t</th>      <th>P>|t|</th>  <th>[0.025</th>    <th>0.975]</th>  \n",
       "</tr>\n",
       "<tr>\n",
       "  <th>Intercept</th>          <td>    7.4432</td> <td>   11.154</td> <td>    0.667</td> <td> 0.514</td> <td>  -16.090</td> <td>   30.976</td>\n",
       "</tr>\n",
       "<tr>\n",
       "  <th>finland_carbon_tax</th> <td>    0.3522</td> <td>    0.192</td> <td>    1.834</td> <td> 0.084</td> <td>   -0.053</td> <td>    0.757</td>\n",
       "</tr>\n",
       "</table>\n",
       "<table class=\"simpletable\">\n",
       "<tr>\n",
       "  <th>Omnibus:</th>       <td> 6.489</td> <th>  Durbin-Watson:     </th> <td>   0.533</td>\n",
       "</tr>\n",
       "<tr>\n",
       "  <th>Prob(Omnibus):</th> <td> 0.039</td> <th>  Jarque-Bera (JB):  </th> <td>   4.314</td>\n",
       "</tr>\n",
       "<tr>\n",
       "  <th>Skew:</th>          <td> 1.139</td> <th>  Prob(JB):          </th> <td>   0.116</td>\n",
       "</tr>\n",
       "<tr>\n",
       "  <th>Kurtosis:</th>      <td> 3.508</td> <th>  Cond. No.          </th> <td>    114.</td>\n",
       "</tr>\n",
       "</table><br/><br/>Notes:<br/>[1] Standard Errors assume that the covariance matrix of the errors is correctly specified."
      ],
      "text/latex": "\\begin{center}\n\\begin{tabular}{lclc}\n\\toprule\n\\textbf{Dep. Variable:}       &     eu\\_ets      & \\textbf{  R-squared:         } &     0.165   \\\\\n\\textbf{Model:}               &       OLS        & \\textbf{  Adj. R-squared:    } &     0.116   \\\\\n\\textbf{Method:}              &  Least Squares   & \\textbf{  F-statistic:       } &     3.365   \\\\\n\\textbf{Date:}                & Tue, 07 May 2024 & \\textbf{  Prob (F-statistic):} &   0.0842    \\\\\n\\textbf{Time:}                &     20:38:10     & \\textbf{  Log-Likelihood:    } &   -86.898   \\\\\n\\textbf{No. Observations:}    &          19      & \\textbf{  AIC:               } &     177.8   \\\\\n\\textbf{Df Residuals:}        &          17      & \\textbf{  BIC:               } &     179.7   \\\\\n\\textbf{Df Model:}            &           1      & \\textbf{                     } &             \\\\\n\\textbf{Covariance Type:}     &    nonrobust     & \\textbf{                     } &             \\\\\n\\bottomrule\n\\end{tabular}\n\\begin{tabular}{lcccccc}\n                              & \\textbf{coef} & \\textbf{std err} & \\textbf{t} & \\textbf{P$> |$t$|$} & \\textbf{[0.025} & \\textbf{0.975]}  \\\\\n\\midrule\n\\textbf{Intercept}            &       7.4432  &       11.154     &     0.667  &         0.514        &      -16.090    &       30.976     \\\\\n\\textbf{finland\\_carbon\\_tax} &       0.3522  &        0.192     &     1.834  &         0.084        &       -0.053    &        0.757     \\\\\n\\bottomrule\n\\end{tabular}\n\\begin{tabular}{lclc}\n\\textbf{Omnibus:}       &  6.489 & \\textbf{  Durbin-Watson:     } &    0.533  \\\\\n\\textbf{Prob(Omnibus):} &  0.039 & \\textbf{  Jarque-Bera (JB):  } &    4.314  \\\\\n\\textbf{Skew:}          &  1.139 & \\textbf{  Prob(JB):          } &    0.116  \\\\\n\\textbf{Kurtosis:}      &  3.508 & \\textbf{  Cond. No.          } &     114.  \\\\\n\\bottomrule\n\\end{tabular}\n%\\caption{OLS Regression Results}\n\\end{center}\n\nNotes: \\newline\n [1] Standard Errors assume that the covariance matrix of the errors is correctly specified."
     },
     "execution_count": 2,
     "metadata": {},
     "output_type": "execute_result"
    }
   ],
   "execution_count": 2
  },
  {
   "metadata": {},
   "cell_type": "markdown",
   "source": [
    "### Analysing Results\n",
    "I was looking to see if ets and carbon tax are very correlated, if they are then I could probably assume that one of them proxies for the other. We can see that linear relationship between the variables is insignificant. Meaning that they don't proxy linearly for each other. Thus I should probably use one of them or a combination of both when calculating the GGDP results."
   ],
   "id": "c7ac4689c0d77af7"
  },
  {
   "metadata": {},
   "cell_type": "markdown",
   "source": [
    "## Calculating GGDP\n",
    "The base formula which I'm going to use is this: $ GGDP = GDP - KtCO_{2} \\cdot P_{tCO_2} - Twaste \\cdot 74 kWh \\cdot P_{1 kWh elec} - GNI \\cdot \\% NRD/100 $\n",
    "\n",
    "First term - air pollution\n",
    "Second Term - waste pollution translated into electricity cost\n",
    "Third Term - Natural resource depletion\n",
    "\n",
    "The 74 figure is based on different papers: check this\n",
    "\n",
    "Managed to find all the data for this: arises the question of what data to include and how.\n",
    "\n",
    "The problems with this base formula are:\n",
    "1. doesn't account for defensive costs - the cost of restoring and protecting the environment. Need to find figures for this.\n",
    "2. the figure 74 isn't really based on anything concrete (the citing is quite unclear)\n",
    "3. no accounting for green innovation - not even sure if I want to add this, but perhaps I should\n",
    "\n",
    "The main problem with actually deriving GGDP is data availability and lack of accounting standard that can be implemented using available data.\n"
   ],
   "id": "b4b94bfc93ce9875"
  },
  {
   "metadata": {
    "ExecuteTime": {
     "end_time": "2024-05-07T19:38:10.795620Z",
     "start_time": "2024-05-07T19:38:10.792628Z"
    }
   },
   "cell_type": "code",
   "source": "\n",
   "id": "2bbb4c9b22f16cbe",
   "outputs": [],
   "execution_count": 2
  },
  {
   "metadata": {
    "ExecuteTime": {
     "end_time": "2024-05-07T19:38:11.061661Z",
     "start_time": "2024-05-07T19:38:10.797146Z"
    }
   },
   "cell_type": "code",
   "source": [
    "#Loading Data for ggdp\n",
    "finland_ggdp = pd.DataFrame()\n",
    "\n",
    "wdi_data = pd.read_excel('./ggdp_data/P_Data_Extract_From_World_Development_Indicators.xlsx', header=0,\n",
    "                         sheet_name='Data', na_values='..')\n",
    "wdi_data = wdi_data.set_index('Country Name').T\n",
    "wdi_data = wdi_data.drop(['Series Code'])\n",
    "wdi_data = wdi_data.rename({\"Series Name\": \"variable_name\"})\n",
    "wdi_data = wdi_data.rename(index=lambda x: x[:y] if (y := x.find(' ')) != -1 else x)\n",
    "wdi_data = wdi_data.dropna(axis='columns', how='all')\n",
    "\n",
    "\n",
    "def replace_values_from_dict(curr_value, value_dict: dict):\n",
    "    try:\n",
    "        return value_dict[curr_value]\n",
    "    except KeyError:\n",
    "        return curr_value\n",
    "\n",
    "\n",
    "wdi_variables_to_replace = {'GNI, PPP (current international $)': 'gni_ppp',\n",
    "                            'Adjusted savings: carbon dioxide damage (% of GNI)': 'as_co2_damage_gni',\n",
    "                            'Adjusted savings: natural resources depletion (% of GNI)': 'as_nrd_gni',\n",
    "                            'Adjusted savings: particulate emission damage (% of GNI)': 'as_ped_gbi',\n",
    "                            'GNI (current US$)': 'gni_dollar',\n",
    "                            'CO2 emissions (kt)': 'co2_kt',\n",
    "                            'Total greenhouse gas emissions (kt of CO2 equivalent)': 'total_gge_kt',\n",
    "                            'GDP, PPP (current international $)': 'gdp_ppp',\n",
    "                            'GDP (current US$)': 'gdp_dollar'}\n",
    "\n",
    "#def lower_only_letters(curr_str:str):\n",
    "\n",
    "\n",
    "#renaming variables\n",
    "wdi_data.loc['variable_name'] = (wdi_data.loc['variable_name']).apply(replace_values_from_dict,\n",
    "                                                                      args=(wdi_variables_to_replace,))\n",
    "\n",
    "\n",
    "def change_col_names_to_country(df: pd.DataFrame):\n",
    "    column_name_list = []\n",
    "    curr_col_name: str\n",
    "    for curr_col_name, curr_series in df.items():\n",
    "        #'country-name'_'variable-name'\n",
    "        new_column_name = f'{curr_col_name.lower()}_{curr_series[\"variable_name\"]}'\n",
    "        column_name_list.append(new_column_name)\n",
    "    df.columns = column_name_list\n",
    "\n",
    "\n",
    "#combine all finland data into one dataframe to avoid problems with dates\n",
    "finland_data = wdi_data['Finland']\n",
    "change_col_names_to_country(finland_data)\n",
    "finland_data = finland_data.drop(index=['Country', 'variable_name'])\n",
    "finland_data = finland_data.join(finland_carbon_tax, how='left')\n",
    "\n",
    "finland_data = finland_data.apply(pd.to_numeric)"
   ],
   "id": "d00e464f5c09c8d",
   "outputs": [],
   "execution_count": 3
  },
  {
   "metadata": {},
   "cell_type": "markdown",
   "source": [
    "There's a problem with calculating waste because not enough waste data is available in order to constrcut the waste cost term. So there's a need to do imputation.\n",
    "I thought it would make sense to do the imputation by regressing waste on gdp, since as the country has more economic output the more waste it's going to have.\n",
    "We can see that when we run the regression we get a very high R-squared and that the model seems to be $Net Waste = 0.0005 * GDP[PPP] $, the slope coefficient is significant. We can use this result to fill in the missing values all the way to 1990."
   ],
   "id": "3b1b78fa67fede04"
  },
  {
   "metadata": {
    "ExecuteTime": {
     "end_time": "2024-05-07T19:38:11.115361Z",
     "start_time": "2024-05-07T19:38:11.062677Z"
    }
   },
   "cell_type": "code",
   "source": [
    "#Waste calculation\n",
    "# Waste generation data preparation and projections\n",
    "waste_gen_data = pd.read_csv('./ggdp_data/eurostat_generation_of_waste_by_category.csv')\n",
    "waste_treatment_data = pd.read_csv('./ggdp_data/eurostat_waste_treatment_by_waste_category.csv')\n",
    "\n",
    "#getting Finland's total waste generation\n",
    "finland_gen_total = waste_gen_data[(waste_gen_data['geo'] == 'FI') & (waste_gen_data['waste'] == 'TOTAL')]\n",
    "finland_gen_total.index = finland_gen_total['TIME_PERIOD']\n",
    "#getting Finland's total energy recovery from waste, since we are pricing waste through energy prices.\n",
    "finland_energy_recovery = waste_treatment_data[\n",
    "    (waste_treatment_data['geo'] == 'FI') & (waste_treatment_data['wst_oper'] == 'RCV_E')]\n",
    "finland_energy_recovery.index = finland_energy_recovery['TIME_PERIOD']\n",
    "\n",
    "net_waste_data = pd.DataFrame()\n",
    "#calculating net waste: net_waste = generated_waste - energy_recovered_from_waste\n",
    "net_waste_data['finland_net_waste'] = finland_gen_total['OBS_VALUE'] - finland_energy_recovery['OBS_VALUE']\n",
    "\n",
    "net_waste_data.index = [str(x) for x in net_waste_data.index]\n",
    "\n",
    "#is GDP correlated with waste\n",
    "\n",
    "gdp_waste_data = net_waste_data.join(finland_data['finland_gdp_ppp'])\n",
    "\n",
    "model = sm.OLS.from_formula('finland_net_waste ~ finland_gdp_ppp', data=gdp_waste_data)\n",
    "results = model.fit()\n",
    "results.summary()"
   ],
   "id": "87fc7edb5736cf55",
   "outputs": [
    {
     "name": "stderr",
     "output_type": "stream",
     "text": [
      "C:\\Users\\yarde\\anaconda3\\envs\\ggdp-research\\Lib\\site-packages\\scipy\\stats\\_axis_nan_policy.py:531: UserWarning: kurtosistest only valid for n>=20 ... continuing anyway, n=9\n",
      "  res = hypotest_fun_out(*samples, **kwds)\n"
     ]
    },
    {
     "data": {
      "text/plain": [
       "<class 'statsmodels.iolib.summary.Summary'>\n",
       "\"\"\"\n",
       "                            OLS Regression Results                            \n",
       "==============================================================================\n",
       "Dep. Variable:      finland_net_waste   R-squared:                       0.774\n",
       "Model:                            OLS   Adj. R-squared:                  0.742\n",
       "Method:                 Least Squares   F-statistic:                     23.97\n",
       "Date:                Tue, 07 May 2024   Prob (F-statistic):            0.00176\n",
       "Time:                        20:38:11   Log-Likelihood:                -158.04\n",
       "No. Observations:                   9   AIC:                             320.1\n",
       "Df Residuals:                       7   BIC:                             320.5\n",
       "Df Model:                           1                                         \n",
       "Covariance Type:            nonrobust                                         \n",
       "===================================================================================\n",
       "                      coef    std err          t      P>|t|      [0.025      0.975]\n",
       "-----------------------------------------------------------------------------------\n",
       "Intercept       -1.773e+07   2.24e+07     -0.792      0.454   -7.07e+07    3.52e+07\n",
       "finland_gdp_ppp     0.0005   9.76e-05      4.896      0.002       0.000       0.001\n",
       "==============================================================================\n",
       "Omnibus:                        0.956   Durbin-Watson:                   2.067\n",
       "Prob(Omnibus):                  0.620   Jarque-Bera (JB):                0.645\n",
       "Skew:                           0.244   Prob(JB):                        0.724\n",
       "Kurtosis:                       1.783   Cond. No.                     1.33e+12\n",
       "==============================================================================\n",
       "\n",
       "Notes:\n",
       "[1] Standard Errors assume that the covariance matrix of the errors is correctly specified.\n",
       "[2] The condition number is large, 1.33e+12. This might indicate that there are\n",
       "strong multicollinearity or other numerical problems.\n",
       "\"\"\""
      ],
      "text/html": [
       "<table class=\"simpletable\">\n",
       "<caption>OLS Regression Results</caption>\n",
       "<tr>\n",
       "  <th>Dep. Variable:</th>    <td>finland_net_waste</td> <th>  R-squared:         </th> <td>   0.774</td>\n",
       "</tr>\n",
       "<tr>\n",
       "  <th>Model:</th>                   <td>OLS</td>        <th>  Adj. R-squared:    </th> <td>   0.742</td>\n",
       "</tr>\n",
       "<tr>\n",
       "  <th>Method:</th>             <td>Least Squares</td>   <th>  F-statistic:       </th> <td>   23.97</td>\n",
       "</tr>\n",
       "<tr>\n",
       "  <th>Date:</th>             <td>Tue, 07 May 2024</td>  <th>  Prob (F-statistic):</th>  <td>0.00176</td>\n",
       "</tr>\n",
       "<tr>\n",
       "  <th>Time:</th>                 <td>20:38:11</td>      <th>  Log-Likelihood:    </th> <td> -158.04</td>\n",
       "</tr>\n",
       "<tr>\n",
       "  <th>No. Observations:</th>      <td>     9</td>       <th>  AIC:               </th> <td>   320.1</td>\n",
       "</tr>\n",
       "<tr>\n",
       "  <th>Df Residuals:</th>          <td>     7</td>       <th>  BIC:               </th> <td>   320.5</td>\n",
       "</tr>\n",
       "<tr>\n",
       "  <th>Df Model:</th>              <td>     1</td>       <th>                     </th>     <td> </td>   \n",
       "</tr>\n",
       "<tr>\n",
       "  <th>Covariance Type:</th>      <td>nonrobust</td>     <th>                     </th>     <td> </td>   \n",
       "</tr>\n",
       "</table>\n",
       "<table class=\"simpletable\">\n",
       "<tr>\n",
       "         <td></td>            <th>coef</th>     <th>std err</th>      <th>t</th>      <th>P>|t|</th>  <th>[0.025</th>    <th>0.975]</th>  \n",
       "</tr>\n",
       "<tr>\n",
       "  <th>Intercept</th>       <td>-1.773e+07</td> <td> 2.24e+07</td> <td>   -0.792</td> <td> 0.454</td> <td>-7.07e+07</td> <td> 3.52e+07</td>\n",
       "</tr>\n",
       "<tr>\n",
       "  <th>finland_gdp_ppp</th> <td>    0.0005</td> <td> 9.76e-05</td> <td>    4.896</td> <td> 0.002</td> <td>    0.000</td> <td>    0.001</td>\n",
       "</tr>\n",
       "</table>\n",
       "<table class=\"simpletable\">\n",
       "<tr>\n",
       "  <th>Omnibus:</th>       <td> 0.956</td> <th>  Durbin-Watson:     </th> <td>   2.067</td>\n",
       "</tr>\n",
       "<tr>\n",
       "  <th>Prob(Omnibus):</th> <td> 0.620</td> <th>  Jarque-Bera (JB):  </th> <td>   0.645</td>\n",
       "</tr>\n",
       "<tr>\n",
       "  <th>Skew:</th>          <td> 0.244</td> <th>  Prob(JB):          </th> <td>   0.724</td>\n",
       "</tr>\n",
       "<tr>\n",
       "  <th>Kurtosis:</th>      <td> 1.783</td> <th>  Cond. No.          </th> <td>1.33e+12</td>\n",
       "</tr>\n",
       "</table><br/><br/>Notes:<br/>[1] Standard Errors assume that the covariance matrix of the errors is correctly specified.<br/>[2] The condition number is large, 1.33e+12. This might indicate that there are<br/>strong multicollinearity or other numerical problems."
      ],
      "text/latex": "\\begin{center}\n\\begin{tabular}{lclc}\n\\toprule\n\\textbf{Dep. Variable:}    & finland\\_net\\_waste & \\textbf{  R-squared:         } &     0.774   \\\\\n\\textbf{Model:}            &         OLS         & \\textbf{  Adj. R-squared:    } &     0.742   \\\\\n\\textbf{Method:}           &    Least Squares    & \\textbf{  F-statistic:       } &     23.97   \\\\\n\\textbf{Date:}             &   Tue, 07 May 2024  & \\textbf{  Prob (F-statistic):} &  0.00176    \\\\\n\\textbf{Time:}             &       20:38:11      & \\textbf{  Log-Likelihood:    } &   -158.04   \\\\\n\\textbf{No. Observations:} &             9       & \\textbf{  AIC:               } &     320.1   \\\\\n\\textbf{Df Residuals:}     &             7       & \\textbf{  BIC:               } &     320.5   \\\\\n\\textbf{Df Model:}         &             1       & \\textbf{                     } &             \\\\\n\\textbf{Covariance Type:}  &      nonrobust      & \\textbf{                     } &             \\\\\n\\bottomrule\n\\end{tabular}\n\\begin{tabular}{lcccccc}\n                           & \\textbf{coef} & \\textbf{std err} & \\textbf{t} & \\textbf{P$> |$t$|$} & \\textbf{[0.025} & \\textbf{0.975]}  \\\\\n\\midrule\n\\textbf{Intercept}         &   -1.773e+07  &     2.24e+07     &    -0.792  &         0.454        &    -7.07e+07    &     3.52e+07     \\\\\n\\textbf{finland\\_gdp\\_ppp} &       0.0005  &     9.76e-05     &     4.896  &         0.002        &        0.000    &        0.001     \\\\\n\\bottomrule\n\\end{tabular}\n\\begin{tabular}{lclc}\n\\textbf{Omnibus:}       &  0.956 & \\textbf{  Durbin-Watson:     } &    2.067  \\\\\n\\textbf{Prob(Omnibus):} &  0.620 & \\textbf{  Jarque-Bera (JB):  } &    0.645  \\\\\n\\textbf{Skew:}          &  0.244 & \\textbf{  Prob(JB):          } &    0.724  \\\\\n\\textbf{Kurtosis:}      &  1.783 & \\textbf{  Cond. No.          } & 1.33e+12  \\\\\n\\bottomrule\n\\end{tabular}\n%\\caption{OLS Regression Results}\n\\end{center}\n\nNotes: \\newline\n [1] Standard Errors assume that the covariance matrix of the errors is correctly specified. \\newline\n [2] The condition number is large, 1.33e+12. This might indicate that there are \\newline\n strong multicollinearity or other numerical problems."
     },
     "execution_count": 4,
     "metadata": {},
     "output_type": "execute_result"
    }
   ],
   "execution_count": 4
  },
  {
   "metadata": {
    "ExecuteTime": {
     "end_time": "2024-05-07T19:38:11.121750Z",
     "start_time": "2024-05-07T19:38:11.116370Z"
    }
   },
   "cell_type": "code",
   "source": [
    "#adding the model from the regression to the data\n",
    "finland_data['net_waste'] = finland_data['finland_gdp_ppp'] * results.params['finland_gdp_ppp']"
   ],
   "id": "2fe84ca93d249baf",
   "outputs": [],
   "execution_count": 5
  },
  {
   "metadata": {},
   "cell_type": "markdown",
   "source": [
    "### Electricity Price\n",
    "We use electricity price to be able to price solid waste. The problem is electricity price is tiered so the calculation has to be done accordingly. What I plan on doing is taking the fractional part of the total waste converted to electricity respective to house-hold use and industrial use in Finland and then look at each one of them as if it were a single consumer. This is an obvious over-simplification but otherwise there is no way of calculating it because of a lack of data."
   ],
   "id": "cdbb6ac9f96350db"
  },
  {
   "metadata": {
    "ExecuteTime": {
     "end_time": "2024-05-07T21:00:02.370812Z",
     "start_time": "2024-05-07T20:57:34.640805Z"
    }
   },
   "cell_type": "code",
   "source": [
    "#joining together pre-2007 data with post-2007 data\n",
    "from collections import defaultdict\n",
    "\n",
    "\n",
    "def process_electricity_df(country_code: str, elec_df: pd.DataFrame, with_tax=True) -> pd.DataFrame:\n",
    "    tax_filter = 'I_TAX' if with_tax else 'X_TAX'\n",
    "    filtered_df: pd.DataFrame = elec_df[(elec_df['geo'] == country_code) & (elec_df['tax'] == tax_filter)]\n",
    "    filtered_df['TIME_PERIOD'] = filtered_df['TIME_PERIOD'].apply(lambda x: x[:x.find('-')])\n",
    "    filtered_df = filtered_df.drop(columns=['OBS_FLAG', 'DATAFLOW', 'LAST UPDATE', 'freq', 'product'])\n",
    "    annual_data = filtered_df.groupby(['currency', 'TIME_PERIOD'], as_index=False)['OBS_VALUE'].mean()\n",
    "    return annual_data\n",
    "\n",
    "\n",
    "def process_electricity_consumption_df(country_code: str, df: pd.DataFrame) -> pd.DataFrame:\n",
    "    filtered_df: pd.DataFrame = df[(df['geo'] == country_code)]\n",
    "    filtered_df = filtered_df.drop(columns=['OBS_FLAG', 'DATAFLOW', 'LAST UPDATE', 'freq'])\n",
    "    annual_data = {}\n",
    "    for index, row in filtered_df.iterrows():\n",
    "        current_year = row['TIME_PERIOD']\n",
    "        if current_year not in annual_data:\n",
    "            annual_data[current_year] = {'year': current_year, 'hh_consumption': 0, 'nh_consumption': 0}\n",
    "        current_year_item = annual_data[current_year]\n",
    "        if row['nrg_bal'] == 'FC_OTH_HH_E':\n",
    "            current_year_item['year'] = row['TIME_PERIOD']\n",
    "            current_year_item['hh_consumption'] = row['OBS_VALUE']\n",
    "            current_year_item['nh_consumption'] -= row['OBS_VALUE']\n",
    "        elif row['nrg_bal'] == 'FC':\n",
    "            current_year_item['nh_consumption'] += row['OBS_VALUE']\n",
    "    #list of dictionaries of years, each item contains year, hh and nh consumption\n",
    "    annual_data = [annual_data[key] for key in annual_data]\n",
    "    return pd.DataFrame(annual_data)\n",
    "\n",
    "\n",
    "elec_hh_pre_2007 = pd.read_csv('./ggdp_data/eurostat_electricity/eurostat_electricity_price_hh_pre_2007.csv', header=0)\n",
    "elec_hh_pre_2007_processed = process_electricity_df(country_code='FI', elec_df=elec_hh_pre_2007)\n",
    "elec_hh_post_2007 = pd.read_csv('./ggdp_data/eurostat_electricity/eurostat_electricity_price_hh_post_2007.csv',\n",
    "                                header=0)\n",
    "elec_hh_post_2007_processed = process_electricity_df(country_code='FI', elec_df=elec_hh_post_2007)\n",
    "elec_hh = pd.concat([elec_hh_post_2007_processed, elec_hh_pre_2007_processed])\n",
    "\n",
    "elec_nh_pre_2007 = pd.read_csv('./ggdp_data/eurostat_electricity/eurostat_electricity_price_nh_pre_2007.csv')\n",
    "elec_nh_pre_2007_processed = process_electricity_df(country_code='FI', elec_df=elec_nh_pre_2007)\n",
    "elec_nh_post_2007 = pd.read_csv('./ggdp_data/eurostat_electricity/eurostat_electricity_price_nh_post_2007.csv')\n",
    "elec_nh_post_2007_processed = process_electricity_df(country_code='FI', elec_df=elec_nh_post_2007)\n",
    "elec_nh = pd.concat([elec_nh_post_2007_processed, elec_nh_pre_2007_processed])\n",
    "\n",
    "elec_consumption = pd.read_csv('./ggdp_data/eurostat_electricity/eurostat_electricity_consumption.csv', header=0)\n",
    "process_electricity_consumption_df(country_code='FI', df=elec_consumption)\n",
    "\n",
    "print('1234')\n",
    "\n",
    "# #getting Finland's total waste generation\n",
    "# finland_gen_total = waste_gen_data[(waste_gen_data['geo'] == 'FI') & (waste_gen_data['waste'] == 'TOTAL')]\n",
    "# finland_gen_total.index = finland_gen_total['TIME_PERIOD']\n",
    "# #getting Finland's total energy recovery from waste, since we are pricing waste through energy prices.\n",
    "# finland_energy_recovery = waste_treatment_data[(waste_treatment_data['geo'] == 'FI') & (waste_treatment_data['wst_oper'] == 'RCV_E')]\n",
    "# finland_energy_recovery.index = finland_energy_recovery['TIME_PERIOD']"
   ],
   "id": "28884d3c7606cff3",
   "outputs": [
    {
     "name": "stderr",
     "output_type": "stream",
     "text": [
      "C:\\Users\\yarde\\AppData\\Local\\Temp\\ipykernel_32048\\2252222501.py:8: SettingWithCopyWarning: \n",
      "A value is trying to be set on a copy of a slice from a DataFrame.\n",
      "Try using .loc[row_indexer,col_indexer] = value instead\n",
      "\n",
      "See the caveats in the documentation: https://pandas.pydata.org/pandas-docs/stable/user_guide/indexing.html#returning-a-view-versus-a-copy\n",
      "  filtered_df['TIME_PERIOD'] = filtered_df['TIME_PERIOD'].apply(lambda x: x[:x.find('-')])\n",
      "C:\\Users\\yarde\\AppData\\Local\\Temp\\ipykernel_32048\\2252222501.py:8: SettingWithCopyWarning: \n",
      "A value is trying to be set on a copy of a slice from a DataFrame.\n",
      "Try using .loc[row_indexer,col_indexer] = value instead\n",
      "\n",
      "See the caveats in the documentation: https://pandas.pydata.org/pandas-docs/stable/user_guide/indexing.html#returning-a-view-versus-a-copy\n",
      "  filtered_df['TIME_PERIOD'] = filtered_df['TIME_PERIOD'].apply(lambda x: x[:x.find('-')])\n",
      "C:\\Users\\yarde\\AppData\\Local\\Temp\\ipykernel_32048\\2252222501.py:8: SettingWithCopyWarning: \n",
      "A value is trying to be set on a copy of a slice from a DataFrame.\n",
      "Try using .loc[row_indexer,col_indexer] = value instead\n",
      "\n",
      "See the caveats in the documentation: https://pandas.pydata.org/pandas-docs/stable/user_guide/indexing.html#returning-a-view-versus-a-copy\n",
      "  filtered_df['TIME_PERIOD'] = filtered_df['TIME_PERIOD'].apply(lambda x: x[:x.find('-')])\n",
      "C:\\Users\\yarde\\AppData\\Local\\Temp\\ipykernel_32048\\2252222501.py:8: SettingWithCopyWarning: \n",
      "A value is trying to be set on a copy of a slice from a DataFrame.\n",
      "Try using .loc[row_indexer,col_indexer] = value instead\n",
      "\n",
      "See the caveats in the documentation: https://pandas.pydata.org/pandas-docs/stable/user_guide/indexing.html#returning-a-view-versus-a-copy\n",
      "  filtered_df['TIME_PERIOD'] = filtered_df['TIME_PERIOD'].apply(lambda x: x[:x.find('-')])\n"
     ]
    },
    {
     "ename": "KeyboardInterrupt",
     "evalue": "",
     "output_type": "error",
     "traceback": [
      "\u001B[1;31m---------------------------------------------------------------------------\u001B[0m",
      "\u001B[1;31mKeyboardInterrupt\u001B[0m                         Traceback (most recent call last)",
      "Cell \u001B[1;32mIn[23], line 48\u001B[0m\n\u001B[0;32m     45\u001B[0m elec_nh \u001B[38;5;241m=\u001B[39m pd\u001B[38;5;241m.\u001B[39mconcat([elec_nh_post_2007_processed, elec_nh_pre_2007_processed])\n\u001B[0;32m     47\u001B[0m elec_consumption \u001B[38;5;241m=\u001B[39m pd\u001B[38;5;241m.\u001B[39mread_csv(\u001B[38;5;124m'\u001B[39m\u001B[38;5;124m./ggdp_data/eurostat_electricity/eurostat_electricity_consumption.csv\u001B[39m\u001B[38;5;124m'\u001B[39m, header\u001B[38;5;241m=\u001B[39m\u001B[38;5;241m0\u001B[39m)\n\u001B[1;32m---> 48\u001B[0m \u001B[43mprocess_electricity_consumption_df\u001B[49m\u001B[43m(\u001B[49m\u001B[43mcountry_code\u001B[49m\u001B[38;5;241;43m=\u001B[39;49m\u001B[38;5;124;43m'\u001B[39;49m\u001B[38;5;124;43mFI\u001B[39;49m\u001B[38;5;124;43m'\u001B[39;49m\u001B[43m,\u001B[49m\u001B[43m \u001B[49m\u001B[43mdf\u001B[49m\u001B[38;5;241;43m=\u001B[39;49m\u001B[43melec_consumption\u001B[49m\u001B[43m)\u001B[49m\n\u001B[0;32m     50\u001B[0m \u001B[38;5;28mprint\u001B[39m(\u001B[38;5;124m'\u001B[39m\u001B[38;5;124m1234\u001B[39m\u001B[38;5;124m'\u001B[39m)\n\u001B[0;32m     52\u001B[0m \u001B[38;5;66;03m# #getting Finland's total waste generation\u001B[39;00m\n\u001B[0;32m     53\u001B[0m \u001B[38;5;66;03m# finland_gen_total = waste_gen_data[(waste_gen_data['geo'] == 'FI') & (waste_gen_data['waste'] == 'TOTAL')]\u001B[39;00m\n\u001B[0;32m     54\u001B[0m \u001B[38;5;66;03m# finland_gen_total.index = finland_gen_total['TIME_PERIOD']\u001B[39;00m\n\u001B[0;32m     55\u001B[0m \u001B[38;5;66;03m# #getting Finland's total energy recovery from waste, since we are pricing waste through energy prices.\u001B[39;00m\n\u001B[0;32m     56\u001B[0m \u001B[38;5;66;03m# finland_energy_recovery = waste_treatment_data[(waste_treatment_data['geo'] == 'FI') & (waste_treatment_data['wst_oper'] == 'RCV_E')]\u001B[39;00m\n\u001B[0;32m     57\u001B[0m \u001B[38;5;66;03m# finland_energy_recovery.index = finland_energy_recovery['TIME_PERIOD']\u001B[39;00m\n",
      "Cell \u001B[1;32mIn[23], line 31\u001B[0m, in \u001B[0;36mprocess_electricity_consumption_df\u001B[1;34m(country_code, df)\u001B[0m\n\u001B[0;32m     29\u001B[0m \u001B[38;5;66;03m#list of dictionaries of years, each item contains year, hh and nh consumption\u001B[39;00m\n\u001B[0;32m     30\u001B[0m annual_data \u001B[38;5;241m=\u001B[39m [annual_data[key] \u001B[38;5;28;01mfor\u001B[39;00m key \u001B[38;5;129;01min\u001B[39;00m annual_data]\n\u001B[1;32m---> 31\u001B[0m \u001B[38;5;28;01mreturn\u001B[39;00m \u001B[43mpd\u001B[49m\u001B[38;5;241m.\u001B[39mDataFrame(annual_data)\n",
      "File \u001B[1;32m_pydevd_bundle\\\\pydevd_cython_win32_311_64.pyx:1187\u001B[0m, in \u001B[0;36m_pydevd_bundle.pydevd_cython_win32_311_64.SafeCallWrapper.__call__\u001B[1;34m()\u001B[0m\n",
      "File \u001B[1;32m_pydevd_bundle\\\\pydevd_cython_win32_311_64.pyx:627\u001B[0m, in \u001B[0;36m_pydevd_bundle.pydevd_cython_win32_311_64.PyDBFrame.trace_dispatch\u001B[1;34m()\u001B[0m\n",
      "File \u001B[1;32m_pydevd_bundle\\\\pydevd_cython_win32_311_64.pyx:937\u001B[0m, in \u001B[0;36m_pydevd_bundle.pydevd_cython_win32_311_64.PyDBFrame.trace_dispatch\u001B[1;34m()\u001B[0m\n",
      "File \u001B[1;32m_pydevd_bundle\\\\pydevd_cython_win32_311_64.pyx:928\u001B[0m, in \u001B[0;36m_pydevd_bundle.pydevd_cython_win32_311_64.PyDBFrame.trace_dispatch\u001B[1;34m()\u001B[0m\n",
      "File \u001B[1;32m_pydevd_bundle\\\\pydevd_cython_win32_311_64.pyx:585\u001B[0m, in \u001B[0;36m_pydevd_bundle.pydevd_cython_win32_311_64.PyDBFrame.do_wait_suspend\u001B[1;34m()\u001B[0m\n",
      "File \u001B[1;32mC:\\Program Files\\JetBrains\\PyCharm 2024.1\\plugins\\python\\helpers\\pydev\\pydevd.py:1185\u001B[0m, in \u001B[0;36mPyDB.do_wait_suspend\u001B[1;34m(self, thread, frame, event, arg, send_suspend_message, is_unhandled_exception)\u001B[0m\n\u001B[0;32m   1182\u001B[0m         from_this_thread\u001B[38;5;241m.\u001B[39mappend(frame_id)\n\u001B[0;32m   1184\u001B[0m \u001B[38;5;28;01mwith\u001B[39;00m \u001B[38;5;28mself\u001B[39m\u001B[38;5;241m.\u001B[39m_threads_suspended_single_notification\u001B[38;5;241m.\u001B[39mnotify_thread_suspended(thread_id, stop_reason):\n\u001B[1;32m-> 1185\u001B[0m     \u001B[38;5;28;43mself\u001B[39;49m\u001B[38;5;241;43m.\u001B[39;49m\u001B[43m_do_wait_suspend\u001B[49m\u001B[43m(\u001B[49m\u001B[43mthread\u001B[49m\u001B[43m,\u001B[49m\u001B[43m \u001B[49m\u001B[43mframe\u001B[49m\u001B[43m,\u001B[49m\u001B[43m \u001B[49m\u001B[43mevent\u001B[49m\u001B[43m,\u001B[49m\u001B[43m \u001B[49m\u001B[43marg\u001B[49m\u001B[43m,\u001B[49m\u001B[43m \u001B[49m\u001B[43msuspend_type\u001B[49m\u001B[43m,\u001B[49m\u001B[43m \u001B[49m\u001B[43mfrom_this_thread\u001B[49m\u001B[43m)\u001B[49m\n",
      "File \u001B[1;32mC:\\Program Files\\JetBrains\\PyCharm 2024.1\\plugins\\python\\helpers\\pydev\\pydevd.py:1200\u001B[0m, in \u001B[0;36mPyDB._do_wait_suspend\u001B[1;34m(self, thread, frame, event, arg, suspend_type, from_this_thread)\u001B[0m\n\u001B[0;32m   1197\u001B[0m             \u001B[38;5;28mself\u001B[39m\u001B[38;5;241m.\u001B[39m_call_mpl_hook()\n\u001B[0;32m   1199\u001B[0m         \u001B[38;5;28mself\u001B[39m\u001B[38;5;241m.\u001B[39mprocess_internal_commands()\n\u001B[1;32m-> 1200\u001B[0m         time\u001B[38;5;241m.\u001B[39msleep(\u001B[38;5;241m0.01\u001B[39m)\n\u001B[0;32m   1202\u001B[0m \u001B[38;5;28mself\u001B[39m\u001B[38;5;241m.\u001B[39mcancel_async_evaluation(get_current_thread_id(thread), \u001B[38;5;28mstr\u001B[39m(\u001B[38;5;28mid\u001B[39m(frame)))\n\u001B[0;32m   1204\u001B[0m \u001B[38;5;66;03m# process any stepping instructions\u001B[39;00m\n",
      "\u001B[1;31mKeyboardInterrupt\u001B[0m: "
     ]
    }
   ],
   "execution_count": 23
  },
  {
   "metadata": {},
   "cell_type": "code",
   "source": [
    "#calculating GGDP with current data\n",
    "#Calculating GGDP using base formula\n",
    "\n",
    "#emission cost\n",
    "#carbon tax is us$/ton of CO2\n",
    "finland_ggdp['co2_emission_cost'] = finland_data['finland_co2_kt'] * 1000 * finland_data['finland_carbon_tax']\n",
    "\n",
    "#waste cost\n",
    "#need to add electricity price\n",
    "finland_ggdp['waste_cost'] = finland_data['net_waste'] * 74 * finland_data['electricity_price']\n",
    "\n",
    "\n",
    "#natural resource depletion\n",
    "#finland_ggdp['nrd_cost'] = finland_data['finland_gni_ppp'] * (finland_data['as_nrd_gni']/100)\n",
    "\n",
    "\n",
    "#finland_data.head()\n",
    "# finland_ggdp['Finland','env_cost'] = 123 \n",
    "# finland_ggdp['Finland', 'depletion_cost'] = 123\n",
    "# finland_ggdp['Finland'] = finland_data['GDP'] - finland_data['env_cost'] - finland_data['']\n",
    "# \n",
    "# \n",
    "# \n",
    "# finland_data.head()\n",
    "# \n",
    "# #carbon_pricing_data.rename(columns = lambda x: str.lower(x.replace(' ', '_')), inplace=True)\n",
    "# #dropping all metadata rows\n",
    "# #carbon_pricing_data = carbon_pricing_data.iloc[7:]\n",
    "# #carbon_pricing_data = carbon_pricing_data.apply(pd.to_numeric)\n",
    "# \n",
    "# #eu_ets = carbon_pricing_data['eu_ets']\n",
    "# #finland_carbon_tax = carbon_pricing_data['finland_carbon_tax']\n",
    "# #Finland has two types of carbon tax: Transport fuels, heating fuels which are the same across the whole series\n",
    "# #finland_carbon_tax = finland_carbon_tax.iloc[:,0]\n"
   ],
   "id": "58323f83d2f5d694",
   "outputs": [],
   "execution_count": null
  },
  {
   "metadata": {},
   "cell_type": "code",
   "outputs": [],
   "execution_count": null,
   "source": "",
   "id": "dc612f7c6e8636e0"
  }
 ],
 "metadata": {
  "kernelspec": {
   "display_name": "Python 3 (ipykernel)",
   "language": "python",
   "name": "python3"
  },
  "language_info": {
   "codemirror_mode": {
    "name": "ipython",
    "version": 3
   },
   "file_extension": ".py",
   "mimetype": "text/x-python",
   "name": "python",
   "nbconvert_exporter": "python",
   "pygments_lexer": "ipython3",
   "version": "3.11.9"
  }
 },
 "nbformat": 4,
 "nbformat_minor": 5
}
