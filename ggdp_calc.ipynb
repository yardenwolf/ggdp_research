{
 "cells": [
  {
   "cell_type": "markdown",
   "id": "4b2ecf10-f97d-4a0c-b2fe-6c085abd7f1e",
   "metadata": {
    "collapsed": true,
    "jupyter": {
     "outputs_hidden": true
    }
   },
   "source": [
    "## Choosing EU ETS vs Carbon TAX\n",
    "EU ETS start only at 2005 and Carbon Tax depends on countries that have already implemented it but could go as early as 1990."
   ]
  },
  {
   "cell_type": "code",
   "id": "ae51894a-42ab-4233-a1bb-6836ddb33776",
   "metadata": {
    "ExecuteTime": {
     "end_time": "2024-05-10T09:59:18.807976Z",
     "start_time": "2024-05-10T09:59:14.336483Z"
    }
   },
   "source": [
    "import pandas as pd\n",
    "import statsmodels.api as sm\n",
    "\n",
    "carbon_pricing_data = pd.read_excel('./ggdp_data/world_bank_carbon_pricing.xlsx', header=1,\n",
    "                                    sheet_name='Compliance_Price', na_values='-')\n",
    "carbon_pricing_data = carbon_pricing_data.set_index('Name of the initiative').T\n",
    "carbon_pricing_data.rename(columns=lambda x: str.lower(x.replace(' ', '_')), inplace=True)\n",
    "#dropping all metadata rows\n",
    "carbon_pricing_data = carbon_pricing_data.iloc[7:]\n",
    "carbon_pricing_data = carbon_pricing_data.apply(pd.to_numeric)\n",
    "carbon_pricing_data.index = [str(x) for x in carbon_pricing_data.index]\n",
    "\n",
    "eu_ets = carbon_pricing_data['eu_ets']\n",
    "finland_carbon_tax = carbon_pricing_data['finland_carbon_tax']\n",
    "#Finland has two types of carbon tax: Transport fuels, heating fuels which are the same across the whole series\n",
    "finland_carbon_tax = finland_carbon_tax.iloc[:, 0]"
   ],
   "outputs": [],
   "execution_count": 1
  },
  {
   "cell_type": "code",
   "id": "e90c3210765b3663",
   "metadata": {
    "ExecuteTime": {
     "end_time": "2024-05-10T09:59:18.861641Z",
     "start_time": "2024-05-10T09:59:18.809989Z"
    }
   },
   "source": [
    "#checking to see if EU ETS can proxy for carbon tax or the other way round. Does any one of them hold and additional information?\n",
    "ets_joined_carbon_tax = pd.DataFrame(eu_ets).join(finland_carbon_tax)\n",
    "ets_joined_carbon_tax = ets_joined_carbon_tax.dropna()\n",
    "ets_joined_carbon_tax.head()\n",
    "\n",
    "model = sm.OLS.from_formula('eu_ets ~ finland_carbon_tax', data=ets_joined_carbon_tax)\n",
    "results = model.fit()\n",
    "results.summary()\n"
   ],
   "outputs": [
    {
     "name": "stderr",
     "output_type": "stream",
     "text": [
      "C:\\Users\\yarde\\anaconda3\\envs\\ggdp-research\\Lib\\site-packages\\scipy\\stats\\_axis_nan_policy.py:531: UserWarning: kurtosistest only valid for n>=20 ... continuing anyway, n=19\n",
      "  res = hypotest_fun_out(*samples, **kwds)\n"
     ]
    },
    {
     "data": {
      "text/plain": [
       "<class 'statsmodels.iolib.summary.Summary'>\n",
       "\"\"\"\n",
       "                            OLS Regression Results                            \n",
       "==============================================================================\n",
       "Dep. Variable:                 eu_ets   R-squared:                       0.165\n",
       "Model:                            OLS   Adj. R-squared:                  0.116\n",
       "Method:                 Least Squares   F-statistic:                     3.365\n",
       "Date:                Fri, 10 May 2024   Prob (F-statistic):             0.0842\n",
       "Time:                        10:59:18   Log-Likelihood:                -86.898\n",
       "No. Observations:                  19   AIC:                             177.8\n",
       "Df Residuals:                      17   BIC:                             179.7\n",
       "Df Model:                           1                                         \n",
       "Covariance Type:            nonrobust                                         \n",
       "======================================================================================\n",
       "                         coef    std err          t      P>|t|      [0.025      0.975]\n",
       "--------------------------------------------------------------------------------------\n",
       "Intercept              7.4432     11.154      0.667      0.514     -16.090      30.976\n",
       "finland_carbon_tax     0.3522      0.192      1.834      0.084      -0.053       0.757\n",
       "==============================================================================\n",
       "Omnibus:                        6.489   Durbin-Watson:                   0.533\n",
       "Prob(Omnibus):                  0.039   Jarque-Bera (JB):                4.314\n",
       "Skew:                           1.139   Prob(JB):                        0.116\n",
       "Kurtosis:                       3.508   Cond. No.                         114.\n",
       "==============================================================================\n",
       "\n",
       "Notes:\n",
       "[1] Standard Errors assume that the covariance matrix of the errors is correctly specified.\n",
       "\"\"\""
      ],
      "text/html": [
       "<table class=\"simpletable\">\n",
       "<caption>OLS Regression Results</caption>\n",
       "<tr>\n",
       "  <th>Dep. Variable:</th>         <td>eu_ets</td>      <th>  R-squared:         </th> <td>   0.165</td>\n",
       "</tr>\n",
       "<tr>\n",
       "  <th>Model:</th>                   <td>OLS</td>       <th>  Adj. R-squared:    </th> <td>   0.116</td>\n",
       "</tr>\n",
       "<tr>\n",
       "  <th>Method:</th>             <td>Least Squares</td>  <th>  F-statistic:       </th> <td>   3.365</td>\n",
       "</tr>\n",
       "<tr>\n",
       "  <th>Date:</th>             <td>Fri, 10 May 2024</td> <th>  Prob (F-statistic):</th>  <td>0.0842</td> \n",
       "</tr>\n",
       "<tr>\n",
       "  <th>Time:</th>                 <td>10:59:18</td>     <th>  Log-Likelihood:    </th> <td> -86.898</td>\n",
       "</tr>\n",
       "<tr>\n",
       "  <th>No. Observations:</th>      <td>    19</td>      <th>  AIC:               </th> <td>   177.8</td>\n",
       "</tr>\n",
       "<tr>\n",
       "  <th>Df Residuals:</th>          <td>    17</td>      <th>  BIC:               </th> <td>   179.7</td>\n",
       "</tr>\n",
       "<tr>\n",
       "  <th>Df Model:</th>              <td>     1</td>      <th>                     </th>     <td> </td>   \n",
       "</tr>\n",
       "<tr>\n",
       "  <th>Covariance Type:</th>      <td>nonrobust</td>    <th>                     </th>     <td> </td>   \n",
       "</tr>\n",
       "</table>\n",
       "<table class=\"simpletable\">\n",
       "<tr>\n",
       "           <td></td>             <th>coef</th>     <th>std err</th>      <th>t</th>      <th>P>|t|</th>  <th>[0.025</th>    <th>0.975]</th>  \n",
       "</tr>\n",
       "<tr>\n",
       "  <th>Intercept</th>          <td>    7.4432</td> <td>   11.154</td> <td>    0.667</td> <td> 0.514</td> <td>  -16.090</td> <td>   30.976</td>\n",
       "</tr>\n",
       "<tr>\n",
       "  <th>finland_carbon_tax</th> <td>    0.3522</td> <td>    0.192</td> <td>    1.834</td> <td> 0.084</td> <td>   -0.053</td> <td>    0.757</td>\n",
       "</tr>\n",
       "</table>\n",
       "<table class=\"simpletable\">\n",
       "<tr>\n",
       "  <th>Omnibus:</th>       <td> 6.489</td> <th>  Durbin-Watson:     </th> <td>   0.533</td>\n",
       "</tr>\n",
       "<tr>\n",
       "  <th>Prob(Omnibus):</th> <td> 0.039</td> <th>  Jarque-Bera (JB):  </th> <td>   4.314</td>\n",
       "</tr>\n",
       "<tr>\n",
       "  <th>Skew:</th>          <td> 1.139</td> <th>  Prob(JB):          </th> <td>   0.116</td>\n",
       "</tr>\n",
       "<tr>\n",
       "  <th>Kurtosis:</th>      <td> 3.508</td> <th>  Cond. No.          </th> <td>    114.</td>\n",
       "</tr>\n",
       "</table><br/><br/>Notes:<br/>[1] Standard Errors assume that the covariance matrix of the errors is correctly specified."
      ],
      "text/latex": "\\begin{center}\n\\begin{tabular}{lclc}\n\\toprule\n\\textbf{Dep. Variable:}       &     eu\\_ets      & \\textbf{  R-squared:         } &     0.165   \\\\\n\\textbf{Model:}               &       OLS        & \\textbf{  Adj. R-squared:    } &     0.116   \\\\\n\\textbf{Method:}              &  Least Squares   & \\textbf{  F-statistic:       } &     3.365   \\\\\n\\textbf{Date:}                & Fri, 10 May 2024 & \\textbf{  Prob (F-statistic):} &   0.0842    \\\\\n\\textbf{Time:}                &     10:59:18     & \\textbf{  Log-Likelihood:    } &   -86.898   \\\\\n\\textbf{No. Observations:}    &          19      & \\textbf{  AIC:               } &     177.8   \\\\\n\\textbf{Df Residuals:}        &          17      & \\textbf{  BIC:               } &     179.7   \\\\\n\\textbf{Df Model:}            &           1      & \\textbf{                     } &             \\\\\n\\textbf{Covariance Type:}     &    nonrobust     & \\textbf{                     } &             \\\\\n\\bottomrule\n\\end{tabular}\n\\begin{tabular}{lcccccc}\n                              & \\textbf{coef} & \\textbf{std err} & \\textbf{t} & \\textbf{P$> |$t$|$} & \\textbf{[0.025} & \\textbf{0.975]}  \\\\\n\\midrule\n\\textbf{Intercept}            &       7.4432  &       11.154     &     0.667  &         0.514        &      -16.090    &       30.976     \\\\\n\\textbf{finland\\_carbon\\_tax} &       0.3522  &        0.192     &     1.834  &         0.084        &       -0.053    &        0.757     \\\\\n\\bottomrule\n\\end{tabular}\n\\begin{tabular}{lclc}\n\\textbf{Omnibus:}       &  6.489 & \\textbf{  Durbin-Watson:     } &    0.533  \\\\\n\\textbf{Prob(Omnibus):} &  0.039 & \\textbf{  Jarque-Bera (JB):  } &    4.314  \\\\\n\\textbf{Skew:}          &  1.139 & \\textbf{  Prob(JB):          } &    0.116  \\\\\n\\textbf{Kurtosis:}      &  3.508 & \\textbf{  Cond. No.          } &     114.  \\\\\n\\bottomrule\n\\end{tabular}\n%\\caption{OLS Regression Results}\n\\end{center}\n\nNotes: \\newline\n [1] Standard Errors assume that the covariance matrix of the errors is correctly specified."
     },
     "execution_count": 2,
     "metadata": {},
     "output_type": "execute_result"
    }
   ],
   "execution_count": 2
  },
  {
   "metadata": {},
   "cell_type": "markdown",
   "source": [
    "### Analysing Results\n",
    "I was looking to see if ets and carbon tax are very correlated, if they are then I could probably assume that one of them proxies for the other. We can see that linear relationship between the variables is insignificant. Meaning that they don't proxy linearly for each other. Thus I should probably use one of them or a combination of both when calculating the GGDP results."
   ],
   "id": "c7ac4689c0d77af7"
  },
  {
   "metadata": {},
   "cell_type": "markdown",
   "source": [
    "## Calculating GGDP\n",
    "The base formula which I'm going to use is this: $ GGDP = GDP - KtCO_{2} \\cdot P_{tCO_2} - Twaste \\cdot 74 kWh \\cdot P_{1 kWh elec} - GNI \\cdot \\% NRD/100 $\n",
    "\n",
    "First term - air pollution\n",
    "Second Term - waste pollution translated into electricity cost\n",
    "Third Term - Natural resource depletion\n",
    "\n",
    "The 74 figure is based on different papers: check this\n",
    "\n",
    "Managed to find all the data for this: arises the question of what data to include and how.\n",
    "\n",
    "The problems with this base formula are:\n",
    "1. doesn't account for defensive costs - the cost of restoring and protecting the environment. Need to find figures for this.\n",
    "2. the figure 74 isn't really based on anything concrete (the citing is quite unclear)\n",
    "3. no accounting for green innovation - not even sure if I want to add this, but perhaps I should\n",
    "\n",
    "The main problem with actually deriving GGDP is data availability and lack of accounting standard that can be implemented using available data.\n"
   ],
   "id": "b4b94bfc93ce9875"
  },
  {
   "metadata": {
    "ExecuteTime": {
     "end_time": "2024-05-10T09:59:18.868089Z",
     "start_time": "2024-05-10T09:59:18.862653Z"
    }
   },
   "cell_type": "code",
   "source": "\n",
   "id": "2bbb4c9b22f16cbe",
   "outputs": [],
   "execution_count": 2
  },
  {
   "metadata": {
    "ExecuteTime": {
     "end_time": "2024-05-10T09:59:19.205294Z",
     "start_time": "2024-05-10T09:59:18.871Z"
    }
   },
   "cell_type": "code",
   "source": [
    "#Loading Data for ggdp\n",
    "finland_ggdp = pd.DataFrame()\n",
    "\n",
    "wdi_data = pd.read_excel('./ggdp_data/P_Data_Extract_From_World_Development_Indicators.xlsx', header=0,\n",
    "                         sheet_name='Data', na_values='..')\n",
    "wdi_data = wdi_data.set_index('Country Name').T\n",
    "wdi_data = wdi_data.drop(['Series Code'])\n",
    "wdi_data = wdi_data.rename({\"Series Name\": \"variable_name\"})\n",
    "wdi_data = wdi_data.rename(index=lambda x: x[:y] if (y := x.find(' ')) != -1 else x)\n",
    "wdi_data = wdi_data.dropna(axis='columns', how='all')\n",
    "\n",
    "\n",
    "def replace_values_from_dict(curr_value, value_dict: dict):\n",
    "    try:\n",
    "        return value_dict[curr_value]\n",
    "    except KeyError:\n",
    "        return curr_value\n",
    "\n",
    "\n",
    "wdi_variables_to_replace = {'GNI, PPP (current international $)': 'gni_ppp',\n",
    "                            'Adjusted savings: carbon dioxide damage (% of GNI)': 'as_co2_damage_gni',\n",
    "                            'Adjusted savings: natural resources depletion (% of GNI)': 'as_nrd_gni',\n",
    "                            'Adjusted savings: particulate emission damage (% of GNI)': 'as_ped_gbi',\n",
    "                            'GNI (current US$)': 'gni_dollar',\n",
    "                            'CO2 emissions (kt)': 'co2_kt',\n",
    "                            'Total greenhouse gas emissions (kt of CO2 equivalent)': 'total_gge_kt',\n",
    "                            'GDP, PPP (current international $)': 'gdp_ppp',\n",
    "                            'GDP (current US$)': 'gdp_dollar'}\n",
    "\n",
    "#def lower_only_letters(curr_str:str):\n",
    "\n",
    "\n",
    "#renaming variables\n",
    "wdi_data.loc['variable_name'] = (wdi_data.loc['variable_name']).apply(replace_values_from_dict,\n",
    "                                                                      args=(wdi_variables_to_replace,))\n",
    "\n",
    "\n",
    "def change_col_names_to_country(df: pd.DataFrame):\n",
    "    column_name_list = []\n",
    "    curr_col_name: str\n",
    "    for curr_col_name, curr_series in df.items():\n",
    "        #'country-name'_'variable-name'\n",
    "        new_column_name = f'{curr_col_name.lower()}_{curr_series[\"variable_name\"]}'\n",
    "        column_name_list.append(new_column_name)\n",
    "    df.columns = column_name_list\n",
    "\n",
    "\n",
    "#combine all finland data into one dataframe to avoid problems with dates\n",
    "finland_data = wdi_data['Finland']\n",
    "change_col_names_to_country(finland_data)\n",
    "finland_data = finland_data.drop(index=['Country', 'variable_name'])\n",
    "finland_data = finland_data.join(finland_carbon_tax, how='left')\n",
    "\n",
    "finland_data = finland_data.apply(pd.to_numeric)"
   ],
   "id": "d00e464f5c09c8d",
   "outputs": [],
   "execution_count": 3
  },
  {
   "metadata": {},
   "cell_type": "markdown",
   "source": [
    "There's a problem with calculating waste because not enough waste data is available in order to constrcut the waste cost term. So there's a need to do imputation.\n",
    "I thought it would make sense to do the imputation by regressing waste on gdp, since as the country has more economic output the more waste it's going to have.\n",
    "We can see that when we run the regression we get a very high R-squared and that the model seems to be $Net Waste = 0.0005 * GDP[PPP] $, the slope coefficient is significant. We can use this result to fill in the missing values all the way to 1990."
   ],
   "id": "3b1b78fa67fede04"
  },
  {
   "metadata": {
    "ExecuteTime": {
     "end_time": "2024-05-10T09:59:19.261574Z",
     "start_time": "2024-05-10T09:59:19.206299Z"
    }
   },
   "cell_type": "code",
   "source": [
    "#Waste calculation\n",
    "# Waste generation data preparation and projections\n",
    "waste_gen_data = pd.read_csv('./ggdp_data/eurostat_generation_of_waste_by_category.csv')\n",
    "waste_treatment_data = pd.read_csv('./ggdp_data/eurostat_waste_treatment_by_waste_category.csv')\n",
    "\n",
    "#getting Finland's total waste generation\n",
    "finland_gen_total = waste_gen_data[(waste_gen_data['geo'] == 'FI') & (waste_gen_data['waste'] == 'TOTAL')]\n",
    "finland_gen_total.index = finland_gen_total['TIME_PERIOD']\n",
    "#getting Finland's total energy recovery from waste, since we are pricing waste through energy prices.\n",
    "finland_energy_recovery = waste_treatment_data[\n",
    "    (waste_treatment_data['geo'] == 'FI') & (waste_treatment_data['wst_oper'] == 'RCV_E')]\n",
    "finland_energy_recovery.index = finland_energy_recovery['TIME_PERIOD']\n",
    "\n",
    "net_waste_data = pd.DataFrame()\n",
    "#calculating net waste: net_waste = generated_waste - energy_recovered_from_waste\n",
    "net_waste_data['finland_net_waste'] = finland_gen_total['OBS_VALUE'] - finland_energy_recovery['OBS_VALUE']\n",
    "\n",
    "net_waste_data.index = [str(x) for x in net_waste_data.index]\n",
    "\n",
    "#is GDP correlated with waste\n",
    "\n",
    "gdp_waste_data = net_waste_data.join(finland_data['finland_gdp_ppp'])\n",
    "\n",
    "model = sm.OLS.from_formula('finland_net_waste ~ finland_gdp_ppp', data=gdp_waste_data)\n",
    "results = model.fit()\n",
    "results.summary()"
   ],
   "id": "87fc7edb5736cf55",
   "outputs": [
    {
     "name": "stderr",
     "output_type": "stream",
     "text": [
      "C:\\Users\\yarde\\anaconda3\\envs\\ggdp-research\\Lib\\site-packages\\scipy\\stats\\_axis_nan_policy.py:531: UserWarning: kurtosistest only valid for n>=20 ... continuing anyway, n=9\n",
      "  res = hypotest_fun_out(*samples, **kwds)\n"
     ]
    },
    {
     "data": {
      "text/plain": [
       "<class 'statsmodels.iolib.summary.Summary'>\n",
       "\"\"\"\n",
       "                            OLS Regression Results                            \n",
       "==============================================================================\n",
       "Dep. Variable:      finland_net_waste   R-squared:                       0.774\n",
       "Model:                            OLS   Adj. R-squared:                  0.742\n",
       "Method:                 Least Squares   F-statistic:                     23.97\n",
       "Date:                Fri, 10 May 2024   Prob (F-statistic):            0.00176\n",
       "Time:                        10:59:19   Log-Likelihood:                -158.04\n",
       "No. Observations:                   9   AIC:                             320.1\n",
       "Df Residuals:                       7   BIC:                             320.5\n",
       "Df Model:                           1                                         \n",
       "Covariance Type:            nonrobust                                         \n",
       "===================================================================================\n",
       "                      coef    std err          t      P>|t|      [0.025      0.975]\n",
       "-----------------------------------------------------------------------------------\n",
       "Intercept       -1.773e+07   2.24e+07     -0.792      0.454   -7.07e+07    3.52e+07\n",
       "finland_gdp_ppp     0.0005   9.76e-05      4.896      0.002       0.000       0.001\n",
       "==============================================================================\n",
       "Omnibus:                        0.956   Durbin-Watson:                   2.067\n",
       "Prob(Omnibus):                  0.620   Jarque-Bera (JB):                0.645\n",
       "Skew:                           0.244   Prob(JB):                        0.724\n",
       "Kurtosis:                       1.783   Cond. No.                     1.33e+12\n",
       "==============================================================================\n",
       "\n",
       "Notes:\n",
       "[1] Standard Errors assume that the covariance matrix of the errors is correctly specified.\n",
       "[2] The condition number is large, 1.33e+12. This might indicate that there are\n",
       "strong multicollinearity or other numerical problems.\n",
       "\"\"\""
      ],
      "text/html": [
       "<table class=\"simpletable\">\n",
       "<caption>OLS Regression Results</caption>\n",
       "<tr>\n",
       "  <th>Dep. Variable:</th>    <td>finland_net_waste</td> <th>  R-squared:         </th> <td>   0.774</td>\n",
       "</tr>\n",
       "<tr>\n",
       "  <th>Model:</th>                   <td>OLS</td>        <th>  Adj. R-squared:    </th> <td>   0.742</td>\n",
       "</tr>\n",
       "<tr>\n",
       "  <th>Method:</th>             <td>Least Squares</td>   <th>  F-statistic:       </th> <td>   23.97</td>\n",
       "</tr>\n",
       "<tr>\n",
       "  <th>Date:</th>             <td>Fri, 10 May 2024</td>  <th>  Prob (F-statistic):</th>  <td>0.00176</td>\n",
       "</tr>\n",
       "<tr>\n",
       "  <th>Time:</th>                 <td>10:59:19</td>      <th>  Log-Likelihood:    </th> <td> -158.04</td>\n",
       "</tr>\n",
       "<tr>\n",
       "  <th>No. Observations:</th>      <td>     9</td>       <th>  AIC:               </th> <td>   320.1</td>\n",
       "</tr>\n",
       "<tr>\n",
       "  <th>Df Residuals:</th>          <td>     7</td>       <th>  BIC:               </th> <td>   320.5</td>\n",
       "</tr>\n",
       "<tr>\n",
       "  <th>Df Model:</th>              <td>     1</td>       <th>                     </th>     <td> </td>   \n",
       "</tr>\n",
       "<tr>\n",
       "  <th>Covariance Type:</th>      <td>nonrobust</td>     <th>                     </th>     <td> </td>   \n",
       "</tr>\n",
       "</table>\n",
       "<table class=\"simpletable\">\n",
       "<tr>\n",
       "         <td></td>            <th>coef</th>     <th>std err</th>      <th>t</th>      <th>P>|t|</th>  <th>[0.025</th>    <th>0.975]</th>  \n",
       "</tr>\n",
       "<tr>\n",
       "  <th>Intercept</th>       <td>-1.773e+07</td> <td> 2.24e+07</td> <td>   -0.792</td> <td> 0.454</td> <td>-7.07e+07</td> <td> 3.52e+07</td>\n",
       "</tr>\n",
       "<tr>\n",
       "  <th>finland_gdp_ppp</th> <td>    0.0005</td> <td> 9.76e-05</td> <td>    4.896</td> <td> 0.002</td> <td>    0.000</td> <td>    0.001</td>\n",
       "</tr>\n",
       "</table>\n",
       "<table class=\"simpletable\">\n",
       "<tr>\n",
       "  <th>Omnibus:</th>       <td> 0.956</td> <th>  Durbin-Watson:     </th> <td>   2.067</td>\n",
       "</tr>\n",
       "<tr>\n",
       "  <th>Prob(Omnibus):</th> <td> 0.620</td> <th>  Jarque-Bera (JB):  </th> <td>   0.645</td>\n",
       "</tr>\n",
       "<tr>\n",
       "  <th>Skew:</th>          <td> 0.244</td> <th>  Prob(JB):          </th> <td>   0.724</td>\n",
       "</tr>\n",
       "<tr>\n",
       "  <th>Kurtosis:</th>      <td> 1.783</td> <th>  Cond. No.          </th> <td>1.33e+12</td>\n",
       "</tr>\n",
       "</table><br/><br/>Notes:<br/>[1] Standard Errors assume that the covariance matrix of the errors is correctly specified.<br/>[2] The condition number is large, 1.33e+12. This might indicate that there are<br/>strong multicollinearity or other numerical problems."
      ],
      "text/latex": "\\begin{center}\n\\begin{tabular}{lclc}\n\\toprule\n\\textbf{Dep. Variable:}    & finland\\_net\\_waste & \\textbf{  R-squared:         } &     0.774   \\\\\n\\textbf{Model:}            &         OLS         & \\textbf{  Adj. R-squared:    } &     0.742   \\\\\n\\textbf{Method:}           &    Least Squares    & \\textbf{  F-statistic:       } &     23.97   \\\\\n\\textbf{Date:}             &   Fri, 10 May 2024  & \\textbf{  Prob (F-statistic):} &  0.00176    \\\\\n\\textbf{Time:}             &       10:59:19      & \\textbf{  Log-Likelihood:    } &   -158.04   \\\\\n\\textbf{No. Observations:} &             9       & \\textbf{  AIC:               } &     320.1   \\\\\n\\textbf{Df Residuals:}     &             7       & \\textbf{  BIC:               } &     320.5   \\\\\n\\textbf{Df Model:}         &             1       & \\textbf{                     } &             \\\\\n\\textbf{Covariance Type:}  &      nonrobust      & \\textbf{                     } &             \\\\\n\\bottomrule\n\\end{tabular}\n\\begin{tabular}{lcccccc}\n                           & \\textbf{coef} & \\textbf{std err} & \\textbf{t} & \\textbf{P$> |$t$|$} & \\textbf{[0.025} & \\textbf{0.975]}  \\\\\n\\midrule\n\\textbf{Intercept}         &   -1.773e+07  &     2.24e+07     &    -0.792  &         0.454        &    -7.07e+07    &     3.52e+07     \\\\\n\\textbf{finland\\_gdp\\_ppp} &       0.0005  &     9.76e-05     &     4.896  &         0.002        &        0.000    &        0.001     \\\\\n\\bottomrule\n\\end{tabular}\n\\begin{tabular}{lclc}\n\\textbf{Omnibus:}       &  0.956 & \\textbf{  Durbin-Watson:     } &    2.067  \\\\\n\\textbf{Prob(Omnibus):} &  0.620 & \\textbf{  Jarque-Bera (JB):  } &    0.645  \\\\\n\\textbf{Skew:}          &  0.244 & \\textbf{  Prob(JB):          } &    0.724  \\\\\n\\textbf{Kurtosis:}      &  1.783 & \\textbf{  Cond. No.          } & 1.33e+12  \\\\\n\\bottomrule\n\\end{tabular}\n%\\caption{OLS Regression Results}\n\\end{center}\n\nNotes: \\newline\n [1] Standard Errors assume that the covariance matrix of the errors is correctly specified. \\newline\n [2] The condition number is large, 1.33e+12. This might indicate that there are \\newline\n strong multicollinearity or other numerical problems."
     },
     "execution_count": 4,
     "metadata": {},
     "output_type": "execute_result"
    }
   ],
   "execution_count": 4
  },
  {
   "metadata": {
    "ExecuteTime": {
     "end_time": "2024-05-10T09:59:19.270181Z",
     "start_time": "2024-05-10T09:59:19.263587Z"
    }
   },
   "cell_type": "code",
   "source": [
    "#adding the model from the regression to the data\n",
    "finland_data['net_waste'] = finland_data['finland_gdp_ppp'] * results.params['finland_gdp_ppp']"
   ],
   "id": "2fe84ca93d249baf",
   "outputs": [],
   "execution_count": 5
  },
  {
   "metadata": {},
   "cell_type": "markdown",
   "source": [
    "### Electricity Price\n",
    "We use electricity price to be able to price solid waste. The problem is electricity price is tiered so the calculation has to be done accordingly. What I plan on doing is taking the fractional part of the total waste converted to electricity respective to house-hold use and industrial use in Finland and then look at each one of them as if it were a single consumer. This is an obvious over-simplification but otherwise there is no way of calculating it because of a lack of data."
   ],
   "id": "cdbb6ac9f96350db"
  },
  {
   "metadata": {
    "ExecuteTime": {
     "end_time": "2024-05-10T09:59:27.444261Z",
     "start_time": "2024-05-10T09:59:27.125274Z"
    }
   },
   "cell_type": "code",
   "source": [
    "from math import inf\n",
    "\n",
    "#code to consumption tier. consumption tier in kWh\n",
    "tax_tier_map_pre_2007_hh = {'4161050': 600, '4161100': 1200, '4161150': 3500, '4161200': 7500, '4161250': 20000}\n",
    "tax_tier_map_post_2007_hh = {'KWH_LT1000': 1000, 'KWH1000-2499': 2500, 'KWH2500-4999': 5000, 'KWH5000-14999': 15000,\n",
    "                             'KWH_GE15000': inf}\n",
    "\n",
    "tax_tier_map_post_2007_nh = {'MWH_LT20': 20000, 'MWH20-499': 500000, 'MWH500-1999': 2000000, 'MWH2000-19999': 20000000,\n",
    "                             'MWH20000-69999': 70000000, 'MWH70000-149999': 150000000, 'MWH_GE150000': inf}\n",
    "\n",
    "tax_tier_map_pre_2007_nh = {'4162050': 30000, '4162100': 50000, '4162150': 160000, '4162200': 1250000,\n",
    "                            '4162250': 2000000, '4162300': 10000000, '4162350': 24000000, '4162400': 50000000,\n",
    "                            '4162450': 70000000}\n",
    "tax_tier_map = {**tax_tier_map_pre_2007_hh, **tax_tier_map_post_2007_hh, **tax_tier_map_post_2007_nh,\n",
    "                **tax_tier_map_pre_2007_nh}\n",
    "\n",
    "\n",
    "#Need to take care of units (industrial and household and to take care of row with value KT_TOT)\n",
    "def process_electricity_df(country_code: str, elec_df: pd.DataFrame, with_tax=True) -> pd.DataFrame:\n",
    "    tax_filter = 'I_TAX' if with_tax else 'X_TAX'\n",
    "    filtered_df: pd.DataFrame = elec_df[(elec_df['geo'] == country_code) & (elec_df['tax'] == tax_filter)]\n",
    "    filtered_df.loc[:, 'year'] = filtered_df['TIME_PERIOD'].apply(lambda x: x[:x.find('-')])\n",
    "    if 'consom' in filtered_df:\n",
    "        filtered_df = filtered_df.rename(columns={'consom': 'nrg_cons'})\n",
    "    filtered_df = filtered_df.assign(tax_tier=filtered_df.loc[:, 'nrg_cons'].apply(str))\n",
    "    filtered_df = filtered_df.drop(columns=['nrg_cons', 'OBS_FLAG', 'DATAFLOW', 'LAST UPDATE', 'freq', 'product'])\n",
    "    annual_data = filtered_df.groupby(['currency', 'tax_tier', 'year'], as_index=False)['OBS_VALUE'].mean()\n",
    "    annual_data = annual_data.rename(columns={'OBS_VALUE': 'price', 'TIME_PERIOD': 'year'})\n",
    "    tot_kwh_indices = annual_data.index[annual_data['tax_tier'] == 'TOT_KWH'].tolist()\n",
    "    annual_data = annual_data.drop(index=tot_kwh_indices)\n",
    "    return annual_data\n",
    "\n",
    "\n",
    "def process_electricity_consumption_df(country_code: str, df: pd.DataFrame) -> pd.DataFrame:\n",
    "    filtered_df: pd.DataFrame = df[(df['geo'] == country_code)]\n",
    "    filtered_df = filtered_df.drop(columns=['OBS_FLAG', 'DATAFLOW', 'LAST UPDATE', 'freq'])\n",
    "    annual_data = {}\n",
    "    for index, row in filtered_df.iterrows():\n",
    "        current_year = row['TIME_PERIOD']\n",
    "        if current_year not in annual_data:\n",
    "            annual_data[current_year] = {'year': current_year, 'hh_consumption': 0, 'nh_consumption': 0}\n",
    "        current_year_item = annual_data[current_year]\n",
    "        if row['nrg_bal'] == 'FC_OTH_HH_E':\n",
    "            current_year_item['year'] = row['TIME_PERIOD']\n",
    "            current_year_item['hh_consumption'] = row['OBS_VALUE']\n",
    "            current_year_item['nh_consumption'] -= row['OBS_VALUE']\n",
    "        elif row['nrg_bal'] == 'FC':\n",
    "            current_year_item['nh_consumption'] += row['OBS_VALUE']\n",
    "    #list of dictionaries of years, each item contains year, hh and nh consumption\n",
    "    annual_data = [annual_data[key] for key in annual_data]\n",
    "    return pd.DataFrame(annual_data)\n",
    "\n",
    "\n",
    "elec_hh_pre_2007 = pd.read_csv('./ggdp_data/eurostat_electricity/eurostat_electricity_price_hh_pre_2007.csv', header=0)\n",
    "elec_hh_pre_2007_processed = process_electricity_df(country_code='FI', elec_df=elec_hh_pre_2007)\n",
    "elec_hh_post_2007 = pd.read_csv('./ggdp_data/eurostat_electricity/eurostat_electricity_price_hh_post_2007.csv',\n",
    "                                header=0)\n",
    "elec_hh_post_2007_processed = process_electricity_df(country_code='FI', elec_df=elec_hh_post_2007)\n",
    "elec_hh = pd.concat([elec_hh_post_2007_processed, elec_hh_pre_2007_processed])\n",
    "elec_hh = elec_hh.replace({'tax_tier': tax_tier_map})\n",
    "elec_hh['tax_tier'] = pd.to_numeric(elec_hh['tax_tier'])\n",
    "elec_hh['year'] = pd.to_numeric(elec_hh['year'])\n",
    "\n",
    "elec_nh_pre_2007 = pd.read_csv('./ggdp_data/eurostat_electricity/eurostat_electricity_price_nh_pre_2007.csv')\n",
    "elec_nh_pre_2007_processed = process_electricity_df(country_code='FI', elec_df=elec_nh_pre_2007)\n",
    "elec_nh_post_2007 = pd.read_csv('./ggdp_data/eurostat_electricity/eurostat_electricity_price_nh_post_2007.csv')\n",
    "elec_nh_post_2007_processed = process_electricity_df(country_code='FI', elec_df=elec_nh_post_2007)\n",
    "elec_nh = pd.concat([elec_nh_post_2007_processed, elec_nh_pre_2007_processed])\n",
    "elec_nh = elec_nh.replace({'tax_tier': tax_tier_map})\n",
    "elec_nh['tax_tier'] = pd.to_numeric(elec_nh['tax_tier'])\n",
    "elec_nh['year'] = pd.to_numeric(elec_nh['year'])\n",
    "\n",
    "elec_consumption = pd.read_csv('./ggdp_data/eurostat_electricity/eurostat_electricity_consumption.csv', header=0)\n",
    "elec_consump_processed = process_electricity_consumption_df(country_code='FI', df=elec_consumption)\n"
   ],
   "id": "28884d3c7606cff3",
   "outputs": [
    {
     "name": "stderr",
     "output_type": "stream",
     "text": [
      "C:\\Users\\yarde\\AppData\\Local\\Temp\\ipykernel_29996\\1391882825.py:22: SettingWithCopyWarning: \n",
      "A value is trying to be set on a copy of a slice from a DataFrame.\n",
      "Try using .loc[row_indexer,col_indexer] = value instead\n",
      "\n",
      "See the caveats in the documentation: https://pandas.pydata.org/pandas-docs/stable/user_guide/indexing.html#returning-a-view-versus-a-copy\n",
      "  filtered_df.loc[:, 'year'] = filtered_df['TIME_PERIOD'].apply(lambda x: x[:x.find('-')])\n",
      "C:\\Users\\yarde\\AppData\\Local\\Temp\\ipykernel_29996\\1391882825.py:22: SettingWithCopyWarning: \n",
      "A value is trying to be set on a copy of a slice from a DataFrame.\n",
      "Try using .loc[row_indexer,col_indexer] = value instead\n",
      "\n",
      "See the caveats in the documentation: https://pandas.pydata.org/pandas-docs/stable/user_guide/indexing.html#returning-a-view-versus-a-copy\n",
      "  filtered_df.loc[:, 'year'] = filtered_df['TIME_PERIOD'].apply(lambda x: x[:x.find('-')])\n",
      "C:\\Users\\yarde\\AppData\\Local\\Temp\\ipykernel_29996\\1391882825.py:60: FutureWarning: Downcasting behavior in `replace` is deprecated and will be removed in a future version. To retain the old behavior, explicitly call `result.infer_objects(copy=False)`. To opt-in to the future behavior, set `pd.set_option('future.no_silent_downcasting', True)`\n",
      "  elec_hh = elec_hh.replace({'tax_tier': tax_tier_map})\n",
      "C:\\Users\\yarde\\AppData\\Local\\Temp\\ipykernel_29996\\1391882825.py:22: SettingWithCopyWarning: \n",
      "A value is trying to be set on a copy of a slice from a DataFrame.\n",
      "Try using .loc[row_indexer,col_indexer] = value instead\n",
      "\n",
      "See the caveats in the documentation: https://pandas.pydata.org/pandas-docs/stable/user_guide/indexing.html#returning-a-view-versus-a-copy\n",
      "  filtered_df.loc[:, 'year'] = filtered_df['TIME_PERIOD'].apply(lambda x: x[:x.find('-')])\n",
      "C:\\Users\\yarde\\AppData\\Local\\Temp\\ipykernel_29996\\1391882825.py:22: SettingWithCopyWarning: \n",
      "A value is trying to be set on a copy of a slice from a DataFrame.\n",
      "Try using .loc[row_indexer,col_indexer] = value instead\n",
      "\n",
      "See the caveats in the documentation: https://pandas.pydata.org/pandas-docs/stable/user_guide/indexing.html#returning-a-view-versus-a-copy\n",
      "  filtered_df.loc[:, 'year'] = filtered_df['TIME_PERIOD'].apply(lambda x: x[:x.find('-')])\n",
      "C:\\Users\\yarde\\AppData\\Local\\Temp\\ipykernel_29996\\1391882825.py:69: FutureWarning: Downcasting behavior in `replace` is deprecated and will be removed in a future version. To retain the old behavior, explicitly call `result.infer_objects(copy=False)`. To opt-in to the future behavior, set `pd.set_option('future.no_silent_downcasting', True)`\n",
      "  elec_nh = elec_nh.replace({'tax_tier': tax_tier_map})\n"
     ]
    }
   ],
   "execution_count": 6
  },
  {
   "metadata": {},
   "cell_type": "markdown",
   "source": "When looking at electricity prices I only decided to look at electricity prices for household and non-household consumptio because the cost for household vs non-hosehold electricty prices are different. This presents a bit of a challange in pricing electricity becasue it raises the question of which rate to use. I decided to take the relative part of household and non-household from the WTE output. For example if HH is 2/3 of the total consumption and NH is 1/3 so we will price 2/3 of WTE using HH pricess and a 1/3 of WTE using NH prices.",
   "id": "25b476328bb51792"
  },
  {
   "metadata": {
    "ExecuteTime": {
     "end_time": "2024-05-10T10:51:39.423162Z",
     "start_time": "2024-05-10T10:51:39.413230Z"
    }
   },
   "cell_type": "code",
   "source": [
    "def get_consumption_cost(elec_consumption: float, currency: str, year: int, elec_price: pd.DataFrame) -> float:\n",
    "    greater_tax_tiers = elec_price[\n",
    "        (elec_price['tax_tier'] > elec_consumption)\n",
    "        & (elec_price['currency'] == currency)\n",
    "        & (elec_price['year'] == year)\n",
    "        ]\n",
    "    tax_tier = greater_tax_tiers.iloc[greater_tax_tiers['tax_tier'].argmin()]\n",
    "    return elec_consumption * tax_tier['price']\n",
    "\n",
    "\n",
    "def calculate_energy_cost(wte: float, year: int, currency: str, elec_consumption: pd.DataFrame,\n",
    "                          hh_elec: pd.DataFrame, nh_elec: pd.DataFrame) -> float:\n",
    "    \"\"\"\n",
    "    :param wte: waste to energy\n",
    "    :param elec_consumption: \n",
    "    :param hh_elec_price: \n",
    "    :param nh_elec_price: \n",
    "    :return: \n",
    "    \"\"\"\n",
    "    current_consumption = elec_consumption[elec_consumption['year'] == year]\n",
    "    hh_consumption = current_consumption['hh_consumption'].iloc[0]\n",
    "    nh_consumption = current_consumption['nh_consumption'].iloc[0]\n",
    "    hh_to_total = hh_consumption / (hh_consumption + nh_consumption)\n",
    "    #the absolute part of the total wte. we do this to calculate separately the price of hh and nh elec prices\n",
    "    current_hh_consumption = wte * hh_to_total\n",
    "    current_nh_consumption = wte - current_hh_consumption\n",
    "\n",
    "    hh_consumption_cost = get_consumption_cost(current_hh_consumption, currency=currency, year=year, elec_price=hh_elec)\n",
    "    nh_consumption_cost = get_consumption_cost(current_nh_consumption, currency=currency, year=year, elec_price=nh_elec)\n",
    "    return hh_consumption_cost + nh_consumption_cost\n",
    "\n",
    "\n",
    "# cost = calculate_energy_cost(wte=1250,\n",
    "#                              year=2003,\n",
    "#                              currency='EUR',\n",
    "#                              elec_consumption=elec_consump_processed,\n",
    "#                              hh_elec=elec_hh,\n",
    "#                              nh_elec=elec_nh)\n"
   ],
   "id": "401a26f230a4544f",
   "outputs": [],
   "execution_count": 29
  },
  {
   "metadata": {
    "ExecuteTime": {
     "end_time": "2024-05-10T10:51:40.924236Z",
     "start_time": "2024-05-10T10:51:40.899778Z"
    }
   },
   "cell_type": "code",
   "source": [
    "#unittests to electricity prices\n",
    "#we want to make sure all tax tiers are calculated correctly\n",
    "# unittests could be more robust but this isn't production code\n",
    "import unittest\n",
    "from unittest import TestCase\n",
    "\n",
    "hh_data = {\n",
    "    'currency': ['EUR', 'EUR', 'EUR', 'EUR'],\n",
    "    'tax_tier': [1000, 1000, 2000, 2000],\n",
    "    'year': [2003, 2004, 2003, 2004],\n",
    "    'price': [50, 55, 60, 65]\n",
    "}\n",
    "\n",
    "nh_data = {\n",
    "    'currency': ['EUR', 'EUR', 'EUR', 'EUR'],\n",
    "    'tax_tier': [1000, 1000, 2000, 2000],\n",
    "    'year': [2003, 2004, 2003, 2004],\n",
    "    'price': [25, 30, 35, 40]\n",
    "}\n",
    "\n",
    "consumption_data = {\n",
    "    'year': [2003, 2004],\n",
    "    'hh_consumption': [1, 2],\n",
    "    'nh_consumption': [2, 1]\n",
    "}\n",
    "\n",
    "\n",
    "class ElectricityTotalCostTest(TestCase):\n",
    "    \n",
    "    @classmethod\n",
    "    def setUpClass(cls):\n",
    "        cls.hh_elec_df = pd.DataFrame(hh_data)\n",
    "        cls.nh_elec_df = pd.DataFrame(nh_data)\n",
    "        cls.consumption_df = pd.DataFrame(consumption_data)\n",
    "\n",
    "    def test_get_consumption_cost(self):\n",
    "        hh_cost_1 = get_consumption_cost(elec_consumption=500, currency='EUR', year=2003, elec_price=self.hh_elec_df)\n",
    "        self.assertEquals(hh_cost_1, 500*50)\n",
    "        hh_cost_2 = get_consumption_cost(elec_consumption=1500, currency='EUR', year=2003, elec_price=self.hh_elec_df)\n",
    "        self.assertEquals(hh_cost_2, 1500*60)\n",
    "    \n",
    "    def test_calculate_energy_cost(self):\n",
    "        cost_2003 = calculate_energy_cost(wte=2700,\n",
    "                             year=2003,\n",
    "                             currency='EUR',\n",
    "                             elec_consumption=self.consumption_df,\n",
    "                             hh_elec=self.hh_elec_df,\n",
    "                             nh_elec=self.nh_elec_df)\n",
    "        #hh tax tier up to 1000 is 50\n",
    "        #nh tax tier from 1000 to 2000 is 25\n",
    "        self.assertEquals(cost_2003, 900*50+1800*35)\n",
    "        cost_2004 = calculate_energy_cost(wte=2700,\n",
    "                             year=2004,\n",
    "                             currency='EUR',\n",
    "                             elec_consumption=self.consumption_df,\n",
    "                             hh_elec=self.hh_elec_df,\n",
    "                             nh_elec=self.nh_elec_df)\n",
    "        #hh tax tier in 2004  from 1000 to 20000 is 65\n",
    "        #nh tax tier up in 2004 to 1000 is 30\n",
    "        self.assertEquals(cost_2004, 1800*65+900*30)\n",
    "        \n",
    "        \n",
    "unittest.main(argv=[''], verbosity=2, exit=False)\n"
   ],
   "id": "5c8bd4cc874dc844",
   "outputs": [
    {
     "name": "stderr",
     "output_type": "stream",
     "text": [
      "test_calculate_energy_cost (__main__.ElectricityTotalCostTest.test_calculate_energy_cost) ... C:\\Users\\yarde\\AppData\\Local\\Temp\\ipykernel_29996\\2933955660.py:51: DeprecationWarning: Please use assertEqual instead.\n",
      "  self.assertEquals(cost_2003, 900*50+1800*35)\n",
      "ok\n",
      "test_get_consumption_cost (__main__.ElectricityTotalCostTest.test_get_consumption_cost) ... ok\n",
      "\n",
      "----------------------------------------------------------------------\n",
      "Ran 2 tests in 0.010s\n",
      "\n",
      "OK\n"
     ]
    },
    {
     "data": {
      "text/plain": [
       "<unittest.main.TestProgram at 0x228596add50>"
      ]
     },
     "execution_count": 30,
     "metadata": {},
     "output_type": "execute_result"
    }
   ],
   "execution_count": 30
  },
  {
   "metadata": {
    "ExecuteTime": {
     "end_time": "2024-05-10T10:07:19.547039Z",
     "start_time": "2024-05-10T10:07:13.997633Z"
    }
   },
   "cell_type": "code",
   "source": [
    "#calculating GGDP with current data\n",
    "#Calculating GGDP using base formula\n",
    "\n",
    "#emission cost\n",
    "#carbon tax is us$/ton of CO2\n",
    "finland_ggdp['co2_emission_cost'] = finland_data['finland_co2_kt'] * 1000 * finland_data['finland_carbon_tax']\n",
    "\n",
    "#waste cost\n",
    "#need to add electricity price\n",
    "finland_ggdp['waste_cost'] = finland_data['net_waste'] * 74 * finland_data['electricity_price']\n",
    "\n",
    "\n",
    "#natural resource depletion\n",
    "#finland_ggdp['nrd_cost'] = finland_data['finland_gni_ppp'] * (finland_data['as_nrd_gni']/100)\n",
    "\n",
    "\n",
    "#finland_data.head()\n",
    "# finland_ggdp['Finland','env_cost'] = 123 \n",
    "# finland_ggdp['Finland', 'depletion_cost'] = 123\n",
    "# finland_ggdp['Finland'] = finland_data['GDP'] - finland_data['env_cost'] - finland_data['']\n",
    "# \n",
    "# \n",
    "# \n",
    "# finland_data.head()\n",
    "# \n",
    "# #carbon_pricing_data.rename(columns = lambda x: str.lower(x.replace(' ', '_')), inplace=True)\n",
    "# #dropping all metadata rows\n",
    "# #carbon_pricing_data = carbon_pricing_data.iloc[7:]\n",
    "# #carbon_pricing_data = carbon_pricing_data.apply(pd.to_numeric)\n",
    "# \n",
    "# #eu_ets = carbon_pricing_data['eu_ets']\n",
    "# #finland_carbon_tax = carbon_pricing_data['finland_carbon_tax']\n",
    "# #Finland has two types of carbon tax: Transport fuels, heating fuels which are the same across the whole series\n",
    "# #finland_carbon_tax = finland_carbon_tax.iloc[:,0]\n"
   ],
   "id": "58323f83d2f5d694",
   "outputs": [
    {
     "ename": "KeyError",
     "evalue": "'electricity_price'",
     "output_type": "error",
     "traceback": [
      "\u001B[1;31m---------------------------------------------------------------------------\u001B[0m",
      "\u001B[1;31mKeyError\u001B[0m                                  Traceback (most recent call last)",
      "File \u001B[1;32m~\\anaconda3\\envs\\ggdp-research\\Lib\\site-packages\\pandas\\core\\indexes\\base.py:3805\u001B[0m, in \u001B[0;36mIndex.get_loc\u001B[1;34m(self, key)\u001B[0m\n\u001B[0;32m   3804\u001B[0m \u001B[38;5;28;01mtry\u001B[39;00m:\n\u001B[1;32m-> 3805\u001B[0m     \u001B[38;5;28;01mreturn\u001B[39;00m \u001B[38;5;28;43mself\u001B[39;49m\u001B[38;5;241;43m.\u001B[39;49m\u001B[43m_engine\u001B[49m\u001B[38;5;241;43m.\u001B[39;49m\u001B[43mget_loc\u001B[49m\u001B[43m(\u001B[49m\u001B[43mcasted_key\u001B[49m\u001B[43m)\u001B[49m\n\u001B[0;32m   3806\u001B[0m \u001B[38;5;28;01mexcept\u001B[39;00m \u001B[38;5;167;01mKeyError\u001B[39;00m \u001B[38;5;28;01mas\u001B[39;00m err:\n",
      "File \u001B[1;32mindex.pyx:167\u001B[0m, in \u001B[0;36mpandas._libs.index.IndexEngine.get_loc\u001B[1;34m()\u001B[0m\n",
      "File \u001B[1;32mindex.pyx:196\u001B[0m, in \u001B[0;36mpandas._libs.index.IndexEngine.get_loc\u001B[1;34m()\u001B[0m\n",
      "File \u001B[1;32mpandas\\\\_libs\\\\hashtable_class_helper.pxi:7081\u001B[0m, in \u001B[0;36mpandas._libs.hashtable.PyObjectHashTable.get_item\u001B[1;34m()\u001B[0m\n",
      "File \u001B[1;32mpandas\\\\_libs\\\\hashtable_class_helper.pxi:7089\u001B[0m, in \u001B[0;36mpandas._libs.hashtable.PyObjectHashTable.get_item\u001B[1;34m()\u001B[0m\n",
      "\u001B[1;31mKeyError\u001B[0m: 'electricity_price'",
      "\nThe above exception was the direct cause of the following exception:\n",
      "\u001B[1;31mKeyError\u001B[0m                                  Traceback (most recent call last)",
      "Cell \u001B[1;32mIn[11], line 10\u001B[0m\n\u001B[0;32m      6\u001B[0m finland_ggdp[\u001B[38;5;124m'\u001B[39m\u001B[38;5;124mco2_emission_cost\u001B[39m\u001B[38;5;124m'\u001B[39m] \u001B[38;5;241m=\u001B[39m finland_data[\u001B[38;5;124m'\u001B[39m\u001B[38;5;124mfinland_co2_kt\u001B[39m\u001B[38;5;124m'\u001B[39m] \u001B[38;5;241m*\u001B[39m \u001B[38;5;241m1000\u001B[39m \u001B[38;5;241m*\u001B[39m finland_data[\u001B[38;5;124m'\u001B[39m\u001B[38;5;124mfinland_carbon_tax\u001B[39m\u001B[38;5;124m'\u001B[39m]\n\u001B[0;32m      8\u001B[0m \u001B[38;5;66;03m#waste cost\u001B[39;00m\n\u001B[0;32m      9\u001B[0m \u001B[38;5;66;03m#need to add electricity price\u001B[39;00m\n\u001B[1;32m---> 10\u001B[0m finland_ggdp[\u001B[38;5;124m'\u001B[39m\u001B[38;5;124mwaste_cost\u001B[39m\u001B[38;5;124m'\u001B[39m] \u001B[38;5;241m=\u001B[39m finland_data[\u001B[38;5;124m'\u001B[39m\u001B[38;5;124mnet_waste\u001B[39m\u001B[38;5;124m'\u001B[39m] \u001B[38;5;241m*\u001B[39m \u001B[38;5;241m74\u001B[39m \u001B[38;5;241m*\u001B[39m \u001B[43mfinland_data\u001B[49m\u001B[43m[\u001B[49m\u001B[38;5;124;43m'\u001B[39;49m\u001B[38;5;124;43melectricity_price\u001B[39;49m\u001B[38;5;124;43m'\u001B[39;49m\u001B[43m]\u001B[49m\n\u001B[0;32m     13\u001B[0m \u001B[38;5;66;03m#natural resource depletion\u001B[39;00m\n\u001B[0;32m     14\u001B[0m \u001B[38;5;66;03m#finland_ggdp['nrd_cost'] = finland_data['finland_gni_ppp'] * (finland_data['as_nrd_gni']/100)\u001B[39;00m\n\u001B[0;32m     15\u001B[0m \n\u001B[1;32m   (...)\u001B[0m\n\u001B[0;32m     33\u001B[0m \u001B[38;5;66;03m# #Finland has two types of carbon tax: Transport fuels, heating fuels which are the same across the whole series\u001B[39;00m\n\u001B[0;32m     34\u001B[0m \u001B[38;5;66;03m# #finland_carbon_tax = finland_carbon_tax.iloc[:,0]\u001B[39;00m\n",
      "File \u001B[1;32m~\\anaconda3\\envs\\ggdp-research\\Lib\\site-packages\\pandas\\core\\frame.py:4102\u001B[0m, in \u001B[0;36mDataFrame.__getitem__\u001B[1;34m(self, key)\u001B[0m\n\u001B[0;32m   4100\u001B[0m \u001B[38;5;28;01mif\u001B[39;00m \u001B[38;5;28mself\u001B[39m\u001B[38;5;241m.\u001B[39mcolumns\u001B[38;5;241m.\u001B[39mnlevels \u001B[38;5;241m>\u001B[39m \u001B[38;5;241m1\u001B[39m:\n\u001B[0;32m   4101\u001B[0m     \u001B[38;5;28;01mreturn\u001B[39;00m \u001B[38;5;28mself\u001B[39m\u001B[38;5;241m.\u001B[39m_getitem_multilevel(key)\n\u001B[1;32m-> 4102\u001B[0m indexer \u001B[38;5;241m=\u001B[39m \u001B[38;5;28;43mself\u001B[39;49m\u001B[38;5;241;43m.\u001B[39;49m\u001B[43mcolumns\u001B[49m\u001B[38;5;241;43m.\u001B[39;49m\u001B[43mget_loc\u001B[49m\u001B[43m(\u001B[49m\u001B[43mkey\u001B[49m\u001B[43m)\u001B[49m\n\u001B[0;32m   4103\u001B[0m \u001B[38;5;28;01mif\u001B[39;00m is_integer(indexer):\n\u001B[0;32m   4104\u001B[0m     indexer \u001B[38;5;241m=\u001B[39m [indexer]\n",
      "File \u001B[1;32m~\\anaconda3\\envs\\ggdp-research\\Lib\\site-packages\\pandas\\core\\indexes\\base.py:3812\u001B[0m, in \u001B[0;36mIndex.get_loc\u001B[1;34m(self, key)\u001B[0m\n\u001B[0;32m   3807\u001B[0m     \u001B[38;5;28;01mif\u001B[39;00m \u001B[38;5;28misinstance\u001B[39m(casted_key, \u001B[38;5;28mslice\u001B[39m) \u001B[38;5;129;01mor\u001B[39;00m (\n\u001B[0;32m   3808\u001B[0m         \u001B[38;5;28misinstance\u001B[39m(casted_key, abc\u001B[38;5;241m.\u001B[39mIterable)\n\u001B[0;32m   3809\u001B[0m         \u001B[38;5;129;01mand\u001B[39;00m \u001B[38;5;28many\u001B[39m(\u001B[38;5;28misinstance\u001B[39m(x, \u001B[38;5;28mslice\u001B[39m) \u001B[38;5;28;01mfor\u001B[39;00m x \u001B[38;5;129;01min\u001B[39;00m casted_key)\n\u001B[0;32m   3810\u001B[0m     ):\n\u001B[0;32m   3811\u001B[0m         \u001B[38;5;28;01mraise\u001B[39;00m InvalidIndexError(key)\n\u001B[1;32m-> 3812\u001B[0m     \u001B[38;5;28;01mraise\u001B[39;00m \u001B[38;5;167;01mKeyError\u001B[39;00m(key) \u001B[38;5;28;01mfrom\u001B[39;00m \u001B[38;5;21;01merr\u001B[39;00m\n\u001B[0;32m   3813\u001B[0m \u001B[38;5;28;01mexcept\u001B[39;00m \u001B[38;5;167;01mTypeError\u001B[39;00m:\n\u001B[0;32m   3814\u001B[0m     \u001B[38;5;66;03m# If we have a listlike key, _check_indexing_error will raise\u001B[39;00m\n\u001B[0;32m   3815\u001B[0m     \u001B[38;5;66;03m#  InvalidIndexError. Otherwise we fall through and re-raise\u001B[39;00m\n\u001B[0;32m   3816\u001B[0m     \u001B[38;5;66;03m#  the TypeError.\u001B[39;00m\n\u001B[0;32m   3817\u001B[0m     \u001B[38;5;28mself\u001B[39m\u001B[38;5;241m.\u001B[39m_check_indexing_error(key)\n",
      "\u001B[1;31mKeyError\u001B[0m: 'electricity_price'"
     ]
    }
   ],
   "execution_count": 11
  },
  {
   "metadata": {},
   "cell_type": "code",
   "outputs": [],
   "execution_count": null,
   "source": "",
   "id": "dc612f7c6e8636e0"
  }
 ],
 "metadata": {
  "kernelspec": {
   "display_name": "Python 3 (ipykernel)",
   "language": "python",
   "name": "python3"
  },
  "language_info": {
   "codemirror_mode": {
    "name": "ipython",
    "version": 3
   },
   "file_extension": ".py",
   "mimetype": "text/x-python",
   "name": "python",
   "nbconvert_exporter": "python",
   "pygments_lexer": "ipython3",
   "version": "3.11.9"
  }
 },
 "nbformat": 4,
 "nbformat_minor": 5
}
