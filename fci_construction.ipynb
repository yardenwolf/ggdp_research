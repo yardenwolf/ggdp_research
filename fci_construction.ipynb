{
 "cells": [
  {
   "metadata": {},
   "cell_type": "markdown",
   "source": [
    "# FCI Construction\n",
    "In order to perform a robust quantile analysis we need some sort of FCI (Financial Conditions Index) for Finland.\n",
    "In order to perform quantile regression it is suggested to use PCA to find the indicators which explain in the best way variance in the data. \n",
    "I am now going to read about Finland's economy in order to come up with a set of financial indicators that I can conduct the analysis on and choose a few indicators to create a partition from."
   ],
   "id": "fec819a7cf09960a"
  },
  {
   "metadata": {},
   "cell_type": "markdown",
   "source": [
    "## Finland's Economy\n",
    "From IMF report on Finland\n",
    "The Finnish banking sector is highly interconnected with the wider Nordic/Baltic\n",
    "region - This brings financial diversification, but also considerable contagion risk. Finnish banks’ net\n",
    "foreign assets have gradually increased since the GFC and are 26.5 percent of GDP. The largest cross\n",
    "border exposures are to the Nordics and euro area. The banking sector is also exposed to indirect\n",
    "linkages from trade, with largest trade exposures to Germany, Sweden, the United States, and the\n",
    "Russian Federation\n",
    "\n",
    "| Indicator            | Description                                                             | Where is it taken from | url |\n",
    "|----------------------|-------------------------------------------------------------------------|------------------------|-----|\n",
    "| Interest Rate        | Title                                                                   |                        |     |\n",
    "| House price growth   | Text                                                                    |                        |     |\n",
    "| Credit to GDP growth | Text                                                                    |                        |     |\n",
    "| Credit to GDP Gap    | How leveraged the economy is. An indicator of a heating/cooling economy |                        |     |\n",
    "| House price growth   | Text                                                                    |                        |     |\n",
    "\n",
    "Another option is to create an FCI (Financial Conditions Index) for finland. There are different methods for doing this but it requires more analysis.\n",
    "\n",
    "\n",
    "### Data and their source\n",
    "\n",
    "\n",
    "Long term government bonds yields - https://fred.stlouisfed.org/series/IRLTLT01FIA156N\n",
    "Short term bond yields (3 months) - https://fred.stlouisfed.org/series/IR3TIB01FIM156N\n",
    "Dollar/Euro Exchange rate - https://fred.stlouisfed.org/series/CCUSMA02FIA618N\n",
    "Real Residential Property Prices for Finland - https://fred.stlouisfed.org/series/QFIR628BIS#0 annual data aggregated by average\n",
    "Financial Market: Share Prices for Finland - https://fred.stlouisfed.org/series/SPASTT01FIM661N\n",
    "Volatility of Stock Price Index for Finland - https://fred.stlouisfed.org/series/DDSM01FIA066NWDB\n",
    " Consumer Price Indices (CPIs, HICPs), COICOP 1999: Consumer Price Index: Total for Finland - https://fred.stlouisfed.org/series/FINCPIALLMINMEI#0\n",
    "\n",
    "FRED data\n",
    "\n",
    "\n",
    "Stock market - OMX Helsinki 25 index\n",
    "Interest rate spread - profitability of the banks. the spread between how much banks earn on loans and how much they earn on deposits at the central bank.\n",
    "Finland changed from Helibbor to Euribor\n",
    "Interest rates - lending, deposit and combinations of them.\n",
    "debt - central government debt?\n",
    "different credit info?\n",
    "\n",
    "\n",
    "Credit - ???\n",
    "\n"
   ],
   "id": "9bb9470bee088676"
  },
  {
   "metadata": {},
   "cell_type": "code",
   "outputs": [],
   "execution_count": null,
   "source": "",
   "id": "689b4a91f4b37322"
  }
 ],
 "metadata": {
  "kernelspec": {
   "display_name": "Python 3",
   "language": "python",
   "name": "python3"
  },
  "language_info": {
   "codemirror_mode": {
    "name": "ipython",
    "version": 2
   },
   "file_extension": ".py",
   "mimetype": "text/x-python",
   "name": "python",
   "nbconvert_exporter": "python",
   "pygments_lexer": "ipython2",
   "version": "2.7.6"
  }
 },
 "nbformat": 4,
 "nbformat_minor": 5
}
