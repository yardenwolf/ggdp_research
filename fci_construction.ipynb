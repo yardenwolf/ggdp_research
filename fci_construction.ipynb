{
 "cells": [
  {
   "metadata": {},
   "cell_type": "markdown",
   "source": [
    "# FCI Construction\n",
    "In order to perform a robust quantile analysis we need some sort of FCI (Financial Conditions Index) for Finland.\n",
    "In order to perform quantile regression it is suggested to use PCA to find the indicators which explain in the best way variance in the data. \n",
    "I am now going to read about Finland's economy in order to come up with a set of financial indicators that I can conduct the analysis on and choose a few indicators to create a partition from."
   ],
   "id": "fec819a7cf09960a"
  },
  {
   "metadata": {},
   "cell_type": "markdown",
   "source": [
    "## Finland's Economy\n",
    "From IMF report on Finland\n",
    "The Finnish banking sector is highly interconnected with the wider Nordic/Baltic\n",
    "region - This brings financial diversification, but also considerable contagion risk. Finnish banks’ net\n",
    "foreign assets have gradually increased since the GFC and are 26.5 percent of GDP. The largest cross\n",
    "border exposures are to the Nordics and euro area. The banking sector is also exposed to indirect\n",
    "linkages from trade, with largest trade exposures to Germany, Sweden, the United States, and the\n",
    "Russian Federation\n",
    "\n",
    "| Indicator            | Description                                                             | Where is it taken from | url |\n",
    "|----------------------|-------------------------------------------------------------------------|------------------------|-----|\n",
    "| Interest Rate        | Title                                                                   |                        |     |\n",
    "| House price growth   | Text                                                                    |                        |     |\n",
    "| Credit to GDP growth | Text                                                                    |                        |     |\n",
    "| Credit to GDP Gap    | How leveraged the economy is. An indicator of a heating/cooling economy |                        |     |\n",
    "| House price growth   | Text                                                                    |                        |     |\n",
    "\n",
    "Another option is to create an FCI (Financial Conditions Index) for finland. There are different methods for doing this but it requires more analysis.\n",
    "\n",
    "\n",
    "### Data and their source\n",
    "\n",
    "\n",
    "Long term government bonds yields - https://fred.stlouisfed.org/series/IRLTLT01FIA156N \\\n",
    "Short term bond yields (3 months) - https://fred.stlouisfed.org/series/IR3TIB01FIM156N \\\n",
    "Dollar/Euro Exchange rate - https://fred.stlouisfed.org/series/CCUSMA02FIA618N \\\n",
    "Real Residential Property Prices for Finland - https://fred.stlouisfed.org/series/QFIR628BIS#0 annual data aggregated by average\n",
    "\\\n",
    "Financial Market: Share Prices for Finland - https://fred.stlouisfed.org/series/SPASTT01FIM661N \\ \n",
    "Volatility of Stock Price Index for Finland - https://fred.stlouisfed.org/series/DDSM01FIA066NWDB \\\n",
    " Consumer Price Indices (CPIs, HICPs), COICOP 1999: Consumer Price Index: Total for Finland - https://fred.stlouisfed.org/series/FINCPIALLMINMEI#0 \\\n",
    "\n",
    "Total Credit to Households and Non-Profit Institutions Serving Households - https://fred.stlouisfed.org/series/CRDQFIAHUBIS#0\n",
    "\n",
    "\n",
    "FRED data\n",
    "\n",
    "\n",
    "Stock market - OMX Helsinki 25 index\n",
    "Interest rate spread - profitability of the banks. the spread between how much banks earn on loans and how much they earn on deposits at the central bank.\n",
    "Finland changed from Helibbor to Euribor\n",
    "Interest rates - lending, deposit and combinations of them.\n",
    "debt - central government debt?\n",
    "different credit info?\n",
    "\n",
    "\n",
    "Credit - ???\n",
    "\n"
   ],
   "id": "9bb9470bee088676"
  },
  {
   "metadata": {},
   "cell_type": "markdown",
   "source": [
    "FCI plan:\n",
    "First get all quarterly data\n",
    "create a quarterly fci and an annual fci (by using averages over annual data)\n",
    "maybe later: use midas probit model on the quarterly fci in order to weight the different fci samples each quarter\n"
   ],
   "id": "b0aa0e588c42f478"
  },
  {
   "metadata": {
    "ExecuteTime": {
     "end_time": "2024-06-04T13:27:53.615518Z",
     "start_time": "2024-06-04T13:27:53.604545Z"
    }
   },
   "cell_type": "code",
   "source": [
    "#specifying where to fetch the data for different factors for the FCI\n",
    "\n",
    "data_map = {\n",
    "    'long_term_rates': {\n",
    "        'path': 'fci_data/FRED/fred_long_term_gvmt_bonds_10_years.csv',\n",
    "        'date_column_name': 'DATE',\n",
    "        'price_column_name': 'IRLTLT01FIA156N',\n",
    "        'rename_map': {\n",
    "            'price': 'long_term_yield',\n",
    "            'growth': 'long_term_yield_growth'\n",
    "        }\n",
    "    },\n",
    "    'short_term_rates': {\n",
    "        'path': 'fci_data/FRED/fred_short_term_gvmt_bonds_3_months.csv',\n",
    "        'date_column_name': 'DATE',\n",
    "        'price_column_name': 'IR3TIB01FIM156N',\n",
    "        'rename_map': {\n",
    "            'price': 'short_term_yield',\n",
    "            'growth': 'short_term_yield_growth'\n",
    "        }\n",
    "    },\n",
    "    'dollar_to_euro_exchange': {\n",
    "        'path': 'fci_data/FRED/fred_dollar_to_euro_exchange_rate.csv',\n",
    "        'date_column_name': 'DATE',\n",
    "        'price_column_name': 'CCUSMA02FIA618N',\n",
    "        'rename_map': {\n",
    "            'price': 'dollar_to_euro_exchange',\n",
    "            'growth': 'dollar_to_euro_exchange_growth'\n",
    "        }\n",
    "    },\n",
    "    'real_prop_price': {\n",
    "        'path': 'fci_data/FRED/fred_real_resedential_property_prices_agg_average.csv',\n",
    "        'date_column_name': 'DATE',\n",
    "        'price_column_name': 'QFIR628BIS',\n",
    "        'rename_map': {\n",
    "            'price': 'real_prop_price',\n",
    "            'growth': 'real_prop_price_growth'\n",
    "        }\n",
    "    },\n",
    "    'omx_helsinki_25': {\n",
    "        'path': 'fci_data/OMX Helsinki 25 Historical Price Data.csv',\n",
    "        'date_column_name': 'Date',\n",
    "        'price_column_name': 'Price',\n",
    "        'rename_map': {\n",
    "            'price': 'omx25_price',\n",
    "            'growth': 'omx25_price_growth'\n",
    "        }\n",
    "    },\n",
    "    'equity_price': {\n",
    "        'path': 'fci_data/FRED/fred_share_price_for_finland.csv',\n",
    "        'date_column_name': 'DATE',\n",
    "        'price_column_name': 'SPASTT01FIM661N',\n",
    "        'rename_map': {\n",
    "            'price': 'equity_price',\n",
    "            'growth': 'equity_price_growth'\n",
    "        }\n",
    "    },\n",
    "    'equity_volatility': {\n",
    "        'path': 'fci_data/FRED/fred_volatility_stock_price_index.csv',\n",
    "        'date_column_name': 'DATE',\n",
    "        'price_column_name': 'DDSM01FIA066NWDB',\n",
    "        'rename_map': {\n",
    "            'price': 'equity_volatility',\n",
    "            'growth': 'equity_volatility_growth'\n",
    "        }\n",
    "    },\n",
    "    'credit': {\n",
    "        'path': 'fci_data/FRED/fred_credit_hh_np_quarterly.csv',\n",
    "        'date_column_name': 'DATE',\n",
    "        'price_column_name': 'CRDQFIAHUBIS',\n",
    "        'rename_map': {\n",
    "            'price': 'credit_value',\n",
    "            'growth': 'credit_growth'\n",
    "        }\n",
    "    }\n",
    "}"
   ],
   "id": "54e4bc2e3b065990",
   "outputs": [],
   "execution_count": 43
  },
  {
   "metadata": {
    "ExecuteTime": {
     "end_time": "2024-06-04T13:27:54.709795Z",
     "start_time": "2024-06-04T13:27:54.651470Z"
    }
   },
   "cell_type": "code",
   "source": [
    "import pandas as pd\n",
    "from fci_functions import read_and_process_data, process_data_for_fci, join_and_normalize_data\n",
    "\n",
    "#Loading data according to the map\n",
    "long_term_rates = read_and_process_data(**data_map['long_term_rates'])\n",
    "short_term_rates = read_and_process_data(**data_map['short_term_rates'])\n",
    "dollar_to_euro_exchange_rate = read_and_process_data(**data_map['dollar_to_euro_exchange'])\n",
    "real_res_prop_price = read_and_process_data(**data_map['real_prop_price'])\n",
    "\n",
    "omx_helsinki_25 = pd.read_csv('fci_data/OMX Helsinki 25 Historical Price Data.csv')\n",
    "omx_helsinki_25['Price'] = omx_helsinki_25['Price'].apply(lambda x: x.replace(',', ''))\n",
    "omx_helsinki_25 = process_data_for_fci(omx_helsinki_25, 'Date', 'Price')\n",
    "omx_helsinki_25 = omx_helsinki_25.rename(columns={'price': 'omx25_price'})\n",
    "\n",
    "equity_price = read_and_process_data(**data_map['equity_price'])\n",
    "equity_volatility = read_and_process_data(**data_map['equity_volatility'])\n",
    "credit_data = read_and_process_data(**data_map['credit'])"
   ],
   "id": "c48e1c34efff1783",
   "outputs": [],
   "execution_count": 44
  },
  {
   "metadata": {},
   "cell_type": "markdown",
   "source": [
    "## Weighted Average FSI - financial stress indicator\n",
    "According to a study by the ECB: https://www.ecb.europa.eu/pub/pdf/scpwps/ecb.wp2451~cbf3f02232.en.pdf\n",
    "a simple weighted avergage with weights according to what we know can prove to be better than some very complicated methods for deriving FCIs.\n",
    "I might want to use partitions and partition the data into 3 different categories according to the IMF's GaR guide.\n",
    "At the moment I'm just trying to build a simple pipeline to see that I know how to do all the steps."
   ],
   "id": "ec8b09dee3ed36b5"
  },
  {
   "metadata": {
    "ExecuteTime": {
     "end_time": "2024-06-04T14:31:48.700587Z",
     "start_time": "2024-06-04T14:31:48.684988Z"
    }
   },
   "cell_type": "code",
   "source": [
    "from fci_functions import serial_join, create_wa_fci_from_data\n",
    "\n",
    "wa_fsi_weights = {'credit_growth': 10,\n",
    "                  'long_term_yield': 15,\n",
    "                  'short_term_yield': 15,\n",
    "                  'equity_price_growth': -15,\n",
    "                  'equity_volatility': 25,\n",
    "                  'real_prop_price_growth': -15,\n",
    "                  'dollar_to_euro_exchange': 5}\n",
    "\n",
    "factors_joint_df = serial_join(\n",
    "    [credit_data, long_term_rates, short_term_rates, equity_price, equity_volatility, real_res_prop_price,\n",
    "     dollar_to_euro_exchange_rate])\n",
    "wa_fsi = create_wa_fci_from_data(factors_joint_df, wa_fsi_weights)"
   ],
   "id": "cced7a1ee216d6b5",
   "outputs": [],
   "execution_count": 61
  },
  {
   "metadata": {
    "ExecuteTime": {
     "end_time": "2024-06-04T14:31:51.382781Z",
     "start_time": "2024-06-04T14:31:51.280664Z"
    }
   },
   "cell_type": "code",
   "source": [
    "import numpy as np\n",
    "import statsmodels.api as sm\n",
    "import statsmodels.formula.api as smf\n",
    "import matplotlib.pyplot as plt\n",
    "\n",
    "#bind data together\n",
    "#load ggdp data\n",
    "\n",
    "ggdp_data = pd.read_pickle('ggdp_processed_data/finland_ggdp_imputed.pkl')\n",
    "ggdp_data = ggdp_data[['ggdp_ppp_growth', 'ggdp_real_growth']]\n",
    "ggdp_data.index = ggdp_data.index.rename('year')\n",
    "ggdp_data.index = ggdp_data.index.astype('int')\n",
    "\n",
    "quantile_reg_data = ggdp_data.join(wa_fsi)\n",
    "\n",
    "plt.plot(ggdp_data)\n",
    "\n",
    "t = quantile_reg_data.index.to_list()\n",
    "plt.plot(t,quantile_reg_data['ggdp_ppp_growth']*100,'r')\n",
    "plt.plot(t,quantile_reg_data['ggdp_real_growth']*100,'b')\n",
    "plt.plot(t,quantile_reg_data['fci'], 'g')\n",
    "plt.show()\n",
    "\n",
    "# quantiles = np.arange(0.05, 0.96, 0.1)\n",
    "# mod = smf.quantreg(\"ggdp_ppp_growth ~ fci\", quantile_reg_data.dropna(axis=0, how='any'))\n",
    "# res = mod.fit(q=0.2)\n",
    "# print(res.summary())\n",
    "\n",
    "\n",
    "#quantile regression\n"
   ],
   "id": "33819fc967ae3c6f",
   "outputs": [
    {
     "data": {
      "text/plain": [
       "<Figure size 640x480 with 1 Axes>"
      ],
      "image/png": "[encoded data removed]"
     },
     "metadata": {},
     "output_type": "display_data"
    }
   ],
   "execution_count": 62
  },
  {
   "metadata": {
    "ExecuteTime": {
     "end_time": "2024-06-04T14:50:18.828712Z",
     "start_time": "2024-06-04T14:49:47.116285Z"
    }
   },
   "cell_type": "code",
   "source": [
    "from sklearn.decomposition import PCA\n",
    "\n",
    "pca = PCA(n_components=1)\n",
    "\n",
    "#using PCA to create an index\n",
    "fci_clean = factors_joint_df.dropna(axis=0, how='any')\n",
    "fci_filtered = fci_clean[['credit_growth', 'long_term_yield', 'short_term_yield' ,'equity_price_growth', 'equity_volatility', 'real_prop_price_growth', 'dollar_to_euro_exchange']]\n",
    "fci_norm= (fci_filtered - fci_filtered.mean())/fci_filtered.std()\n",
    "\n",
    "#calculating the fci using all the data\n",
    "fci_data = fci_norm @ pca.fit(fci_norm).components_.transpose()\n",
    "fci_data.columns = ['fci']\n",
    "#fci_data = pca.fit_transform(fci_norm)\n",
    "\n",
    "quantile_reg_data = ggdp_data.join(fci_data)\n",
    "\n",
    "plt.plot(ggdp_data)\n",
    "\n",
    "t = quantile_reg_data.index.to_list()\n",
    "plt.plot(t,quantile_reg_data['ggdp_ppp_growth']*100,'r')\n",
    "plt.plot(t,quantile_reg_data['ggdp_real_growth']*100,'b')\n",
    "plt.plot(t,quantile_reg_data['fci'], 'g')\n",
    "plt.show()\n",
    "\n"
   ],
   "id": "cf7f1008922e5c78",
   "outputs": [
    {
     "ename": "KeyboardInterrupt",
     "evalue": "",
     "output_type": "error",
     "traceback": [
      "\u001B[1;31m---------------------------------------------------------------------------\u001B[0m",
      "\u001B[1;31mKeyboardInterrupt\u001B[0m                         Traceback (most recent call last)",
      "Cell \u001B[1;32mIn[75], line 15\u001B[0m\n\u001B[0;32m     12\u001B[0m fci_data\u001B[38;5;241m.\u001B[39mcolumns \u001B[38;5;241m=\u001B[39m [\u001B[38;5;124m'\u001B[39m\u001B[38;5;124mfci\u001B[39m\u001B[38;5;124m'\u001B[39m]\n\u001B[0;32m     13\u001B[0m \u001B[38;5;66;03m#fci_data = pca.fit_transform(fci_norm)\u001B[39;00m\n\u001B[1;32m---> 15\u001B[0m quantile_reg_data \u001B[38;5;241m=\u001B[39m \u001B[43mggdp_data\u001B[49m\u001B[38;5;241m.\u001B[39mjoin(fci_data)\n\u001B[0;32m     17\u001B[0m plt\u001B[38;5;241m.\u001B[39mplot(ggdp_data)\n\u001B[0;32m     19\u001B[0m t \u001B[38;5;241m=\u001B[39m quantile_reg_data\u001B[38;5;241m.\u001B[39mindex\u001B[38;5;241m.\u001B[39mto_list()\n",
      "File \u001B[1;32m_pydevd_bundle\\\\pydevd_cython_win32_311_64.pyx:1187\u001B[0m, in \u001B[0;36m_pydevd_bundle.pydevd_cython_win32_311_64.SafeCallWrapper.__call__\u001B[1;34m()\u001B[0m\n",
      "File \u001B[1;32m_pydevd_bundle\\\\pydevd_cython_win32_311_64.pyx:627\u001B[0m, in \u001B[0;36m_pydevd_bundle.pydevd_cython_win32_311_64.PyDBFrame.trace_dispatch\u001B[1;34m()\u001B[0m\n",
      "File \u001B[1;32m_pydevd_bundle\\\\pydevd_cython_win32_311_64.pyx:937\u001B[0m, in \u001B[0;36m_pydevd_bundle.pydevd_cython_win32_311_64.PyDBFrame.trace_dispatch\u001B[1;34m()\u001B[0m\n",
      "File \u001B[1;32m_pydevd_bundle\\\\pydevd_cython_win32_311_64.pyx:928\u001B[0m, in \u001B[0;36m_pydevd_bundle.pydevd_cython_win32_311_64.PyDBFrame.trace_dispatch\u001B[1;34m()\u001B[0m\n",
      "File \u001B[1;32m_pydevd_bundle\\\\pydevd_cython_win32_311_64.pyx:585\u001B[0m, in \u001B[0;36m_pydevd_bundle.pydevd_cython_win32_311_64.PyDBFrame.do_wait_suspend\u001B[1;34m()\u001B[0m\n",
      "File \u001B[1;32mC:\\Program Files\\JetBrains\\PyCharm 2024.1\\plugins\\python\\helpers\\pydev\\pydevd.py:1185\u001B[0m, in \u001B[0;36mPyDB.do_wait_suspend\u001B[1;34m(self, thread, frame, event, arg, send_suspend_message, is_unhandled_exception)\u001B[0m\n\u001B[0;32m   1182\u001B[0m         from_this_thread\u001B[38;5;241m.\u001B[39mappend(frame_id)\n\u001B[0;32m   1184\u001B[0m \u001B[38;5;28;01mwith\u001B[39;00m \u001B[38;5;28mself\u001B[39m\u001B[38;5;241m.\u001B[39m_threads_suspended_single_notification\u001B[38;5;241m.\u001B[39mnotify_thread_suspended(thread_id, stop_reason):\n\u001B[1;32m-> 1185\u001B[0m     \u001B[38;5;28;43mself\u001B[39;49m\u001B[38;5;241;43m.\u001B[39;49m\u001B[43m_do_wait_suspend\u001B[49m\u001B[43m(\u001B[49m\u001B[43mthread\u001B[49m\u001B[43m,\u001B[49m\u001B[43m \u001B[49m\u001B[43mframe\u001B[49m\u001B[43m,\u001B[49m\u001B[43m \u001B[49m\u001B[43mevent\u001B[49m\u001B[43m,\u001B[49m\u001B[43m \u001B[49m\u001B[43marg\u001B[49m\u001B[43m,\u001B[49m\u001B[43m \u001B[49m\u001B[43msuspend_type\u001B[49m\u001B[43m,\u001B[49m\u001B[43m \u001B[49m\u001B[43mfrom_this_thread\u001B[49m\u001B[43m)\u001B[49m\n",
      "File \u001B[1;32mC:\\Program Files\\JetBrains\\PyCharm 2024.1\\plugins\\python\\helpers\\pydev\\pydevd.py:1200\u001B[0m, in \u001B[0;36mPyDB._do_wait_suspend\u001B[1;34m(self, thread, frame, event, arg, suspend_type, from_this_thread)\u001B[0m\n\u001B[0;32m   1197\u001B[0m             \u001B[38;5;28mself\u001B[39m\u001B[38;5;241m.\u001B[39m_call_mpl_hook()\n\u001B[0;32m   1199\u001B[0m         \u001B[38;5;28mself\u001B[39m\u001B[38;5;241m.\u001B[39mprocess_internal_commands()\n\u001B[1;32m-> 1200\u001B[0m         time\u001B[38;5;241m.\u001B[39msleep(\u001B[38;5;241m0.01\u001B[39m)\n\u001B[0;32m   1202\u001B[0m \u001B[38;5;28mself\u001B[39m\u001B[38;5;241m.\u001B[39mcancel_async_evaluation(get_current_thread_id(thread), \u001B[38;5;28mstr\u001B[39m(\u001B[38;5;28mid\u001B[39m(frame)))\n\u001B[0;32m   1204\u001B[0m \u001B[38;5;66;03m# process any stepping instructions\u001B[39;00m\n",
      "\u001B[1;31mKeyboardInterrupt\u001B[0m: "
     ]
    }
   ],
   "execution_count": 75
  },
  {
   "metadata": {},
   "cell_type": "code",
   "outputs": [],
   "execution_count": null,
   "source": "## 3 Partitions",
   "id": "1c1791604c30facd"
  },
  {
   "metadata": {},
   "cell_type": "code",
   "outputs": [],
   "execution_count": null,
   "source": "#creating 3 partitions\n",
   "id": "6d1a7d32c953113"
  },
  {
   "metadata": {},
   "cell_type": "code",
   "outputs": [],
   "execution_count": null,
   "source": [
    "import numpy as np\n",
    "\n",
    "from sklearn.decomposition import PCA\n",
    "from sklearn.preprocessing import StandardScaler\n",
    "\n",
    "# # Standardize the data\n",
    "# scaler = StandardScaler()\n",
    "# standardized_data = scaler.fit_transform(data)\n",
    "# \n",
    "# # Apply PCA\n",
    "# pca = PCA()\n",
    "# pca.fit(standardized_data)\n",
    "# \n",
    "# # First principal component\n",
    "# fci = pca.transform(standardized_data)[:, 0]\n",
    "# \n",
    "# # Add FCI to the dataframe\n",
    "# data['FCI'] = fci\n",
    "# \n",
    "# import ace_tools as tools; tools.display_dataframe_to_user(name=\"FCI Data\", dataframe=data)\n",
    "# \n",
    "# # Display the first few rows of the FCI\n",
    "# data.head()"
   ],
   "id": "689b4a91f4b37322"
  },
  {
   "metadata": {},
   "cell_type": "code",
   "outputs": [],
   "execution_count": null,
   "source": [
    "#MIDAS PROBIT\n",
    "\n",
    "import numpy as np\n",
    "import pandas as pd\n",
    "import statsmodels.api as sm\n",
    "from scipy.stats import norm\n",
    "\n",
    "# Example data\n",
    "quarterly_data = pd.read_csv(\"quarterly_data.csv\")  # Load your quarterly data\n",
    "annual_data = pd.read_csv(\"annual_data.csv\")  # Load your annual outcome data\n",
    "\n",
    "\n",
    "# Define your weighting function (beta)\n",
    "def beta_weights(K, theta1, theta2):\n",
    "    weights = [((k / (K + 1)) ** (theta1 - 1) * (1 - (k / (K + 1))) ** (theta2 - 1)) for k in range(1, K + 1)]\n",
    "    return weights / np.sum(weights)\n",
    "\n",
    "\n",
    "# Apply weights to quarterly predictors\n",
    "def aggregate_predictors(quarterly_data, K, theta1, theta2):\n",
    "    weights = beta_weights(K, theta1, theta2)\n",
    "    aggregated = np.dot(quarterly_data[-K:], weights)\n",
    "    return aggregated\n",
    "\n",
    "\n",
    "# Fit the MIDAS-Probit model\n",
    "def fit_midas_probit(quarterly_data, annual_data, K, theta1, theta2):\n",
    "    aggregated_predictors = np.array(\n",
    "        [aggregate_predictors(quarterly_data[i:i + K], K, theta1, theta2) for i in range(len(annual_data))])\n",
    "    model = sm.Probit(annual_data, sm.add_constant(aggregated_predictors))\n",
    "    result = model.fit()\n",
    "    return result\n",
    "\n",
    "\n",
    "# Example usage\n",
    "K = 4 * 5  # 5 years of quarterly data\n",
    "theta1, theta2 = 2, 2\n",
    "result = fit_midas_probit(quarterly_data, annual_data, K, theta1, theta2)\n",
    "\n",
    "# Forecasting\n",
    "new_quarterly_data = pd.read_csv(\"new_quarterly_data.csv\")  # New quarterly data for forecasting\n",
    "aggregated_predictors_new = aggregate_predictors(new_quarterly_data, K, theta1, theta2)\n",
    "forecast_probability = norm.cdf(result.params[0] + result.params[1] * aggregated_predictors_new)\n",
    "print(f\"Forecasted Probability: {forecast_probability}\")\n",
    "\n",
    "\n"
   ],
   "id": "ad4d6176059da3f1"
  }
 ],
 "metadata": {
  "kernelspec": {
   "display_name": "Python 3",
   "language": "python",
   "name": "python3"
  },
  "language_info": {
   "codemirror_mode": {
    "name": "ipython",
    "version": 2
   },
   "file_extension": ".py",
   "mimetype": "text/x-python",
   "name": "python",
   "nbconvert_exporter": "python",
   "pygments_lexer": "ipython2",
   "version": "2.7.6"
  }
 },
 "nbformat": 4,
 "nbformat_minor": 5
}
